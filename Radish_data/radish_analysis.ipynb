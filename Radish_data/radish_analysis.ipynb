{
 "cells": [
  {
   "cell_type": "code",
   "execution_count": 1,
   "id": "ab8a606a",
   "metadata": {},
   "outputs": [],
   "source": [
    "import pandas as pd\n",
    "from statsmodels.formula.api import ols\n",
    "from statsmodels.stats.anova import anova_lm\n",
    "from statsmodels.graphics.factorplots import interaction_plot\n",
    "import matplotlib.pyplot as plt\n",
    "from scipy import stats"
   ]
  },
  {
   "cell_type": "code",
   "execution_count": 2,
   "id": "1ee1ba0f",
   "metadata": {},
   "outputs": [],
   "source": [
    "import numpy as np"
   ]
  },
  {
   "cell_type": "code",
   "execution_count": 3,
   "id": "38079b7e",
   "metadata": {},
   "outputs": [],
   "source": [
    "# Data by habitat\n",
    "\n",
    "data_anth = {'Arable': [80, 0, 0, 8],\n",
    "             'Beach': [78, 62],\n",
    "             'Roadside': [85, 62, 10, 3, 18, 18, 98, 71, 78, 12, 52, 39, 24, 13],\n",
    "             'Waste_place': [78, 33, 78, 40, 47, 32]\n",
    "            }\n",
    "\n",
    "data_caro = {'Arable': [0, 93, 85, 52],\n",
    "             'Beach': [2, 5],\n",
    "             'Roadside': [0.4, 16, 55, 64, 32, 32, 6, 4, 3, 48, 10, 15, 25, 54],\n",
    "             'Waste_place': [2, 15, 3, 22, 13, 6]\n",
    "            }\n",
    "\n",
    "data_both = {'Arable': [0, 0, 0, 2],\n",
    "             'Beach': [1, 1],\n",
    "             'Roadside': [0.8, 2, 3, 2, 1, 1, 0, 4, 11, 4, 6, 7, 3, 6],\n",
    "             'Waste_place': [2, 2, 0, 3, 4, 2]\n",
    "            }"
   ]
  },
  {
   "cell_type": "code",
   "execution_count": 4,
   "id": "01c3d6a1",
   "metadata": {},
   "outputs": [],
   "source": [
    "# Data by region\n",
    "\n",
    "data_anth2 = {'Stockton': [10, 0, 0, 8],\n",
    "              'SF_Pen_Mont': [80, 62, 85, 33, 78, 78, 78],\n",
    "              'S_Delta': [71, 78, 24, 13],\n",
    "              'N_Bay_Marin': [62, 14, 12],\n",
    "              'E_Bay': [40, 47, 32, 52, 30, 39],\n",
    "              'Central_Valley': [3, 18, 18, 89]\n",
    "             }\n",
    "\n",
    "data_caro2 = {'Stockton': [55, 93, 85, 52],\n",
    "              'SF_Pen_Mont': [0, 5, 0.4, 15, 3, 2, 2],\n",
    "              'S_Delta': [4, 3, 25, 54],\n",
    "              'N_Bay_Marin': [16, 72, 48],\n",
    "              'E_Bay': [22, 13, 16, 10, 9, 15],\n",
    "              'Central_Valley': [64, 32, 32, 6]\n",
    "             }\n",
    "\n",
    "data_both2 = {'Stockton': [3, 0, 0, 2],\n",
    "              'SF_Pen_Mont': [0, 1, 0.8, 15, 3, 2, 1],\n",
    "              'S_Delta': [4, 11, 3, 6],\n",
    "              'N_Bay_Marin': [2, 3, 4],\n",
    "              'E_Bay': [3, 4, 2, 6, 4, 7],\n",
    "              'Central_Valley': [2, 1, 1, 0]\n",
    "             }"
   ]
  },
  {
   "cell_type": "code",
   "execution_count": 5,
   "id": "1aefa133",
   "metadata": {},
   "outputs": [
    {
     "name": "stdout",
     "output_type": "stream",
     "text": [
      "    Arable  Beach  Roadside  Waste_place\n",
      "0     80.0   78.0        85         78.0\n",
      "1      0.0   62.0        62         33.0\n",
      "2      0.0    NaN        10         78.0\n",
      "3      8.0    NaN         3         40.0\n",
      "4      NaN    NaN        18         47.0\n",
      "5      NaN    NaN        18         32.0\n",
      "6      NaN    NaN        98          NaN\n",
      "7      NaN    NaN        71          NaN\n",
      "8      NaN    NaN        78          NaN\n",
      "9      NaN    NaN        12          NaN\n",
      "10     NaN    NaN        52          NaN\n",
      "11     NaN    NaN        39          NaN\n",
      "12     NaN    NaN        24          NaN\n",
      "13     NaN    NaN        13          NaN\n"
     ]
    }
   ],
   "source": [
    "# Data frame for anth by habitat\n",
    "\n",
    "df = pd.DataFrame({k: pd.Series(v) for k, v in data_anth.items()})\n",
    "print(df)"
   ]
  },
  {
   "cell_type": "code",
   "execution_count": 6,
   "id": "f2253b62",
   "metadata": {},
   "outputs": [
    {
     "name": "stdout",
     "output_type": "stream",
     "text": [
      "    Arable  Beach  Roadside  Waste_place\n",
      "0      0.0    2.0       0.4          2.0\n",
      "1     93.0    5.0      16.0         15.0\n",
      "2     85.0    NaN      55.0          3.0\n",
      "3     52.0    NaN      64.0         22.0\n",
      "4      NaN    NaN      32.0         13.0\n",
      "5      NaN    NaN      32.0          6.0\n",
      "6      NaN    NaN       6.0          NaN\n",
      "7      NaN    NaN       4.0          NaN\n",
      "8      NaN    NaN       3.0          NaN\n",
      "9      NaN    NaN      48.0          NaN\n",
      "10     NaN    NaN      10.0          NaN\n",
      "11     NaN    NaN      15.0          NaN\n",
      "12     NaN    NaN      25.0          NaN\n",
      "13     NaN    NaN      54.0          NaN\n"
     ]
    }
   ],
   "source": [
    "# Dataframe for caro by habitat\n",
    "\n",
    "df2 = pd.DataFrame({k: pd.Series(v) for k, v in data_caro.items()})\n",
    "print(df2)"
   ]
  },
  {
   "cell_type": "code",
   "execution_count": 7,
   "id": "5969936f",
   "metadata": {},
   "outputs": [
    {
     "name": "stdout",
     "output_type": "stream",
     "text": [
      "    Arable  Beach  Roadside  Waste_place\n",
      "0      0.0    1.0       0.8          2.0\n",
      "1      0.0    1.0       2.0          2.0\n",
      "2      0.0    NaN       3.0          0.0\n",
      "3      2.0    NaN       2.0          3.0\n",
      "4      NaN    NaN       1.0          4.0\n",
      "5      NaN    NaN       1.0          2.0\n",
      "6      NaN    NaN       0.0          NaN\n",
      "7      NaN    NaN       4.0          NaN\n",
      "8      NaN    NaN      11.0          NaN\n",
      "9      NaN    NaN       4.0          NaN\n",
      "10     NaN    NaN       6.0          NaN\n",
      "11     NaN    NaN       7.0          NaN\n",
      "12     NaN    NaN       3.0          NaN\n",
      "13     NaN    NaN       6.0          NaN\n"
     ]
    }
   ],
   "source": [
    "# Dataframe for both by habitat\n",
    "\n",
    "df3 = pd.DataFrame({k: pd.Series(v) for k, v in data_both.items()})\n",
    "print(df3)"
   ]
  },
  {
   "cell_type": "code",
   "execution_count": 9,
   "id": "e1730eb3",
   "metadata": {},
   "outputs": [],
   "source": [
    "# Calculating variances\n",
    "\n",
    "variances_anth = df.var()\n",
    "variances_caro = df2.var()\n",
    "variances_both = df3.var()"
   ]
  },
  {
   "cell_type": "code",
   "execution_count": 10,
   "id": "8c96d103",
   "metadata": {},
   "outputs": [
    {
     "name": "stdout",
     "output_type": "stream",
     "text": [
      "Arable         1509.333333\n",
      "Beach           128.000000\n",
      "Roadside       1030.093407\n",
      "Waste_place     455.866667\n",
      "dtype: float64\n"
     ]
    }
   ],
   "source": [
    "print(variances_anth)"
   ]
  },
  {
   "cell_type": "code",
   "execution_count": 11,
   "id": "7bd23ee5",
   "metadata": {},
   "outputs": [
    {
     "name": "stdout",
     "output_type": "stream",
     "text": [
      "Arable         1784.333333\n",
      "Beach             4.500000\n",
      "Roadside        474.719121\n",
      "Waste_place      61.366667\n",
      "dtype: float64\n"
     ]
    }
   ],
   "source": [
    "print(variances_caro)"
   ]
  },
  {
   "cell_type": "code",
   "execution_count": 12,
   "id": "f46eb08e",
   "metadata": {},
   "outputs": [
    {
     "name": "stdout",
     "output_type": "stream",
     "text": [
      "Arable         1.000000\n",
      "Beach          0.000000\n",
      "Roadside       9.100659\n",
      "Waste_place    1.766667\n",
      "dtype: float64\n"
     ]
    }
   ],
   "source": [
    "print(variances_both)"
   ]
  },
  {
   "cell_type": "code",
   "execution_count": 18,
   "id": "6a615f90",
   "metadata": {},
   "outputs": [
    {
     "name": "stdout",
     "output_type": "stream",
     "text": [
      "Bartlett's test statistic (Anth): 17.764990797075136\n",
      "P-value: 0.0004917649760783902\n",
      "Bartlett's test statistic (Caro): 77.97240588904965\n",
      "P-value: 8.353801915944671e-17\n",
      "Bartlett's test statistic (Both): inf\n",
      "P-value: 0.0\n"
     ]
    },
    {
     "name": "stderr",
     "output_type": "stream",
     "text": [
      "C:\\Users\\jason\\anaconda3\\lib\\site-packages\\scipy\\stats\\morestats.py:2467: RuntimeWarning: divide by zero encountered in log\n",
      "  numer = (Ntot*1.0 - k) * log(spsq) - np.sum((Ni - 1.0)*log(ssq), axis=0)\n"
     ]
    }
   ],
   "source": [
    "# These data appear heteroscedastic; ANOVA may not be suitable.\n",
    "# To test this, we shall run Bartlett's test.\n",
    "\n",
    "from scipy.stats import bartlett\n",
    "\n",
    "# Define testing groups for each df\n",
    "\n",
    "# Groups for Anth\n",
    "arable_anth = df['Arable']\n",
    "beach_anth = df['Beach']\n",
    "road_anth = df['Roadside']\n",
    "waste_anth = df['Waste_place']\n",
    "\n",
    "# Groups for Caro\n",
    "arable_caro = df2['Arable']\n",
    "beach_caro = df2['Beach']\n",
    "road_caro = df2['Roadside']\n",
    "waste_caro = df2['Waste_place']\n",
    "\n",
    "# Groups for Both\n",
    "arable_both = df3['Arable']\n",
    "beach_both = df3['Beach']\n",
    "road_both = df3['Roadside']\n",
    "waste_both = df3['Waste_place']\n",
    "\n",
    "# Bartlett's test for each df\n",
    "\n",
    "stat1, p_value1 = bartlett(arable_anth, beach_anth, road_anth, waste_anth)\n",
    "print(f\"Bartlett's test statistic (Anth): {stat1}\")\n",
    "print(f\"P-value: {p_value1}\")\n",
    "\n",
    "stat2, p_value2 = bartlett(arable_caro, beach_caro, road_caro, waste_caro)\n",
    "print(f\"Bartlett's test statistic (Caro): {stat2}\")\n",
    "print(f\"P-value: {p_value2}\")\n",
    "\n",
    "stat3, p_value3 = bartlett(arable_both, beach_both, road_both, waste_both)\n",
    "print(f\"Bartlett's test statistic (Both): {stat3}\")\n",
    "print(f\"P-value: {p_value3}\")"
   ]
  },
  {
   "cell_type": "code",
   "execution_count": null,
   "id": "43eecf3c",
   "metadata": {},
   "outputs": [],
   "source": [
    "# Conclusion: these Variances are heteroscedastic;\n",
    "# The assumption of equal variances is violated - ANOVA not suitable."
   ]
  },
  {
   "cell_type": "code",
   "execution_count": 8,
   "id": "8a5cee5f",
   "metadata": {},
   "outputs": [
    {
     "name": "stdout",
     "output_type": "stream",
     "text": [
      "   Stockton  SF_Pen_Mont  S_Delta  N_Bay_Marin  E_Bay  Central_Valley\n",
      "0      10.0           80     71.0         62.0   40.0             3.0\n",
      "1       0.0           62     78.0         14.0   47.0            18.0\n",
      "2       0.0           85     24.0         12.0   32.0            18.0\n",
      "3       8.0           33     13.0          NaN   52.0            89.0\n",
      "4       NaN           78      NaN          NaN   30.0             NaN\n",
      "5       NaN           78      NaN          NaN   39.0             NaN\n",
      "6       NaN           78      NaN          NaN    NaN             NaN\n"
     ]
    }
   ],
   "source": [
    "# Now to analyze the regional data\n",
    "\n",
    "# Dataframe for anth by region\n",
    "df4 = pd.DataFrame({k: pd.Series(v) for k, v in data_anth2.items()})\n",
    "print(df4)"
   ]
  },
  {
   "cell_type": "code",
   "execution_count": 9,
   "id": "c74bc7b5",
   "metadata": {},
   "outputs": [
    {
     "name": "stdout",
     "output_type": "stream",
     "text": [
      "   Stockton  SF_Pen_Mont  S_Delta  N_Bay_Marin  E_Bay  Central_Valley\n",
      "0      55.0          0.0      4.0         16.0   22.0            64.0\n",
      "1      93.0          5.0      3.0         72.0   13.0            32.0\n",
      "2      85.0          0.4     25.0         48.0   16.0            32.0\n",
      "3      52.0         15.0     54.0          NaN   10.0             6.0\n",
      "4       NaN          3.0      NaN          NaN    9.0             NaN\n",
      "5       NaN          2.0      NaN          NaN   15.0             NaN\n",
      "6       NaN          2.0      NaN          NaN    NaN             NaN\n"
     ]
    }
   ],
   "source": [
    "# Dataframe for caro by region\n",
    "\n",
    "df5 = pd.DataFrame({k: pd.Series(v) for k, v in data_caro2.items()})\n",
    "print(df5)"
   ]
  },
  {
   "cell_type": "code",
   "execution_count": 10,
   "id": "86f4b9c3",
   "metadata": {},
   "outputs": [
    {
     "name": "stdout",
     "output_type": "stream",
     "text": [
      "   Stockton  SF_Pen_Mont  S_Delta  N_Bay_Marin  E_Bay  Central_Valley\n",
      "0       3.0          0.0      4.0          2.0    3.0             2.0\n",
      "1       0.0          1.0     11.0          3.0    4.0             1.0\n",
      "2       0.0          0.8      3.0          4.0    2.0             1.0\n",
      "3       2.0         15.0      6.0          NaN    6.0             0.0\n",
      "4       NaN          3.0      NaN          NaN    4.0             NaN\n",
      "5       NaN          2.0      NaN          NaN    7.0             NaN\n",
      "6       NaN          1.0      NaN          NaN    NaN             NaN\n"
     ]
    }
   ],
   "source": [
    "# Dataframe for both by region\n",
    "\n",
    "df6 = pd.DataFrame({k: pd.Series(v) for k, v in data_both2.items()})\n",
    "print(df6)"
   ]
  },
  {
   "cell_type": "code",
   "execution_count": 30,
   "id": "85d79f25",
   "metadata": {},
   "outputs": [],
   "source": [
    "# Calculating variances\n",
    "\n",
    "variances_anth2 = df4.var()\n",
    "variances_caro2 = df5.var()\n",
    "variances_both2 = df6.var()"
   ]
  },
  {
   "cell_type": "code",
   "execution_count": 31,
   "id": "7971a51b",
   "metadata": {},
   "outputs": [
    {
     "name": "stdout",
     "output_type": "stream",
     "text": [
      "Stockton            27.666667\n",
      "SF_Pen_Mont        324.619048\n",
      "S_Delta           1073.666667\n",
      "N_Bay_Marin        801.333333\n",
      "E_Bay               71.600000\n",
      "Central_Valley    1494.000000\n",
      "dtype: float64\n"
     ]
    }
   ],
   "source": [
    "print(variances_anth2)"
   ]
  },
  {
   "cell_type": "code",
   "execution_count": 32,
   "id": "72c70cbc",
   "metadata": {},
   "outputs": [
    {
     "name": "stdout",
     "output_type": "stream",
     "text": [
      "Stockton          432.250000\n",
      "SF_Pen_Mont        26.651429\n",
      "S_Delta           572.333333\n",
      "N_Bay_Marin       789.333333\n",
      "E_Bay              22.166667\n",
      "Central_Valley    563.666667\n",
      "dtype: float64\n"
     ]
    }
   ],
   "source": [
    "print(variances_caro2)"
   ]
  },
  {
   "cell_type": "code",
   "execution_count": 33,
   "id": "2851585d",
   "metadata": {},
   "outputs": [
    {
     "name": "stdout",
     "output_type": "stream",
     "text": [
      "Stockton           2.250000\n",
      "SF_Pen_Mont       27.729524\n",
      "S_Delta           12.666667\n",
      "N_Bay_Marin        1.000000\n",
      "E_Bay              3.466667\n",
      "Central_Valley     0.666667\n",
      "dtype: float64\n"
     ]
    }
   ],
   "source": [
    "print(variances_both2)"
   ]
  },
  {
   "cell_type": "code",
   "execution_count": 34,
   "id": "f0c527e3",
   "metadata": {},
   "outputs": [
    {
     "name": "stdout",
     "output_type": "stream",
     "text": [
      "Bartlett's test statistic (Anth): 20.33224822018249\n",
      "P-value: 0.000429349387138109\n",
      "Bartlett's test statistic (Caro): 22.93027748270651\n",
      "P-value: 0.00013075268838533732\n",
      "Bartlett's test statistic (Both): 18.562189736289035\n",
      "P-value: 0.0009578799422342402\n"
     ]
    }
   ],
   "source": [
    "# Define testing groups for each df\n",
    "\n",
    "# Groups for Anth\n",
    "Stockton_anth = df4['Stockton']\n",
    "SF_Pen_Mont_anth = df4['SF_Pen_Mont']\n",
    "S_Delta_anth = df4['S_Delta']\n",
    "N_Bay_Marin_anth = df4['N_Bay_Marin']\n",
    "E_Bay_anth = df4['E_Bay']\n",
    "\n",
    "# Groups for Caro\n",
    "Stockton_caro = df5['Stockton']\n",
    "SF_Pen_Mont_caro = df5['SF_Pen_Mont']\n",
    "S_Delta_caro = df5['S_Delta']\n",
    "N_Bay_Marin_caro = df5['N_Bay_Marin']\n",
    "E_Bay_caro = df5['E_Bay']\n",
    "\n",
    "# Groups for Both\n",
    "Stockton_both = df6['Stockton']\n",
    "SF_Pen_Mont_both = df6['SF_Pen_Mont']\n",
    "S_Delta_both = df6['S_Delta']\n",
    "N_Bay_Marin_both = df6['N_Bay_Marin']\n",
    "E_Bay_both = df6['E_Bay']\n",
    "\n",
    "# Bartlett's test for each df\n",
    "\n",
    "stat4, p_value4 = bartlett(Stockton_anth, SF_Pen_Mont_anth, S_Delta_anth, N_Bay_Marin_anth, E_Bay_anth)\n",
    "print(f\"Bartlett's test statistic (Anth): {stat4}\")\n",
    "print(f\"P-value: {p_value4}\")\n",
    "\n",
    "stat5, p_value5 = bartlett(Stockton_caro, SF_Pen_Mont_caro, S_Delta_caro, N_Bay_Marin_caro, E_Bay_caro)\n",
    "print(f\"Bartlett's test statistic (Caro): {stat5}\")\n",
    "print(f\"P-value: {p_value5}\")\n",
    "\n",
    "stat6, p_value6 = bartlett(Stockton_both, SF_Pen_Mont_both, S_Delta_both, N_Bay_Marin_both, E_Bay_both)\n",
    "print(f\"Bartlett's test statistic (Both): {stat6}\")\n",
    "print(f\"P-value: {p_value6}\")"
   ]
  },
  {
   "cell_type": "code",
   "execution_count": 11,
   "id": "6cf23ab9",
   "metadata": {},
   "outputs": [],
   "source": [
    "# Conclusion: these variances are also heteroscedastic.\n",
    "\n",
    "# Will conduct Welch's ANOVA\n",
    "import pingouin as pg"
   ]
  },
  {
   "cell_type": "code",
   "execution_count": 14,
   "id": "3774408e",
   "metadata": {},
   "outputs": [
    {
     "name": "stdout",
     "output_type": "stream",
     "text": [
      "        Habitat  Anth  Caro  Both\n",
      "0        Arable    80   0.0   0.0\n",
      "1        Arable     0  93.0   0.0\n",
      "2        Arable     0  85.0   0.0\n",
      "3        Arable     8  52.0   2.0\n",
      "4         Beach    78   2.0   1.0\n",
      "5         Beach    62   5.0   1.0\n",
      "6      Roadside    85   0.4   0.8\n",
      "7      Roadside    62  16.0   2.0\n",
      "8      Roadside    10  55.0   3.0\n",
      "9      Roadside     3  64.0   2.0\n",
      "10     Roadside    18  32.0   1.0\n",
      "11     Roadside    18  32.0   1.0\n",
      "12     Roadside    98   6.0   0.0\n",
      "13     Roadside    71   4.0   4.0\n",
      "14     Roadside    78   3.0  11.0\n",
      "15     Roadside    12  48.0   4.0\n",
      "16     Roadside    52  10.0   6.0\n",
      "17     Roadside    39  15.0   7.0\n",
      "18     Roadside    24  25.0   3.0\n",
      "19     Roadside    13  54.0   6.0\n",
      "20  Waste_place    78   2.0   2.0\n",
      "21  Waste_place    33  15.0   2.0\n",
      "22  Waste_place    78   3.0   0.0\n",
      "23  Waste_place    40  22.0   3.0\n",
      "24  Waste_place    47  13.0   4.0\n",
      "25  Waste_place    32   6.0   2.0\n"
     ]
    }
   ],
   "source": [
    "# Create new dataframe to group by color and habitat\n",
    "\n",
    "df_hab = pd.DataFrame({'Habitat': ['Arable', 'Arable', 'Arable', 'Arable', 'Beach', 'Beach', 'Roadside', 'Roadside',\n",
    "                                 'Roadside', 'Roadside', 'Roadside', 'Roadside', 'Roadside', 'Roadside', 'Roadside',\n",
    "                                 'Roadside', 'Roadside', 'Roadside', 'Roadside', 'Roadside','Waste_place', 'Waste_place',\n",
    "                                 'Waste_place', 'Waste_place', 'Waste_place', 'Waste_place'],\n",
    "                      'Anth': [80, 0, 0, 8, 78, 62, 85, 62, 10, 3, 18, 18, 98, 71, 78, 12, 52, \n",
    "                             39, 24, 13, 78, 33, 78, 40, 47, 32],\n",
    "                      'Caro': [0, 93, 85, 52, 2, 5, 0.4, 16, 55, 64, 32, 32, 6, 4, 3, 48, 10, 15, 25, 54, \n",
    "                             2, 15, 3, 22, 13, 6],\n",
    "                      'Both': [0, 0, 0, 2, 1, 1, 0.8, 2, 3, 2, 1, 1, 0, 4, 11, 4, 6, 7, 3, 6, 2, 2, 0, 3, 4, 2]})\n",
    "\n",
    "print(df_hab)"
   ]
  },
  {
   "cell_type": "code",
   "execution_count": 15,
   "id": "56fe9d16",
   "metadata": {},
   "outputs": [
    {
     "name": "stdout",
     "output_type": "stream",
     "text": [
      "            Region  Anth  Caro  Both\n",
      "0         Stockton    10  55.0   3.0\n",
      "1         Stockton     0  93.0   0.0\n",
      "2         Stockton     0  85.0   0.0\n",
      "3         Stockton     8  52.0   2.0\n",
      "4      SF_Pen_Mont    80   0.0   0.0\n",
      "5      SF_Pen_Mont    62   5.0   1.0\n",
      "6      SF_Pen_Mont    85   0.4   0.8\n",
      "7      SF_Pen_Mont    33  15.0  15.0\n",
      "8      SF_Pen_Mont    78   3.0   3.0\n",
      "9      SF_Pen_Mont    78   2.0   2.0\n",
      "10     SF_Pen_Mont    78   2.0   1.0\n",
      "11         S_Delta    71   4.0   4.0\n",
      "12         S_Delta    78   3.0  11.0\n",
      "13         S_Delta    24  25.0   3.0\n",
      "14         S_Delta    13  54.0   6.0\n",
      "15     N_Bay_Marin    62  16.0   2.0\n",
      "16     N_Bay_Marin    14  72.0   3.0\n",
      "17     N_Bay_Marin    12  48.0   4.0\n",
      "18           E_Bay    40  22.0   3.0\n",
      "19           E_Bay    47  13.0   4.0\n",
      "20           E_Bay    32  16.0   2.0\n",
      "21           E_Bay    52  10.0   6.0\n",
      "22           E_Bay    30   9.0   4.0\n",
      "23           E_Bay    39  15.0   7.0\n",
      "24  Central_Valley     3  64.0   2.0\n",
      "25  Central_Valley    18  32.0   1.0\n",
      "26  Central_Valley    18  32.0   1.0\n",
      "27  Central_Valley    89   6.0   0.0\n"
     ]
    }
   ],
   "source": [
    "# Now, create dataframe to group by region and color\n",
    "\n",
    "df_reg = pd.DataFrame({'Region': ['Stockton', 'Stockton', 'Stockton', 'Stockton', 'SF_Pen_Mont', 'SF_Pen_Mont', \n",
    "                                  'SF_Pen_Mont', 'SF_Pen_Mont', 'SF_Pen_Mont', 'SF_Pen_Mont', 'SF_Pen_Mont', \n",
    "                                  'S_Delta', 'S_Delta', 'S_Delta', 'S_Delta', 'N_Bay_Marin', 'N_Bay_Marin', \n",
    "                                  'N_Bay_Marin', 'E_Bay', 'E_Bay','E_Bay', 'E_Bay', 'E_Bay', 'E_Bay', 'Central_Valley', \n",
    "                                  'Central_Valley', 'Central_Valley', 'Central_Valley'],\n",
    "                      'Anth': [10, 0, 0, 8, 80, 62, 85, 33, 78, 78, 78, 71, 78, 24, 13, 62, 14, 12, 40, 47, 32, 52, 30, \n",
    "                               39, 3, 18, 18, 89],\n",
    "                      'Caro': [55, 93, 85, 52, 0, 5, 0.4, 15, 3, 2, 2, 4, 3, 25, 54, 16, 72, 48, 22, 13, 16, 10, 9, 15, \n",
    "                               64, 32, 32, 6],\n",
    "                      'Both': [3, 0, 0, 2, 0, 1, 0.8, 15, 3, 2, 1, 4, 11, 3, 6, 2, 3, 4, 3, 4, 2, 6, 4, 7, 2, 1, 1, 0]})\n",
    "print(df_reg)"
   ]
  },
  {
   "cell_type": "code",
   "execution_count": 17,
   "id": "3e5e0111",
   "metadata": {},
   "outputs": [
    {
     "ename": "AttributeError",
     "evalue": "'DataFrame' object has no attribute 'dtype'",
     "output_type": "error",
     "traceback": [
      "\u001b[1;31m---------------------------------------------------------------------------\u001b[0m",
      "\u001b[1;31mAttributeError\u001b[0m                            Traceback (most recent call last)",
      "\u001b[1;32m~\\AppData\\Local\\Temp/ipykernel_36400/2161972505.py\u001b[0m in \u001b[0;36m<module>\u001b[1;34m\u001b[0m\n\u001b[0;32m      2\u001b[0m \u001b[1;31m# Change 'score', 'group', and df as applicable.\u001b[0m\u001b[1;33m\u001b[0m\u001b[1;33m\u001b[0m\u001b[0m\n\u001b[0;32m      3\u001b[0m \u001b[1;33m\u001b[0m\u001b[0m\n\u001b[1;32m----> 4\u001b[1;33m \u001b[0mpg\u001b[0m\u001b[1;33m.\u001b[0m\u001b[0mwelch_anova\u001b[0m\u001b[1;33m(\u001b[0m\u001b[0mdv\u001b[0m\u001b[1;33m=\u001b[0m\u001b[1;33m[\u001b[0m\u001b[1;34m'Anth'\u001b[0m\u001b[1;33m,\u001b[0m \u001b[1;34m'Caro'\u001b[0m\u001b[1;33m,\u001b[0m \u001b[1;34m'Both'\u001b[0m\u001b[1;33m]\u001b[0m\u001b[1;33m,\u001b[0m \u001b[0mbetween\u001b[0m\u001b[1;33m=\u001b[0m\u001b[1;34m'Habitat'\u001b[0m\u001b[1;33m,\u001b[0m \u001b[0mdata\u001b[0m\u001b[1;33m=\u001b[0m\u001b[0mdf_hab\u001b[0m\u001b[1;33m)\u001b[0m\u001b[1;33m\u001b[0m\u001b[1;33m\u001b[0m\u001b[0m\n\u001b[0m\u001b[0;32m      5\u001b[0m \u001b[1;33m\u001b[0m\u001b[0m\n\u001b[0;32m      6\u001b[0m \u001b[1;31m# The Games-Howell post-hoc test can determine which groups are different:\u001b[0m\u001b[1;33m\u001b[0m\u001b[1;33m\u001b[0m\u001b[0m\n",
      "\u001b[1;32m~\\anaconda3\\lib\\site-packages\\pingouin\\parametric.py\u001b[0m in \u001b[0;36mwelch_anova\u001b[1;34m(data, dv, between)\u001b[0m\n\u001b[0;32m   1324\u001b[0m     \"\"\"\n\u001b[0;32m   1325\u001b[0m     \u001b[1;31m# Check data\u001b[0m\u001b[1;33m\u001b[0m\u001b[1;33m\u001b[0m\u001b[0m\n\u001b[1;32m-> 1326\u001b[1;33m     \u001b[0mdata\u001b[0m \u001b[1;33m=\u001b[0m \u001b[0m_check_dataframe\u001b[0m\u001b[1;33m(\u001b[0m\u001b[0mdv\u001b[0m\u001b[1;33m=\u001b[0m\u001b[0mdv\u001b[0m\u001b[1;33m,\u001b[0m \u001b[0mbetween\u001b[0m\u001b[1;33m=\u001b[0m\u001b[0mbetween\u001b[0m\u001b[1;33m,\u001b[0m \u001b[0mdata\u001b[0m\u001b[1;33m=\u001b[0m\u001b[0mdata\u001b[0m\u001b[1;33m,\u001b[0m \u001b[0meffects\u001b[0m\u001b[1;33m=\u001b[0m\u001b[1;34m\"between\"\u001b[0m\u001b[1;33m)\u001b[0m\u001b[1;33m\u001b[0m\u001b[1;33m\u001b[0m\u001b[0m\n\u001b[0m\u001b[0;32m   1327\u001b[0m \u001b[1;33m\u001b[0m\u001b[0m\n\u001b[0;32m   1328\u001b[0m     \u001b[1;31m# Reset index (avoid duplicate axis error)\u001b[0m\u001b[1;33m\u001b[0m\u001b[1;33m\u001b[0m\u001b[0m\n",
      "\u001b[1;32m~\\anaconda3\\lib\\site-packages\\pingouin\\utils.py\u001b[0m in \u001b[0;36m_check_dataframe\u001b[1;34m(data, dv, between, within, subject, effects)\u001b[0m\n\u001b[0;32m    364\u001b[0m         \u001b[1;32mraise\u001b[0m \u001b[0mValueError\u001b[0m\u001b[1;33m(\u001b[0m\u001b[1;34m\"DV and data must be specified\"\u001b[0m\u001b[1;33m)\u001b[0m\u001b[1;33m\u001b[0m\u001b[1;33m\u001b[0m\u001b[0m\n\u001b[0;32m    365\u001b[0m     \u001b[1;31m# Check that dv is a numeric variable\u001b[0m\u001b[1;33m\u001b[0m\u001b[1;33m\u001b[0m\u001b[0m\n\u001b[1;32m--> 366\u001b[1;33m     \u001b[1;32mif\u001b[0m \u001b[0mdata\u001b[0m\u001b[1;33m[\u001b[0m\u001b[0mdv\u001b[0m\u001b[1;33m]\u001b[0m\u001b[1;33m.\u001b[0m\u001b[0mdtype\u001b[0m\u001b[1;33m.\u001b[0m\u001b[0mkind\u001b[0m \u001b[1;32mnot\u001b[0m \u001b[1;32min\u001b[0m \u001b[1;34m\"fi\"\u001b[0m\u001b[1;33m:\u001b[0m\u001b[1;33m\u001b[0m\u001b[1;33m\u001b[0m\u001b[0m\n\u001b[0m\u001b[0;32m    367\u001b[0m         \u001b[1;32mraise\u001b[0m \u001b[0mValueError\u001b[0m\u001b[1;33m(\u001b[0m\u001b[1;34m\"DV must be numeric.\"\u001b[0m\u001b[1;33m)\u001b[0m\u001b[1;33m\u001b[0m\u001b[1;33m\u001b[0m\u001b[0m\n\u001b[0;32m    368\u001b[0m     \u001b[1;31m# Check that effects is provided\u001b[0m\u001b[1;33m\u001b[0m\u001b[1;33m\u001b[0m\u001b[0m\n",
      "\u001b[1;32m~\\anaconda3\\lib\\site-packages\\pandas\\core\\generic.py\u001b[0m in \u001b[0;36m__getattr__\u001b[1;34m(self, name)\u001b[0m\n\u001b[0;32m   5485\u001b[0m         ):\n\u001b[0;32m   5486\u001b[0m             \u001b[1;32mreturn\u001b[0m \u001b[0mself\u001b[0m\u001b[1;33m[\u001b[0m\u001b[0mname\u001b[0m\u001b[1;33m]\u001b[0m\u001b[1;33m\u001b[0m\u001b[1;33m\u001b[0m\u001b[0m\n\u001b[1;32m-> 5487\u001b[1;33m         \u001b[1;32mreturn\u001b[0m \u001b[0mobject\u001b[0m\u001b[1;33m.\u001b[0m\u001b[0m__getattribute__\u001b[0m\u001b[1;33m(\u001b[0m\u001b[0mself\u001b[0m\u001b[1;33m,\u001b[0m \u001b[0mname\u001b[0m\u001b[1;33m)\u001b[0m\u001b[1;33m\u001b[0m\u001b[1;33m\u001b[0m\u001b[0m\n\u001b[0m\u001b[0;32m   5488\u001b[0m \u001b[1;33m\u001b[0m\u001b[0m\n\u001b[0;32m   5489\u001b[0m     \u001b[1;32mdef\u001b[0m \u001b[0m__setattr__\u001b[0m\u001b[1;33m(\u001b[0m\u001b[0mself\u001b[0m\u001b[1;33m,\u001b[0m \u001b[0mname\u001b[0m\u001b[1;33m:\u001b[0m \u001b[0mstr\u001b[0m\u001b[1;33m,\u001b[0m \u001b[0mvalue\u001b[0m\u001b[1;33m)\u001b[0m \u001b[1;33m->\u001b[0m \u001b[1;32mNone\u001b[0m\u001b[1;33m:\u001b[0m\u001b[1;33m\u001b[0m\u001b[1;33m\u001b[0m\u001b[0m\n",
      "\u001b[1;31mAttributeError\u001b[0m: 'DataFrame' object has no attribute 'dtype'"
     ]
    }
   ],
   "source": [
    "# The command for Welch's ANOVA is pg.welch_anova(dv='score', between='group', data=df)\n",
    "# Change 'score', 'group', and df as applicable.\n",
    "# The Games-Howell post-hoc test can determine which groups are different: \n",
    "# pg.pairwise_gameshowell(dv='score', between='group', data=df)\n"
   ]
  },
  {
   "cell_type": "code",
   "execution_count": null,
   "id": "1dc3991e",
   "metadata": {},
   "outputs": [],
   "source": []
  }
 ],
 "metadata": {
  "kernelspec": {
   "display_name": "Python 3 (ipykernel)",
   "language": "python",
   "name": "python3"
  },
  "language_info": {
   "codemirror_mode": {
    "name": "ipython",
    "version": 3
   },
   "file_extension": ".py",
   "mimetype": "text/x-python",
   "name": "python",
   "nbconvert_exporter": "python",
   "pygments_lexer": "ipython3",
   "version": "3.9.7"
  }
 },
 "nbformat": 4,
 "nbformat_minor": 5
}
