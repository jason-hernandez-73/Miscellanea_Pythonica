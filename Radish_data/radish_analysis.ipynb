{
 "cells": [
  {
   "cell_type": "code",
   "execution_count": 1,
   "id": "ab8a606a",
   "metadata": {},
   "outputs": [],
   "source": [
    "import pandas as pd\n",
    "from statsmodels.formula.api import ols\n",
    "from statsmodels.stats.anova import anova_lm\n",
    "from statsmodels.graphics.factorplots import interaction_plot\n",
    "import matplotlib.pyplot as plt\n",
    "from scipy import stats"
   ]
  },
  {
   "cell_type": "code",
   "execution_count": 2,
   "id": "1ee1ba0f",
   "metadata": {},
   "outputs": [],
   "source": [
    "import numpy as np"
   ]
  },
  {
   "cell_type": "code",
   "execution_count": 3,
   "id": "38079b7e",
   "metadata": {},
   "outputs": [],
   "source": [
    "# Data by habitat\n",
    "\n",
    "data_anth = {'Arable': [80, 0, 0, 8],\n",
    "             'Beach': [78, 62],\n",
    "             'Roadside': [85, 62, 10, 3, 18, 18, 98, 71, 78, 12, 52, 39, 24, 13],\n",
    "             'Waste_place': [78, 33, 78, 40, 47, 32]\n",
    "            }\n",
    "\n",
    "data_caro = {'Arable': [0, 93, 85, 52],\n",
    "             'Beach': [2, 5],\n",
    "             'Roadside': [0.4, 16, 55, 64, 32, 32, 6, 4, 3, 48, 10, 15, 25, 54],\n",
    "             'Waste_place': [2, 15, 3, 22, 13, 6]\n",
    "            }\n",
    "\n",
    "data_both = {'Arable': [0, 0, 0, 2],\n",
    "             'Beach': [1, 1],\n",
    "             'Roadside': [0.8, 2, 3, 2, 1, 1, 0, 4, 11, 4, 6, 7, 3, 6],\n",
    "             'Waste_place': [2, 2, 0, 3, 4, 2]\n",
    "            }"
   ]
  },
  {
   "cell_type": "code",
   "execution_count": 4,
   "id": "01c3d6a1",
   "metadata": {},
   "outputs": [],
   "source": [
    "# Data by region\n",
    "\n",
    "data_anth2 = {'Stockton': [10, 0, 0, 8],\n",
    "              'SF_Pen': [80, 62, 85, 33, 78],\n",
    "              'S_Delta': [71, 78, 24, 13],\n",
    "              'N_Bay_Marin': [62, 14, 12],\n",
    "              'Monterey': [78, 78],\n",
    "              'E_Bay': [40, 47, 32, 52, 30, 39],\n",
    "              'Central_Valley': [3, 18, 18, 89]\n",
    "             }\n",
    "\n",
    "data_caro2 = {'Stockton': [55, 93, 85, 52],\n",
    "              'SF_Pen': [0, 5, 0.4, 15, 3],\n",
    "              'S_Delta': [4, 3, 25, 54],\n",
    "              'N_Bay_Marin': [16, 72, 48],\n",
    "              'Monterey': [2, 2],\n",
    "              'E_Bay': [22, 13, 16, 10, 9, 15],\n",
    "              'Central_Valley': [64, 32, 32, 6]\n",
    "             }\n",
    "\n",
    "data_both2 = {'Stockton': [3, 0, 0, 2],\n",
    "              'SF_Pen': [0, 1, 0.8, 15, 3],\n",
    "              'S_Delta': [4, 11, 3, 6],\n",
    "              'N_Bay_Marin': [2, 3, 4],\n",
    "              'Monterey': [2, 1],\n",
    "              'E_Bay': [3, 4, 2, 6, 4, 7],\n",
    "              'Central_Valley': [2, 1, 1, 0]\n",
    "             }"
   ]
  },
  {
   "cell_type": "code",
   "execution_count": 5,
   "id": "1aefa133",
   "metadata": {},
   "outputs": [
    {
     "name": "stdout",
     "output_type": "stream",
     "text": [
      "    Arable  Beach  Roadside  Waste_place\n",
      "0     80.0   78.0        85         78.0\n",
      "1      0.0   62.0        62         33.0\n",
      "2      0.0    NaN        10         78.0\n",
      "3      8.0    NaN         3         40.0\n",
      "4      NaN    NaN        18         47.0\n",
      "5      NaN    NaN        18         32.0\n",
      "6      NaN    NaN        98          NaN\n",
      "7      NaN    NaN        71          NaN\n",
      "8      NaN    NaN        78          NaN\n",
      "9      NaN    NaN        12          NaN\n",
      "10     NaN    NaN        52          NaN\n",
      "11     NaN    NaN        39          NaN\n",
      "12     NaN    NaN        24          NaN\n",
      "13     NaN    NaN        13          NaN\n"
     ]
    }
   ],
   "source": [
    "df = pd.DataFrame({k: pd.Series(v) for k, v in data_anth.items()})\n",
    "print(df)"
   ]
  },
  {
   "cell_type": "code",
   "execution_count": 6,
   "id": "f2253b62",
   "metadata": {},
   "outputs": [
    {
     "name": "stdout",
     "output_type": "stream",
     "text": [
      "    Arable  Beach  Roadside  Waste_place\n",
      "0      0.0    2.0       0.4          2.0\n",
      "1     93.0    5.0      16.0         15.0\n",
      "2     85.0    NaN      55.0          3.0\n",
      "3     52.0    NaN      64.0         22.0\n",
      "4      NaN    NaN      32.0         13.0\n",
      "5      NaN    NaN      32.0          6.0\n",
      "6      NaN    NaN       6.0          NaN\n",
      "7      NaN    NaN       4.0          NaN\n",
      "8      NaN    NaN       3.0          NaN\n",
      "9      NaN    NaN      48.0          NaN\n",
      "10     NaN    NaN      10.0          NaN\n",
      "11     NaN    NaN      15.0          NaN\n",
      "12     NaN    NaN      25.0          NaN\n",
      "13     NaN    NaN      54.0          NaN\n"
     ]
    }
   ],
   "source": [
    "df2 = pd.DataFrame({k: pd.Series(v) for k, v in data_caro.items()})\n",
    "print(df2)"
   ]
  },
  {
   "cell_type": "code",
   "execution_count": 7,
   "id": "5969936f",
   "metadata": {},
   "outputs": [
    {
     "name": "stdout",
     "output_type": "stream",
     "text": [
      "    Arable  Beach  Roadside  Waste_place\n",
      "0      0.0    1.0       0.8          2.0\n",
      "1      0.0    1.0       2.0          2.0\n",
      "2      0.0    NaN       3.0          0.0\n",
      "3      2.0    NaN       2.0          3.0\n",
      "4      NaN    NaN       1.0          4.0\n",
      "5      NaN    NaN       1.0          2.0\n",
      "6      NaN    NaN       0.0          NaN\n",
      "7      NaN    NaN       4.0          NaN\n",
      "8      NaN    NaN      11.0          NaN\n",
      "9      NaN    NaN       4.0          NaN\n",
      "10     NaN    NaN       6.0          NaN\n",
      "11     NaN    NaN       7.0          NaN\n",
      "12     NaN    NaN       3.0          NaN\n",
      "13     NaN    NaN       6.0          NaN\n"
     ]
    }
   ],
   "source": [
    "df3 = pd.DataFrame({k: pd.Series(v) for k, v in data_both.items()})\n",
    "print(df3)"
   ]
  },
  {
   "cell_type": "code",
   "execution_count": 9,
   "id": "d4beeb51",
   "metadata": {},
   "outputs": [],
   "source": [
    "# Calculating variances\n",
    "\n",
    "variances_anth = df.var()\n",
    "variances_caro = df2.var()\n",
    "variances_both = df3.var()"
   ]
  },
  {
   "cell_type": "code",
   "execution_count": 10,
   "id": "d15c7aea",
   "metadata": {},
   "outputs": [
    {
     "name": "stdout",
     "output_type": "stream",
     "text": [
      "Arable         1509.333333\n",
      "Beach           128.000000\n",
      "Roadside       1030.093407\n",
      "Waste_place     455.866667\n",
      "dtype: float64\n"
     ]
    }
   ],
   "source": [
    "print(variances_anth)"
   ]
  },
  {
   "cell_type": "code",
   "execution_count": 11,
   "id": "c9b93799",
   "metadata": {},
   "outputs": [
    {
     "name": "stdout",
     "output_type": "stream",
     "text": [
      "Arable         1784.333333\n",
      "Beach             4.500000\n",
      "Roadside        474.719121\n",
      "Waste_place      61.366667\n",
      "dtype: float64\n"
     ]
    }
   ],
   "source": [
    "print(variances_caro)"
   ]
  },
  {
   "cell_type": "code",
   "execution_count": 12,
   "id": "6bbd4386",
   "metadata": {},
   "outputs": [
    {
     "name": "stdout",
     "output_type": "stream",
     "text": [
      "Arable         1.000000\n",
      "Beach          0.000000\n",
      "Roadside       9.100659\n",
      "Waste_place    1.766667\n",
      "dtype: float64\n"
     ]
    }
   ],
   "source": [
    "print(variances_both)"
   ]
  },
  {
   "cell_type": "code",
   "execution_count": 15,
   "id": "31206fd5",
   "metadata": {},
   "outputs": [
    {
     "name": "stderr",
     "output_type": "stream",
     "text": [
      "C:\\Users\\jason\\anaconda3\\lib\\site-packages\\numpy\\core\\fromnumeric.py:3702: RuntimeWarning: Degrees of freedom <= 0 for slice\n",
      "  return _methods._var(a, axis=axis, dtype=dtype, out=out, ddof=ddof,\n"
     ]
    },
    {
     "ename": "TypeError",
     "evalue": "cannot perform reduce with flexible type",
     "output_type": "error",
     "traceback": [
      "\u001b[1;31m---------------------------------------------------------------------------\u001b[0m",
      "\u001b[1;31mTypeError\u001b[0m                                 Traceback (most recent call last)",
      "\u001b[1;32m~\\AppData\\Local\\Temp/ipykernel_2976/820110033.py\u001b[0m in \u001b[0;36m<module>\u001b[1;34m\u001b[0m\n\u001b[0;32m      4\u001b[0m \u001b[1;32mfrom\u001b[0m \u001b[0mscipy\u001b[0m\u001b[1;33m.\u001b[0m\u001b[0mstats\u001b[0m \u001b[1;32mimport\u001b[0m \u001b[0mbartlett\u001b[0m\u001b[1;33m\u001b[0m\u001b[1;33m\u001b[0m\u001b[0m\n\u001b[0;32m      5\u001b[0m \u001b[1;33m\u001b[0m\u001b[0m\n\u001b[1;32m----> 6\u001b[1;33m \u001b[0mstats\u001b[0m\u001b[1;33m.\u001b[0m\u001b[0mbartlett\u001b[0m\u001b[1;33m(\u001b[0m\u001b[1;34m'Arable'\u001b[0m\u001b[1;33m,\u001b[0m \u001b[1;34m'Beach'\u001b[0m\u001b[1;33m,\u001b[0m \u001b[1;34m'Roadside'\u001b[0m\u001b[1;33m,\u001b[0m \u001b[1;34m'Waste_place'\u001b[0m\u001b[1;33m)\u001b[0m\u001b[1;33m\u001b[0m\u001b[1;33m\u001b[0m\u001b[0m\n\u001b[0m",
      "\u001b[1;32m~\\anaconda3\\lib\\site-packages\\scipy\\stats\\morestats.py\u001b[0m in \u001b[0;36mbartlett\u001b[1;34m(*args)\u001b[0m\n\u001b[0;32m   2462\u001b[0m     \u001b[1;32mfor\u001b[0m \u001b[0mj\u001b[0m \u001b[1;32min\u001b[0m \u001b[0mrange\u001b[0m\u001b[1;33m(\u001b[0m\u001b[0mk\u001b[0m\u001b[1;33m)\u001b[0m\u001b[1;33m:\u001b[0m\u001b[1;33m\u001b[0m\u001b[1;33m\u001b[0m\u001b[0m\n\u001b[0;32m   2463\u001b[0m         \u001b[0mNi\u001b[0m\u001b[1;33m[\u001b[0m\u001b[0mj\u001b[0m\u001b[1;33m]\u001b[0m \u001b[1;33m=\u001b[0m \u001b[0mlen\u001b[0m\u001b[1;33m(\u001b[0m\u001b[0margs\u001b[0m\u001b[1;33m[\u001b[0m\u001b[0mj\u001b[0m\u001b[1;33m]\u001b[0m\u001b[1;33m)\u001b[0m\u001b[1;33m\u001b[0m\u001b[1;33m\u001b[0m\u001b[0m\n\u001b[1;32m-> 2464\u001b[1;33m         \u001b[0mssq\u001b[0m\u001b[1;33m[\u001b[0m\u001b[0mj\u001b[0m\u001b[1;33m]\u001b[0m \u001b[1;33m=\u001b[0m \u001b[0mnp\u001b[0m\u001b[1;33m.\u001b[0m\u001b[0mvar\u001b[0m\u001b[1;33m(\u001b[0m\u001b[0margs\u001b[0m\u001b[1;33m[\u001b[0m\u001b[0mj\u001b[0m\u001b[1;33m]\u001b[0m\u001b[1;33m,\u001b[0m \u001b[0mddof\u001b[0m\u001b[1;33m=\u001b[0m\u001b[1;36m1\u001b[0m\u001b[1;33m)\u001b[0m\u001b[1;33m\u001b[0m\u001b[1;33m\u001b[0m\u001b[0m\n\u001b[0m\u001b[0;32m   2465\u001b[0m     \u001b[0mNtot\u001b[0m \u001b[1;33m=\u001b[0m \u001b[0mnp\u001b[0m\u001b[1;33m.\u001b[0m\u001b[0msum\u001b[0m\u001b[1;33m(\u001b[0m\u001b[0mNi\u001b[0m\u001b[1;33m,\u001b[0m \u001b[0maxis\u001b[0m\u001b[1;33m=\u001b[0m\u001b[1;36m0\u001b[0m\u001b[1;33m)\u001b[0m\u001b[1;33m\u001b[0m\u001b[1;33m\u001b[0m\u001b[0m\n\u001b[0;32m   2466\u001b[0m     \u001b[0mspsq\u001b[0m \u001b[1;33m=\u001b[0m \u001b[0mnp\u001b[0m\u001b[1;33m.\u001b[0m\u001b[0msum\u001b[0m\u001b[1;33m(\u001b[0m\u001b[1;33m(\u001b[0m\u001b[0mNi\u001b[0m \u001b[1;33m-\u001b[0m \u001b[1;36m1\u001b[0m\u001b[1;33m)\u001b[0m\u001b[1;33m*\u001b[0m\u001b[0mssq\u001b[0m\u001b[1;33m,\u001b[0m \u001b[0maxis\u001b[0m\u001b[1;33m=\u001b[0m\u001b[1;36m0\u001b[0m\u001b[1;33m)\u001b[0m \u001b[1;33m/\u001b[0m \u001b[1;33m(\u001b[0m\u001b[1;36m1.0\u001b[0m\u001b[1;33m*\u001b[0m\u001b[1;33m(\u001b[0m\u001b[0mNtot\u001b[0m \u001b[1;33m-\u001b[0m \u001b[0mk\u001b[0m\u001b[1;33m)\u001b[0m\u001b[1;33m)\u001b[0m\u001b[1;33m\u001b[0m\u001b[1;33m\u001b[0m\u001b[0m\n",
      "\u001b[1;32m<__array_function__ internals>\u001b[0m in \u001b[0;36mvar\u001b[1;34m(*args, **kwargs)\u001b[0m\n",
      "\u001b[1;32m~\\anaconda3\\lib\\site-packages\\numpy\\core\\fromnumeric.py\u001b[0m in \u001b[0;36mvar\u001b[1;34m(a, axis, dtype, out, ddof, keepdims, where)\u001b[0m\n\u001b[0;32m   3700\u001b[0m             \u001b[1;32mreturn\u001b[0m \u001b[0mvar\u001b[0m\u001b[1;33m(\u001b[0m\u001b[0maxis\u001b[0m\u001b[1;33m=\u001b[0m\u001b[0maxis\u001b[0m\u001b[1;33m,\u001b[0m \u001b[0mdtype\u001b[0m\u001b[1;33m=\u001b[0m\u001b[0mdtype\u001b[0m\u001b[1;33m,\u001b[0m \u001b[0mout\u001b[0m\u001b[1;33m=\u001b[0m\u001b[0mout\u001b[0m\u001b[1;33m,\u001b[0m \u001b[0mddof\u001b[0m\u001b[1;33m=\u001b[0m\u001b[0mddof\u001b[0m\u001b[1;33m,\u001b[0m \u001b[1;33m**\u001b[0m\u001b[0mkwargs\u001b[0m\u001b[1;33m)\u001b[0m\u001b[1;33m\u001b[0m\u001b[1;33m\u001b[0m\u001b[0m\n\u001b[0;32m   3701\u001b[0m \u001b[1;33m\u001b[0m\u001b[0m\n\u001b[1;32m-> 3702\u001b[1;33m     return _methods._var(a, axis=axis, dtype=dtype, out=out, ddof=ddof,\n\u001b[0m\u001b[0;32m   3703\u001b[0m                          **kwargs)\n\u001b[0;32m   3704\u001b[0m \u001b[1;33m\u001b[0m\u001b[0m\n",
      "\u001b[1;32m~\\anaconda3\\lib\\site-packages\\numpy\\core\\_methods.py\u001b[0m in \u001b[0;36m_var\u001b[1;34m(a, axis, dtype, out, ddof, keepdims, where)\u001b[0m\n\u001b[0;32m    209\u001b[0m     \u001b[1;31m# Note that if dtype is not of inexact type then arraymean will\u001b[0m\u001b[1;33m\u001b[0m\u001b[1;33m\u001b[0m\u001b[0m\n\u001b[0;32m    210\u001b[0m     \u001b[1;31m# not be either.\u001b[0m\u001b[1;33m\u001b[0m\u001b[1;33m\u001b[0m\u001b[0m\n\u001b[1;32m--> 211\u001b[1;33m     \u001b[0marrmean\u001b[0m \u001b[1;33m=\u001b[0m \u001b[0mumr_sum\u001b[0m\u001b[1;33m(\u001b[0m\u001b[0marr\u001b[0m\u001b[1;33m,\u001b[0m \u001b[0maxis\u001b[0m\u001b[1;33m,\u001b[0m \u001b[0mdtype\u001b[0m\u001b[1;33m,\u001b[0m \u001b[0mkeepdims\u001b[0m\u001b[1;33m=\u001b[0m\u001b[1;32mTrue\u001b[0m\u001b[1;33m,\u001b[0m \u001b[0mwhere\u001b[0m\u001b[1;33m=\u001b[0m\u001b[0mwhere\u001b[0m\u001b[1;33m)\u001b[0m\u001b[1;33m\u001b[0m\u001b[1;33m\u001b[0m\u001b[0m\n\u001b[0m\u001b[0;32m    212\u001b[0m     \u001b[1;31m# The shape of rcount has to match arrmean to not change the shape of out\u001b[0m\u001b[1;33m\u001b[0m\u001b[1;33m\u001b[0m\u001b[0m\n\u001b[0;32m    213\u001b[0m     \u001b[1;31m# in broadcasting. Otherwise, it cannot be stored back to arrmean.\u001b[0m\u001b[1;33m\u001b[0m\u001b[1;33m\u001b[0m\u001b[0m\n",
      "\u001b[1;31mTypeError\u001b[0m: cannot perform reduce with flexible type"
     ]
    }
   ],
   "source": [
    "# These data appear heteroscedastic; ANOVA may not be suitable.\n",
    "# To test this, we shall run Bartlett's test.\n",
    "\n",
    "from scipy.stats import bartlett\n",
    "\n",
    "stats.bartlett('Arable', 'Beach', 'Roadside', 'Waste_place')"
   ]
  },
  {
   "cell_type": "code",
   "execution_count": null,
   "id": "aa0acc90",
   "metadata": {},
   "outputs": [],
   "source": []
  }
 ],
 "metadata": {
  "kernelspec": {
   "display_name": "Python 3 (ipykernel)",
   "language": "python",
   "name": "python3"
  },
  "language_info": {
   "codemirror_mode": {
    "name": "ipython",
    "version": 3
   },
   "file_extension": ".py",
   "mimetype": "text/x-python",
   "name": "python",
   "nbconvert_exporter": "python",
   "pygments_lexer": "ipython3",
   "version": "3.9.7"
  }
 },
 "nbformat": 4,
 "nbformat_minor": 5
}
