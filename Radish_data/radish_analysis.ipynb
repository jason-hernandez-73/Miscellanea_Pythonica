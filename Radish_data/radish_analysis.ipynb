{
 "cells": [
  {
   "cell_type": "code",
   "execution_count": 9,
   "id": "ab8a606a",
   "metadata": {},
   "outputs": [],
   "source": [
    "import pandas as pd\n",
    "from statsmodels.formula.api import ols\n",
    "from statsmodels.stats.anova import anova_lm\n",
    "from statsmodels.graphics.factorplots import interaction_plot\n",
    "import matplotlib.pyplot as plt\n",
    "from scipy import stats"
   ]
  },
  {
   "cell_type": "code",
   "execution_count": 10,
   "id": "1ee1ba0f",
   "metadata": {},
   "outputs": [],
   "source": [
    "import numpy as np"
   ]
  },
  {
   "cell_type": "code",
   "execution_count": 11,
   "id": "38079b7e",
   "metadata": {},
   "outputs": [],
   "source": [
    "# Data by habitat\n",
    "\n",
    "data_anth = {'Arable': [80, 0, 0, 8],\n",
    "             'Beach': [78, 62],\n",
    "             'Roadside': [85, 62, 10, 3, 18, 18, 98, 71, 78, 12, 52, 39, 24, 13],\n",
    "             'Waste_place': [78, 33, 78, 40, 47, 32]\n",
    "            }\n",
    "\n",
    "data_caro = {'Arable': [0, 93, 85, 52],\n",
    "             'Beach': [2, 5],\n",
    "             'Roadside': [0.4, 16, 55, 64, 32, 32, 6, 4, 3, 48, 10, 15, 25, 54],\n",
    "             'Waste_place': [2, 15, 3, 22, 13, 6]\n",
    "            }\n",
    "\n",
    "data_both = {'Arable': [0, 0, 0, 2],\n",
    "             'Beach': [1, 1],\n",
    "             'Roadside': [0.8, 2, 3, 2, 1, 1, 0, 4, 11, 4, 6, 7, 3, 6],\n",
    "             'Waste_place': [2, 2, 0, 3, 4, 2]\n",
    "            }"
   ]
  },
  {
   "cell_type": "code",
   "execution_count": 19,
   "id": "01c3d6a1",
   "metadata": {},
   "outputs": [],
   "source": [
    "# Data by region\n",
    "\n",
    "data_anth2 = {'Stockton': [10, 0, 0, 8],\n",
    "              'SF_Pen': [80, 62, 85, 33, 78],\n",
    "              'S_Delta': [71, 78, 24, 13],\n",
    "              'N_Bay_Marin': [62, 14, 12],\n",
    "              'Monterey': [78, 78],\n",
    "              'E_Bay': [40, 47, 32, 52, 30, 39],\n",
    "              'Central_Valley': [3, 18, 18, 89]\n",
    "             }\n",
    "\n",
    "data_caro2 = {'Stockton': [55, 93, 85, 52],\n",
    "              'SF_Pen': [0, 5, 0.4, 15, 3],\n",
    "              'S_Delta': [4, 3, 25, 54],\n",
    "              'N_Bay_Marin': [16, 72, 48],\n",
    "              'Monterey': [2, 2],\n",
    "              'E_Bay': [22, 13, 16, 10, 9, 15],\n",
    "              'Central_Valley': [64, 32, 32, 6]\n",
    "             }\n",
    "\n",
    "data_both2 = {'Stockton': [3, 0, 0, 2],\n",
    "              'SF_Pen': [0, 1, 0.8, 15, 3],\n",
    "              'S_Delta': [4, 11, 3, 6],\n",
    "              'N_Bay_Marin': [2, 3, 4],\n",
    "              'Monterey': [2, 1],\n",
    "              'E_Bay': [3, 4, 2, 6, 4, 7],\n",
    "              'Central_Valley': [2, 1, 1, 0]\n",
    "             }"
   ]
  },
  {
   "cell_type": "code",
   "execution_count": 23,
   "id": "1aefa133",
   "metadata": {},
   "outputs": [
    {
     "name": "stdout",
     "output_type": "stream",
     "text": [
      "    Arable  Beach  Roadside  Waste_place\n",
      "0     80.0   78.0        85         78.0\n",
      "1      0.0   62.0        62         33.0\n",
      "2      0.0    NaN        10         78.0\n",
      "3      8.0    NaN         3         40.0\n",
      "4      NaN    NaN        18         47.0\n",
      "5      NaN    NaN        18         32.0\n",
      "6      NaN    NaN        98          NaN\n",
      "7      NaN    NaN        71          NaN\n",
      "8      NaN    NaN        78          NaN\n",
      "9      NaN    NaN        12          NaN\n",
      "10     NaN    NaN        52          NaN\n",
      "11     NaN    NaN        39          NaN\n",
      "12     NaN    NaN        24          NaN\n",
      "13     NaN    NaN        13          NaN\n"
     ]
    }
   ],
   "source": [
    "df = pd.DataFrame({k: pd.Series(v) for k, v in data_anth.items()})\n",
    "print(df)"
   ]
  },
  {
   "cell_type": "code",
   "execution_count": 8,
   "id": "f2253b62",
   "metadata": {},
   "outputs": [
    {
     "ename": "TypeError",
     "evalue": "at least two inputs are required; got 1.",
     "output_type": "error",
     "traceback": [
      "\u001b[1;31m---------------------------------------------------------------------------\u001b[0m",
      "\u001b[1;31mTypeError\u001b[0m                                 Traceback (most recent call last)",
      "\u001b[1;32m~\\AppData\\Local\\Temp/ipykernel_8320/3816274403.py\u001b[0m in \u001b[0;36m<module>\u001b[1;34m\u001b[0m\n\u001b[1;32m----> 1\u001b[1;33m \u001b[0mf_val\u001b[0m\u001b[1;33m,\u001b[0m \u001b[0mp_val\u001b[0m \u001b[1;33m=\u001b[0m \u001b[0mstats\u001b[0m\u001b[1;33m.\u001b[0m\u001b[0mf_oneway\u001b[0m\u001b[1;33m(\u001b[0m\u001b[0mdata_anth\u001b[0m\u001b[1;33m)\u001b[0m\u001b[1;33m\u001b[0m\u001b[1;33m\u001b[0m\u001b[0m\n\u001b[0m\u001b[0;32m      2\u001b[0m \u001b[0mp_val\u001b[0m\u001b[1;33m\u001b[0m\u001b[1;33m\u001b[0m\u001b[0m\n",
      "\u001b[1;32m~\\anaconda3\\lib\\site-packages\\scipy\\stats\\stats.py\u001b[0m in \u001b[0;36mf_oneway\u001b[1;34m(axis, *args)\u001b[0m\n\u001b[0;32m   3602\u001b[0m     \"\"\"\n\u001b[0;32m   3603\u001b[0m     \u001b[1;32mif\u001b[0m \u001b[0mlen\u001b[0m\u001b[1;33m(\u001b[0m\u001b[0margs\u001b[0m\u001b[1;33m)\u001b[0m \u001b[1;33m<\u001b[0m \u001b[1;36m2\u001b[0m\u001b[1;33m:\u001b[0m\u001b[1;33m\u001b[0m\u001b[1;33m\u001b[0m\u001b[0m\n\u001b[1;32m-> 3604\u001b[1;33m         \u001b[1;32mraise\u001b[0m \u001b[0mTypeError\u001b[0m\u001b[1;33m(\u001b[0m\u001b[1;34mf'at least two inputs are required; got {len(args)}.'\u001b[0m\u001b[1;33m)\u001b[0m\u001b[1;33m\u001b[0m\u001b[1;33m\u001b[0m\u001b[0m\n\u001b[0m\u001b[0;32m   3605\u001b[0m \u001b[1;33m\u001b[0m\u001b[0m\n\u001b[0;32m   3606\u001b[0m     \u001b[0margs\u001b[0m \u001b[1;33m=\u001b[0m \u001b[1;33m[\u001b[0m\u001b[0mnp\u001b[0m\u001b[1;33m.\u001b[0m\u001b[0masarray\u001b[0m\u001b[1;33m(\u001b[0m\u001b[0marg\u001b[0m\u001b[1;33m,\u001b[0m \u001b[0mdtype\u001b[0m\u001b[1;33m=\u001b[0m\u001b[0mfloat\u001b[0m\u001b[1;33m)\u001b[0m \u001b[1;32mfor\u001b[0m \u001b[0marg\u001b[0m \u001b[1;32min\u001b[0m \u001b[0margs\u001b[0m\u001b[1;33m]\u001b[0m\u001b[1;33m\u001b[0m\u001b[1;33m\u001b[0m\u001b[0m\n",
      "\u001b[1;31mTypeError\u001b[0m: at least two inputs are required; got 1."
     ]
    }
   ],
   "source": []
  },
  {
   "cell_type": "code",
   "execution_count": null,
   "id": "5969936f",
   "metadata": {},
   "outputs": [],
   "source": []
  }
 ],
 "metadata": {
  "kernelspec": {
   "display_name": "Python 3 (ipykernel)",
   "language": "python",
   "name": "python3"
  },
  "language_info": {
   "codemirror_mode": {
    "name": "ipython",
    "version": 3
   },
   "file_extension": ".py",
   "mimetype": "text/x-python",
   "name": "python",
   "nbconvert_exporter": "python",
   "pygments_lexer": "ipython3",
   "version": "3.9.7"
  }
 },
 "nbformat": 4,
 "nbformat_minor": 5
}
