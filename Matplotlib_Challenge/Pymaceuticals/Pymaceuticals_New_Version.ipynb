{
 "cells": [
  {
   "cell_type": "markdown",
   "metadata": {},
   "source": [
    "## Observations and Insights\n",
    "\n",
    "### Most of these treatments are not distinguishable from placebo. In mean tumor volume, only Ramicane and Capomulin stand out as ending in noticeably smaller  tumors. In the three individual mice chosen for in-depth examination of Capomulin, the tumor steadily shrank with each succeeding timepoint. This is borne out in the box plots, where Ramicane and Capomulin not only have a smaller mean tumor size than Propriva and Ceftamin, but these two effective drugs also show outliers with much smaller tumor volumes, in contrast to the ineffective ones, with outliers at larger tumor sizes.\n",
    "\n",
    "### Capomulin and Ramicane were the only two drugs with more than 200 measurements. This also supports their effectiveness, because every surviving mouse was measured at every timepoint. The other drugs tested, and the placebo, experienced mouse mortality during the course of treatment, which resulted in fewer mice to measure at later timepoints. Propriva actually showed higher mouse mortality than placebo, which likely accounts for its slightly smaller mean tumor volume, i.e. mice died before their tumors reached full size.\n",
    "\n",
    "### Historically, many mouse experiments have worked only with male mice in an effort to minimize metabolic variability, but this raises questions as to whether a given drug regimen will be as effective in females. In this study, approximately equal numbers of male and female mice were used. Further analysis of Capomulin and Ramicane, grouped by sex, would help to elucidate whether these drugs differ in efficacy by sex."
   ]
  },
  {
   "cell_type": "markdown",
   "metadata": {},
   "source": []
  },
  {
   "cell_type": "markdown",
   "metadata": {},
   "source": [
    "## Dependencies and starter code"
   ]
  },
  {
   "cell_type": "code",
   "execution_count": 1,
   "metadata": {},
   "outputs": [],
   "source": [
    "# Dependencies and Setup\n",
    "import matplotlib.pyplot as plt\n",
    "import pandas as pd\n",
    "import scipy.stats as st\n",
    "\n",
    "# Study data files\n",
    "mouse_metadata = \"Mouse_metadata.csv\"\n",
    "study_results = \"Study_results.csv\"\n",
    "\n",
    "# Read the mouse data and the study results\n",
    "mouse_metadata = pd.read_csv(mouse_metadata)\n",
    "study_results = pd.read_csv(study_results)\n"
   ]
  },
  {
   "cell_type": "code",
   "execution_count": 2,
   "metadata": {},
   "outputs": [
    {
     "data": {
      "text/html": [
       "<div>\n",
       "<style scoped>\n",
       "    .dataframe tbody tr th:only-of-type {\n",
       "        vertical-align: middle;\n",
       "    }\n",
       "\n",
       "    .dataframe tbody tr th {\n",
       "        vertical-align: top;\n",
       "    }\n",
       "\n",
       "    .dataframe thead th {\n",
       "        text-align: right;\n",
       "    }\n",
       "</style>\n",
       "<table border=\"1\" class=\"dataframe\">\n",
       "  <thead>\n",
       "    <tr style=\"text-align: right;\">\n",
       "      <th></th>\n",
       "      <th>Mouse ID</th>\n",
       "      <th>Drug Regimen</th>\n",
       "      <th>Sex</th>\n",
       "      <th>Age_months</th>\n",
       "      <th>Weight (g)</th>\n",
       "      <th>Timepoint</th>\n",
       "      <th>Tumor Volume (mm3)</th>\n",
       "      <th>Metastatic Sites</th>\n",
       "    </tr>\n",
       "  </thead>\n",
       "  <tbody>\n",
       "    <tr>\n",
       "      <th>0</th>\n",
       "      <td>k403</td>\n",
       "      <td>Ramicane</td>\n",
       "      <td>Male</td>\n",
       "      <td>21</td>\n",
       "      <td>16</td>\n",
       "      <td>0</td>\n",
       "      <td>45.000000</td>\n",
       "      <td>0</td>\n",
       "    </tr>\n",
       "    <tr>\n",
       "      <th>1</th>\n",
       "      <td>k403</td>\n",
       "      <td>Ramicane</td>\n",
       "      <td>Male</td>\n",
       "      <td>21</td>\n",
       "      <td>16</td>\n",
       "      <td>5</td>\n",
       "      <td>38.825898</td>\n",
       "      <td>0</td>\n",
       "    </tr>\n",
       "    <tr>\n",
       "      <th>2</th>\n",
       "      <td>k403</td>\n",
       "      <td>Ramicane</td>\n",
       "      <td>Male</td>\n",
       "      <td>21</td>\n",
       "      <td>16</td>\n",
       "      <td>10</td>\n",
       "      <td>35.014271</td>\n",
       "      <td>1</td>\n",
       "    </tr>\n",
       "    <tr>\n",
       "      <th>3</th>\n",
       "      <td>k403</td>\n",
       "      <td>Ramicane</td>\n",
       "      <td>Male</td>\n",
       "      <td>21</td>\n",
       "      <td>16</td>\n",
       "      <td>15</td>\n",
       "      <td>34.223992</td>\n",
       "      <td>1</td>\n",
       "    </tr>\n",
       "    <tr>\n",
       "      <th>4</th>\n",
       "      <td>k403</td>\n",
       "      <td>Ramicane</td>\n",
       "      <td>Male</td>\n",
       "      <td>21</td>\n",
       "      <td>16</td>\n",
       "      <td>20</td>\n",
       "      <td>32.997729</td>\n",
       "      <td>1</td>\n",
       "    </tr>\n",
       "  </tbody>\n",
       "</table>\n",
       "</div>"
      ],
      "text/plain": [
       "  Mouse ID Drug Regimen   Sex  Age_months  Weight (g)  Timepoint  \\\n",
       "0     k403     Ramicane  Male          21          16          0   \n",
       "1     k403     Ramicane  Male          21          16          5   \n",
       "2     k403     Ramicane  Male          21          16         10   \n",
       "3     k403     Ramicane  Male          21          16         15   \n",
       "4     k403     Ramicane  Male          21          16         20   \n",
       "\n",
       "   Tumor Volume (mm3)  Metastatic Sites  \n",
       "0           45.000000                 0  \n",
       "1           38.825898                 0  \n",
       "2           35.014271                 1  \n",
       "3           34.223992                 1  \n",
       "4           32.997729                 1  "
      ]
     },
     "execution_count": 2,
     "metadata": {},
     "output_type": "execute_result"
    }
   ],
   "source": [
    "# Combine the data into a single dataset\n",
    "all_trials_df = pd.merge(mouse_metadata, study_results, on = [\"Mouse ID\", \"Mouse ID\"])\n",
    "\n",
    "# Display the data table for preview\n",
    "all_trials_df.head()"
   ]
  },
  {
   "cell_type": "markdown",
   "metadata": {},
   "source": [
    "## Summary statistics"
   ]
  },
  {
   "cell_type": "code",
   "execution_count": 3,
   "metadata": {},
   "outputs": [
    {
     "data": {
      "text/html": [
       "<div>\n",
       "<style scoped>\n",
       "    .dataframe tbody tr th:only-of-type {\n",
       "        vertical-align: middle;\n",
       "    }\n",
       "\n",
       "    .dataframe tbody tr th {\n",
       "        vertical-align: top;\n",
       "    }\n",
       "\n",
       "    .dataframe thead th {\n",
       "        text-align: right;\n",
       "    }\n",
       "</style>\n",
       "<table border=\"1\" class=\"dataframe\">\n",
       "  <thead>\n",
       "    <tr style=\"text-align: right;\">\n",
       "      <th></th>\n",
       "      <th>Mean Tumor Volume</th>\n",
       "      <th>Median Tumor Volume</th>\n",
       "      <th>Variance of Tumor Volumes</th>\n",
       "      <th>STDEV of Tumor Volumes</th>\n",
       "      <th>SEM of Tumor Volumes</th>\n",
       "    </tr>\n",
       "    <tr>\n",
       "      <th>Drug Regimen</th>\n",
       "      <th></th>\n",
       "      <th></th>\n",
       "      <th></th>\n",
       "      <th></th>\n",
       "      <th></th>\n",
       "    </tr>\n",
       "  </thead>\n",
       "  <tbody>\n",
       "    <tr>\n",
       "      <th>Capomulin</th>\n",
       "      <td>40.675741</td>\n",
       "      <td>41.557809</td>\n",
       "      <td>24.947764</td>\n",
       "      <td>4.994774</td>\n",
       "      <td>0.329346</td>\n",
       "    </tr>\n",
       "    <tr>\n",
       "      <th>Ceftamin</th>\n",
       "      <td>52.591172</td>\n",
       "      <td>51.776157</td>\n",
       "      <td>39.290177</td>\n",
       "      <td>6.268188</td>\n",
       "      <td>0.469821</td>\n",
       "    </tr>\n",
       "    <tr>\n",
       "      <th>Infubinol</th>\n",
       "      <td>52.884795</td>\n",
       "      <td>51.820584</td>\n",
       "      <td>43.128684</td>\n",
       "      <td>6.567243</td>\n",
       "      <td>0.492236</td>\n",
       "    </tr>\n",
       "    <tr>\n",
       "      <th>Ketapril</th>\n",
       "      <td>55.235638</td>\n",
       "      <td>53.698743</td>\n",
       "      <td>68.553577</td>\n",
       "      <td>8.279709</td>\n",
       "      <td>0.603860</td>\n",
       "    </tr>\n",
       "    <tr>\n",
       "      <th>Naftisol</th>\n",
       "      <td>54.331565</td>\n",
       "      <td>52.509285</td>\n",
       "      <td>66.173479</td>\n",
       "      <td>8.134708</td>\n",
       "      <td>0.596466</td>\n",
       "    </tr>\n",
       "    <tr>\n",
       "      <th>Placebo</th>\n",
       "      <td>54.033581</td>\n",
       "      <td>52.288934</td>\n",
       "      <td>61.168083</td>\n",
       "      <td>7.821003</td>\n",
       "      <td>0.581331</td>\n",
       "    </tr>\n",
       "    <tr>\n",
       "      <th>Propriva</th>\n",
       "      <td>52.322552</td>\n",
       "      <td>50.854632</td>\n",
       "      <td>42.351070</td>\n",
       "      <td>6.507770</td>\n",
       "      <td>0.512884</td>\n",
       "    </tr>\n",
       "    <tr>\n",
       "      <th>Ramicane</th>\n",
       "      <td>40.216745</td>\n",
       "      <td>40.673236</td>\n",
       "      <td>23.486704</td>\n",
       "      <td>4.846308</td>\n",
       "      <td>0.320955</td>\n",
       "    </tr>\n",
       "    <tr>\n",
       "      <th>Stelasyn</th>\n",
       "      <td>54.233149</td>\n",
       "      <td>52.431737</td>\n",
       "      <td>59.450562</td>\n",
       "      <td>7.710419</td>\n",
       "      <td>0.573111</td>\n",
       "    </tr>\n",
       "    <tr>\n",
       "      <th>Zoniferol</th>\n",
       "      <td>53.236507</td>\n",
       "      <td>51.818479</td>\n",
       "      <td>48.533355</td>\n",
       "      <td>6.966589</td>\n",
       "      <td>0.516398</td>\n",
       "    </tr>\n",
       "  </tbody>\n",
       "</table>\n",
       "</div>"
      ],
      "text/plain": [
       "              Mean Tumor Volume  Median Tumor Volume  \\\n",
       "Drug Regimen                                           \n",
       "Capomulin             40.675741            41.557809   \n",
       "Ceftamin              52.591172            51.776157   \n",
       "Infubinol             52.884795            51.820584   \n",
       "Ketapril              55.235638            53.698743   \n",
       "Naftisol              54.331565            52.509285   \n",
       "Placebo               54.033581            52.288934   \n",
       "Propriva              52.322552            50.854632   \n",
       "Ramicane              40.216745            40.673236   \n",
       "Stelasyn              54.233149            52.431737   \n",
       "Zoniferol             53.236507            51.818479   \n",
       "\n",
       "              Variance of Tumor Volumes  STDEV of Tumor Volumes  \\\n",
       "Drug Regimen                                                      \n",
       "Capomulin                     24.947764                4.994774   \n",
       "Ceftamin                      39.290177                6.268188   \n",
       "Infubinol                     43.128684                6.567243   \n",
       "Ketapril                      68.553577                8.279709   \n",
       "Naftisol                      66.173479                8.134708   \n",
       "Placebo                       61.168083                7.821003   \n",
       "Propriva                      42.351070                6.507770   \n",
       "Ramicane                      23.486704                4.846308   \n",
       "Stelasyn                      59.450562                7.710419   \n",
       "Zoniferol                     48.533355                6.966589   \n",
       "\n",
       "              SEM of Tumor Volumes  \n",
       "Drug Regimen                        \n",
       "Capomulin                 0.329346  \n",
       "Ceftamin                  0.469821  \n",
       "Infubinol                 0.492236  \n",
       "Ketapril                  0.603860  \n",
       "Naftisol                  0.596466  \n",
       "Placebo                   0.581331  \n",
       "Propriva                  0.512884  \n",
       "Ramicane                  0.320955  \n",
       "Stelasyn                  0.573111  \n",
       "Zoniferol                 0.516398  "
      ]
     },
     "execution_count": 3,
     "metadata": {},
     "output_type": "execute_result"
    }
   ],
   "source": [
    "# Generate a summary statistics table of mean, median, variance, standard deviation, \n",
    "# and SEM of the tumor volume for each regimen\n",
    "means = all_trials_df.groupby([\"Drug Regimen\"]).mean()[\"Tumor Volume (mm3)\"]\n",
    "medians = all_trials_df.groupby([\"Drug Regimen\"]).median()[\"Tumor Volume (mm3)\"]\n",
    "variances = all_trials_df.groupby([\"Drug Regimen\"]).var()[\"Tumor Volume (mm3)\"]\n",
    "sdevs = all_trials_df.groupby([\"Drug Regimen\"]).std()[\"Tumor Volume (mm3)\"]\n",
    "sems = all_trials_df.groupby([\"Drug Regimen\"]).sem()[\"Tumor Volume (mm3)\"]\n",
    "\n",
    "# Display dataframe\n",
    "summary_df = pd.DataFrame({\"Mean Tumor Volume\" : means,\n",
    "                         \"Median Tumor Volume\" : medians,\n",
    "                         \"Variance of Tumor Volumes\" : variances,\n",
    "                         \"STDEV of Tumor Volumes\" : sdevs,\n",
    "                          \"SEM of Tumor Volumes\" : sems})\n",
    "summary_df"
   ]
  },
  {
   "cell_type": "code",
   "execution_count": 4,
   "metadata": {},
   "outputs": [
    {
     "data": {
      "text/html": [
       "<div>\n",
       "<style scoped>\n",
       "    .dataframe tbody tr th:only-of-type {\n",
       "        vertical-align: middle;\n",
       "    }\n",
       "\n",
       "    .dataframe tbody tr th {\n",
       "        vertical-align: top;\n",
       "    }\n",
       "\n",
       "    .dataframe thead th {\n",
       "        text-align: right;\n",
       "    }\n",
       "</style>\n",
       "<table border=\"1\" class=\"dataframe\">\n",
       "  <thead>\n",
       "    <tr style=\"text-align: right;\">\n",
       "      <th></th>\n",
       "      <th>Mean Tumor Volume</th>\n",
       "      <th>Median Tumor Volume</th>\n",
       "      <th>Variance of Tumor Volumes</th>\n",
       "      <th>STDEV of Tumor Volumes</th>\n",
       "      <th>SEM of Tumor Volumes</th>\n",
       "    </tr>\n",
       "    <tr>\n",
       "      <th>Drug Regimen</th>\n",
       "      <th></th>\n",
       "      <th></th>\n",
       "      <th></th>\n",
       "      <th></th>\n",
       "      <th></th>\n",
       "    </tr>\n",
       "  </thead>\n",
       "  <tbody>\n",
       "    <tr>\n",
       "      <th>Ramicane</th>\n",
       "      <td>40.216745</td>\n",
       "      <td>40.673236</td>\n",
       "      <td>23.486704</td>\n",
       "      <td>4.846308</td>\n",
       "      <td>0.320955</td>\n",
       "    </tr>\n",
       "    <tr>\n",
       "      <th>Capomulin</th>\n",
       "      <td>40.675741</td>\n",
       "      <td>41.557809</td>\n",
       "      <td>24.947764</td>\n",
       "      <td>4.994774</td>\n",
       "      <td>0.329346</td>\n",
       "    </tr>\n",
       "    <tr>\n",
       "      <th>Propriva</th>\n",
       "      <td>52.322552</td>\n",
       "      <td>50.854632</td>\n",
       "      <td>42.351070</td>\n",
       "      <td>6.507770</td>\n",
       "      <td>0.512884</td>\n",
       "    </tr>\n",
       "    <tr>\n",
       "      <th>Ceftamin</th>\n",
       "      <td>52.591172</td>\n",
       "      <td>51.776157</td>\n",
       "      <td>39.290177</td>\n",
       "      <td>6.268188</td>\n",
       "      <td>0.469821</td>\n",
       "    </tr>\n",
       "    <tr>\n",
       "      <th>Infubinol</th>\n",
       "      <td>52.884795</td>\n",
       "      <td>51.820584</td>\n",
       "      <td>43.128684</td>\n",
       "      <td>6.567243</td>\n",
       "      <td>0.492236</td>\n",
       "    </tr>\n",
       "  </tbody>\n",
       "</table>\n",
       "</div>"
      ],
      "text/plain": [
       "              Mean Tumor Volume  Median Tumor Volume  \\\n",
       "Drug Regimen                                           \n",
       "Ramicane              40.216745            40.673236   \n",
       "Capomulin             40.675741            41.557809   \n",
       "Propriva              52.322552            50.854632   \n",
       "Ceftamin              52.591172            51.776157   \n",
       "Infubinol             52.884795            51.820584   \n",
       "\n",
       "              Variance of Tumor Volumes  STDEV of Tumor Volumes  \\\n",
       "Drug Regimen                                                      \n",
       "Ramicane                      23.486704                4.846308   \n",
       "Capomulin                     24.947764                4.994774   \n",
       "Propriva                      42.351070                6.507770   \n",
       "Ceftamin                      39.290177                6.268188   \n",
       "Infubinol                     43.128684                6.567243   \n",
       "\n",
       "              SEM of Tumor Volumes  \n",
       "Drug Regimen                        \n",
       "Ramicane                  0.320955  \n",
       "Capomulin                 0.329346  \n",
       "Propriva                  0.512884  \n",
       "Ceftamin                  0.469821  \n",
       "Infubinol                 0.492236  "
      ]
     },
     "execution_count": 4,
     "metadata": {},
     "output_type": "execute_result"
    }
   ],
   "source": [
    "summary_df = summary_df.sort_values(\"Mean Tumor Volume\", ascending = True)\n",
    "summary_df.head()"
   ]
  },
  {
   "cell_type": "markdown",
   "metadata": {},
   "source": [
    "## Bar plots"
   ]
  },
  {
   "cell_type": "code",
   "execution_count": 5,
   "metadata": {},
   "outputs": [
    {
     "data": {
      "text/plain": [
       "Text(0, 0.5, 'Number of Measurements')"
      ]
     },
     "execution_count": 5,
     "metadata": {},
     "output_type": "execute_result"
    },
    {
     "data": {
      "image/png": "[encoded data removed]",
      "text/plain": [
       "<Figure size 432x288 with 1 Axes>"
      ]
     },
     "metadata": {
      "needs_background": "light"
     },
     "output_type": "display_data"
    }
   ],
   "source": [
    "# Generate a bar plot showing number of data points for each treatment regimen using pandas\n",
    "measurements = all_trials_df.groupby([\"Drug Regimen\"]).count()[\"Tumor Volume (mm3)\"]\n",
    "\n",
    "ax = measurements.plot(kind = 'bar')\n",
    "plt.ylabel(\"Number of Measurements\")"
   ]
  },
  {
   "cell_type": "code",
   "execution_count": 22,
   "metadata": {},
   "outputs": [
    {
     "ename": "TypeError",
     "evalue": "'DataFrame' object is not callable",
     "output_type": "error",
     "traceback": [
      "\u001b[1;31m---------------------------------------------------------------------------\u001b[0m",
      "\u001b[1;31mTypeError\u001b[0m                                 Traceback (most recent call last)",
      "\u001b[1;32m<ipython-input-22-fd1935e609bc>\u001b[0m in \u001b[0;36m<module>\u001b[1;34m\u001b[0m\n\u001b[0;32m      1\u001b[0m \u001b[1;31m# Generate a bar plot showing number of data points for each treatment regimen using pyplot\u001b[0m\u001b[1;33m\u001b[0m\u001b[1;33m\u001b[0m\u001b[1;33m\u001b[0m\u001b[0m\n\u001b[1;32m----> 2\u001b[1;33m \u001b[0mregimen\u001b[0m \u001b[1;33m=\u001b[0m \u001b[0mall_trials_df\u001b[0m\u001b[1;33m(\u001b[0m\u001b[1;33m[\u001b[0m\u001b[1;34m\"Drug Regimen\"\u001b[0m\u001b[1;33m]\u001b[0m\u001b[1;33m)\u001b[0m\u001b[1;33m\u001b[0m\u001b[1;33m\u001b[0m\u001b[0m\n\u001b[0m\u001b[0;32m      3\u001b[0m \u001b[0mmeasurements\u001b[0m \u001b[1;33m=\u001b[0m \u001b[0mall_trials_df\u001b[0m\u001b[1;33m.\u001b[0m\u001b[0mgroupby\u001b[0m\u001b[1;33m(\u001b[0m\u001b[1;33m[\u001b[0m\u001b[1;34m\"Drug Regimen\"\u001b[0m\u001b[1;33m]\u001b[0m\u001b[1;33m)\u001b[0m\u001b[1;33m.\u001b[0m\u001b[0mcount\u001b[0m\u001b[1;33m(\u001b[0m\u001b[1;33m)\u001b[0m\u001b[1;33m[\u001b[0m\u001b[1;34m\"Tumor Volume (mm3)\"\u001b[0m\u001b[1;33m]\u001b[0m\u001b[1;33m\u001b[0m\u001b[1;33m\u001b[0m\u001b[0m\n\u001b[0;32m      4\u001b[0m \u001b[0mplt\u001b[0m\u001b[1;33m.\u001b[0m\u001b[0mbar\u001b[0m\u001b[1;33m(\u001b[0m\u001b[0mregimen\u001b[0m\u001b[1;33m,\u001b[0m \u001b[0mmeasurements\u001b[0m\u001b[1;33m)\u001b[0m\u001b[1;33m\u001b[0m\u001b[1;33m\u001b[0m\u001b[0m\n\u001b[0;32m      5\u001b[0m \u001b[0mplt\u001b[0m\u001b[1;33m.\u001b[0m\u001b[0mtitle\u001b[0m\u001b[1;33m(\u001b[0m\u001b[1;34m\"Data Points per Drug\"\u001b[0m\u001b[1;33m)\u001b[0m\u001b[1;33m\u001b[0m\u001b[1;33m\u001b[0m\u001b[0m\n",
      "\u001b[1;31mTypeError\u001b[0m: 'DataFrame' object is not callable"
     ]
    }
   ],
   "source": [
    "# Generate a bar plot showing number of data points for each treatment regimen using pyplot\n",
    "regimen = all_trials_df([\"Drug Regimen\"])\n",
    "measurements = all_trials_df.groupby([\"Drug Regimen\"]).count()[\"Tumor Volume (mm3)\"]\n",
    "plt.bar(regimen, measurements)\n",
    "plt.title(\"Data Points per Drug\")\n",
    "plt.xlabel(\"Drug Regimen\")\n",
    "plt.ylabel(\"Number of Measurements\")"
   ]
  },
  {
   "cell_type": "markdown",
   "metadata": {},
   "source": [
    "## Pie plots"
   ]
  },
  {
   "cell_type": "code",
   "execution_count": 7,
   "metadata": {},
   "outputs": [
    {
     "data": {
      "image/png": "[encoded data removed]",
      "text/plain": [
       "<Figure size 432x288 with 1 Axes>"
      ]
     },
     "metadata": {},
     "output_type": "display_data"
    }
   ],
   "source": [
    "# Generate a pie plot showing the distribution of female versus male mice using pandas\n",
    "mice_sex = all_trials_df.groupby([\"Sex\"]).count()[\"Mouse ID\"]\n",
    "mf_plot = mice_sex.plot.pie(y = 'mice_sex')"
   ]
  },
  {
   "cell_type": "code",
   "execution_count": 24,
   "metadata": {},
   "outputs": [
    {
     "data": {
      "text/plain": [
       "([<matplotlib.patches.Wedge at 0x1e54653b848>,\n",
       "  <matplotlib.patches.Wedge at 0x1e54653b988>],\n",
       " [Text(0.02099250347258556, 1.0997996703027118, 'Female'),\n",
       "  Text(-0.020992503472586185, -1.0997996703027118, 'Male')])"
      ]
     },
     "execution_count": 24,
     "metadata": {},
     "output_type": "execute_result"
    },
    {
     "data": {
      "image/png": "[encoded data removed]",
      "text/plain": [
       "<Figure size 432x288 with 1 Axes>"
      ]
     },
     "metadata": {},
     "output_type": "display_data"
    }
   ],
   "source": [
    "# Generate a pie plot showing the distribution of female versus male mice using pyplot\n",
    "mice_sex = all_trials_df.groupby([\"Sex\"]).count()[\"Mouse ID\"]\n",
    "labels = 'Female', 'Male'\n",
    "plt.pie(mice_sex, labels = labels)"
   ]
  },
  {
   "cell_type": "markdown",
   "metadata": {},
   "source": [
    "## Quartiles, outliers and boxplots"
   ]
  },
  {
   "cell_type": "code",
   "execution_count": 9,
   "metadata": {},
   "outputs": [],
   "source": [
    "# Calculate the final tumor volume of each mouse across four of the most promising treatment regimens. \n",
    "# Calculate the IQR and quantitatively determine if there are any potential outliers.\n",
    "tumor_volume = all_trials_df.groupby([\"Mouse ID\"]).mean()[\"Tumor Volume (mm3)\"]\n",
    "quartiles = tumor_volume.quantile([0.25, 0.5, 0.75])\n",
    "lowerq = quartiles[0.25]\n",
    "upperq = quartiles[0.75]\n",
    "iqr = upperq - lowerq\n",
    "lower_bound = lowerq - (1.5 * iqr)\n",
    "upper_bound = upperq + (1.5 * iqr)"
   ]
  },
  {
   "cell_type": "code",
   "execution_count": 19,
   "metadata": {},
   "outputs": [
    {
     "name": "stdout",
     "output_type": "stream",
     "text": [
      "<class 'numpy.ndarray'>\n"
     ]
    },
    {
     "data": {
      "text/plain": [
       "[Text(0.5, 0, 'Ceftamin')]"
      ]
     },
     "execution_count": 19,
     "metadata": {},
     "output_type": "execute_result"
    },
    {
     "data": {
      "image/png": "[encoded data removed]",
      "text/plain": [
       "<Figure size 432x288 with 4 Axes>"
      ]
     },
     "metadata": {
      "needs_background": "light"
     },
     "output_type": "display_data"
    }
   ],
   "source": [
    "# Generate a box plot of the final tumor volume of each mouse across four regimens of interest\n",
    "capomulin_df = all_trials_df[all_trials_df[\"Drug Regimen\"] == \"Capomulin\"]\n",
    "ramicane_df = all_trials_df[all_trials_df[\"Drug Regimen\"] == \"Ramicane\"]\n",
    "propriva_df = all_trials_df[all_trials_df[\"Drug Regimen\"] == \"Propriva\"]\n",
    "ceftamin_df = all_trials_df[all_trials_df[\"Drug Regimen\"] == \"Ceftamin\"]\n",
    "fig1, ax1 = plt.subplots(1, 4, sharey = True)\n",
    "\n",
    "print(type(ax1))\n",
    "ax1[0].boxplot(capomulin_df[\"Tumor Volume (mm3)\"], showmeans = True)\n",
    "ax1[0].set(xlabel=\"Capomulin\")\n",
    "ax1[1].boxplot(ramicane_df[\"Tumor Volume (mm3)\"], showmeans = True)\n",
    "ax1[1].set(xlabel=\"Ramicane\")\n",
    "ax1[2].boxplot(propriva_df[\"Tumor Volume (mm3)\"], showmeans = True)\n",
    "ax1[2].set(xlabel=\"Propriva\")\n",
    "ax1[3].boxplot(ceftamin_df[\"Tumor Volume (mm3)\"], showmeans = True)\n",
    "ax1[3].set(xlabel=\"Ceftamin\")"
   ]
  },
  {
   "cell_type": "markdown",
   "metadata": {},
   "source": [
    "## Line and scatter plots"
   ]
  },
  {
   "cell_type": "code",
   "execution_count": 11,
   "metadata": {},
   "outputs": [
    {
     "data": {
      "text/plain": [
       "Text(0, 0.5, 'Tumor Volume (mm3)')"
      ]
     },
     "execution_count": 11,
     "metadata": {},
     "output_type": "execute_result"
    },
    {
     "data": {
      "image/png": "[encoded data removed]",
      "text/plain": [
       "<Figure size 432x288 with 1 Axes>"
      ]
     },
     "metadata": {
      "needs_background": "light"
     },
     "output_type": "display_data"
    }
   ],
   "source": [
    "# Generate a line plot of time point versus tumor volume for a mouse treated with Capomulin\n",
    "# Decided to look at three, for a more representative plot\n",
    "capomulin_df = all_trials_df[all_trials_df[\"Drug Regimen\"] == \"Capomulin\"]\n",
    "mouse_id_df = capomulin_df[capomulin_df[\"Mouse ID\"] == \"s185\"]\n",
    "mouse_id_df_2 = capomulin_df[capomulin_df[\"Mouse ID\"] == \"x401\"]\n",
    "mouse_id_df_3 = capomulin_df[capomulin_df[\"Mouse ID\"] == \"m601\"]\n",
    "plt.plot(mouse_id_df[\"Timepoint\"], mouse_id_df[\"Tumor Volume (mm3)\"])\n",
    "plt.plot(mouse_id_df_2[\"Timepoint\"], mouse_id_df_2[\"Tumor Volume (mm3)\"])\n",
    "plt.plot(mouse_id_df_3[\"Timepoint\"], mouse_id_df_3[\"Tumor Volume (mm3)\"])\n",
    "plt.title(\"Tumor Response to Capomulin\")\n",
    "plt.xlabel(\"Timepoint\")\n",
    "plt.ylabel(\"Tumor Volume (mm3)\")"
   ]
  },
  {
   "cell_type": "code",
   "execution_count": 12,
   "metadata": {
    "scrolled": true
   },
   "outputs": [
    {
     "data": {
      "text/plain": [
       "Text(0, 0.5, 'Tumor Volume (mm3)')"
      ]
     },
     "execution_count": 12,
     "metadata": {},
     "output_type": "execute_result"
    },
    {
     "data": {
      "image/png": "[encoded data removed]",
      "text/plain": [
       "<Figure size 432x288 with 1 Axes>"
      ]
     },
     "metadata": {
      "needs_background": "light"
     },
     "output_type": "display_data"
    }
   ],
   "source": [
    "# Generate a scatter plot of mouse weight versus average tumor volume for the Capomulin regimen\n",
    "capomulin_mice = all_trials_df[all_trials_df['Drug Regimen'] == \"Capomulin\"]\n",
    "weight = capomulin_mice.groupby([\"Mouse ID\"]).mean()[\"Weight (g)\"]\n",
    "volume = capomulin_mice.groupby([\"Mouse ID\"]).mean()[\"Tumor Volume (mm3)\"]\n",
    "plt.scatter(weight, volume)\n",
    "plt.title(\"Capomulin Trials\")\n",
    "plt.xlabel(\"Mouse Weight (g)\")\n",
    "plt.ylabel(\"Tumor Volume (mm3)\")"
   ]
  },
  {
   "cell_type": "code",
   "execution_count": 25,
   "metadata": {},
   "outputs": [
    {
     "name": "stdout",
     "output_type": "stream",
     "text": [
      "pearson correlation:  (0.8419363424694717, 1.322572243471279e-07)\n",
      "slope:  0.9544396890241045\n",
      "intercept:  21.552160532685015\n",
      "r value:  0.8419363424694718\n",
      "r-squared:  0.7088568047708717\n",
      "p value:  1.3225722434712642e-07\n",
      "standard error:  0.1275435903320134\n"
     ]
    },
    {
     "data": {
      "text/plain": [
       "Text(0, 0.5, 'Tumor Volume (mm3)')"
      ]
     },
     "execution_count": 25,
     "metadata": {},
     "output_type": "execute_result"
    },
    {
     "data": {
      "image/png": "[encoded data removed]",
      "text/plain": [
       "<Figure size 432x288 with 1 Axes>"
      ]
     },
     "metadata": {
      "needs_background": "light"
     },
     "output_type": "display_data"
    }
   ],
   "source": [
    "# Calculate the correlation coefficient and linear regression model for mouse weight and average tumor volume \n",
    "# for the Capomulin regimen\n",
    "correlation = st.pearsonr(weight, volume)\n",
    "vc_slope, vc_int, vc_r, vc_p, vc_std_err = st.linregress(weight, volume)\n",
    "line = vc_slope * weight+vc_int\n",
    "print(\"pearson correlation: \", correlation)\n",
    "print(\"slope: \", vc_slope)\n",
    "print(\"intercept: \", vc_int)\n",
    "print(\"r value: \", vc_r)\n",
    "print(\"r-squared: \", vc_r ** 2)\n",
    "print(\"p value: \", vc_p)\n",
    "print(\"standard error: \", vc_std_err)\n",
    "plt.plot(weight, line, 'r', label='fitted line')\n",
    "plt.scatter(weight, volume)\n",
    "plt.title(\"Capomulin Trials\")\n",
    "plt.xlabel(\"Mouse Weight (g)\")\n",
    "plt.ylabel(\"Tumor Volume (mm3)\")"
   ]
  },
  {
   "cell_type": "code",
   "execution_count": null,
   "metadata": {},
   "outputs": [],
   "source": []
  },
  {
   "cell_type": "code",
   "execution_count": null,
   "metadata": {},
   "outputs": [],
   "source": []
  }
 ],
 "metadata": {
  "anaconda-cloud": {},
  "kernelspec": {
   "display_name": "Python 3",
   "language": "python",
   "name": "python3"
  },
  "language_info": {
   "codemirror_mode": {
    "name": "ipython",
    "version": 3
   },
   "file_extension": ".py",
   "mimetype": "text/x-python",
   "name": "python",
   "nbconvert_exporter": "python",
   "pygments_lexer": "ipython3",
   "version": "3.7.6"
  }
 },
 "nbformat": 4,
 "nbformat_minor": 2
}
