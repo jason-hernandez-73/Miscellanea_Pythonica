{
 "cells": [
  {
   "cell_type": "markdown",
   "metadata": {},
   "source": [
    "# WeatherPy\n",
    "----\n",
    "\n",
    "#### Note\n",
    "* Instructions have been included for each segment. You do not have to follow them exactly, but they are included to help you think through the steps."
   ]
  },
  {
   "cell_type": "code",
   "execution_count": 1,
   "metadata": {
    "scrolled": true
   },
   "outputs": [],
   "source": [
    "# Dependencies and Setup\n",
    "import matplotlib.pyplot as plt\n",
    "import pandas as pd\n",
    "import numpy as np\n",
    "import requests\n",
    "import time\n",
    "from scipy.stats import linregress\n",
    "\n",
    "# Import API key\n",
    "from api_keys import weather_api_key\n",
    "\n",
    "# Incorporated citipy to determine city based on latitude and longitude\n",
    "from citipy import citipy\n",
    "\n",
    "# Output File (CSV)\n",
    "output_data_file = \"output_data/cities.csv\"\n",
    "\n",
    "# Range of latitudes and longitudes\n",
    "lat_range = (-90, 90)\n",
    "lng_range = (-180, 180)"
   ]
  },
  {
   "cell_type": "markdown",
   "metadata": {},
   "source": [
    "## Generate Cities List"
   ]
  },
  {
   "cell_type": "code",
   "execution_count": 2,
   "metadata": {},
   "outputs": [
    {
     "data": {
      "text/plain": [
       "604"
      ]
     },
     "execution_count": 2,
     "metadata": {},
     "output_type": "execute_result"
    }
   ],
   "source": [
    "# List for holding lat_lngs and cities\n",
    "lat_lngs = []\n",
    "cities = []\n",
    "\n",
    "# Create a set of random lat and lng combinations\n",
    "lats = np.random.uniform(low=-90.000, high=90.000, size=1500)\n",
    "lngs = np.random.uniform(low=-180.000, high=180.000, size=1500)\n",
    "lat_lngs = zip(lats, lngs)\n",
    "\n",
    "# Identify nearest city for each lat, lng combination\n",
    "for lat_lng in lat_lngs:\n",
    "    city = citipy.nearest_city(lat_lng[0], lat_lng[1]).city_name\n",
    "    \n",
    "    # If the city is unique, then add it to our cities list\n",
    "    if city not in cities:\n",
    "        cities.append(city)\n",
    "\n",
    "# Print the city count to confirm sufficient count\n",
    "len(cities)"
   ]
  },
  {
   "cell_type": "markdown",
   "metadata": {},
   "source": [
    "### Perform API Calls\n",
    "* Perform a weather check on each city using a series of successive API calls.\n",
    "* Include a print log of each city as it'sbeing processed (with the city number and city name).\n"
   ]
  },
  {
   "cell_type": "code",
   "execution_count": 3,
   "metadata": {},
   "outputs": [
    {
     "name": "stdout",
     "output_type": "stream",
     "text": [
      "List of Cities\n",
      "butaritari\n",
      "san cristobal\n",
      "kapaa\n",
      "avarua\n",
      "thompson\n",
      "bluff\n",
      "new norfolk\n",
      "micheweni\n",
      "arraial do cabo\n",
      "barrow\n",
      "rikitea\n",
      "jamestown\n",
      "kaitangata\n",
      "katsuura\n",
      "Data not found.\n",
      "sataua\n",
      "Data not found.\n",
      "lolua\n",
      "corridonia\n",
      "saskylakh\n",
      "ghanzi\n",
      "sosnovo-ozerskoye\n",
      "xining\n",
      "Data not found.\n",
      "taolanaro\n",
      "korla\n",
      "albany\n",
      "te anau\n",
      "georgetown\n",
      "Data not found.\n",
      "belushya guba\n",
      "atbasar\n",
      "punta arenas\n",
      "Data not found.\n",
      "illoqqortoormiut\n",
      "kavaratti\n",
      "caico\n",
      "vieux-habitants\n",
      "killybegs\n",
      "okhotsk\n",
      "sao filipe\n",
      "longyearbyen\n",
      "bengkulu\n",
      "khatanga\n",
      "singaraja\n",
      "tuktoyaktuk\n",
      "hermanus\n",
      "corrientes\n",
      "ilulissat\n",
      "hithadhoo\n",
      "atuona\n",
      "ushuaia\n",
      "saint george\n",
      "sisimiut\n",
      "Data not found.\n",
      "tsihombe\n",
      "qaanaaq\n",
      "ponta do sol\n",
      "hobart\n",
      "kudahuvadhoo\n",
      "Data not found.\n",
      "samusu\n",
      "provideniya\n",
      "bethel\n",
      "halifax\n",
      "mataura\n",
      "port elizabeth\n",
      "lebu\n",
      "cap malheureux\n",
      "botwood\n",
      "port alfred\n",
      "hilo\n",
      "raudeberg\n",
      "busselton\n",
      "airai\n",
      "neryungri\n",
      "bireun\n",
      "pevek\n",
      "Data not found.\n",
      "pakwach\n",
      "pacific grove\n",
      "gravdal\n",
      "chokurdakh\n",
      "yellowknife\n",
      "avera\n",
      "banda aceh\n",
      "kinsale\n",
      "tasiilaq\n",
      "ribeira grande\n",
      "kavieng\n",
      "nikolskoye\n",
      "namibe\n",
      "huejuquilla el alto\n",
      "porto novo\n",
      "itarema\n",
      "kirakira\n",
      "bambous virieux\n",
      "kaeo\n",
      "yuanping\n",
      "ko samui\n",
      "havre-saint-pierre\n",
      "palmer\n",
      "victoria\n",
      "xacmaz\n",
      "labuhan\n",
      "kalat\n",
      "carnarvon\n",
      "seydi\n",
      "guerrero negro\n",
      "bhikangaon\n",
      "Data not found.\n",
      "barentsburg\n",
      "Data not found.\n",
      "vaitupu\n",
      "cape town\n",
      "rincon\n",
      "fairbanks\n",
      "padang\n",
      "puerto ayora\n",
      "lompoc\n",
      "vaini\n",
      "russell\n",
      "Data not found.\n",
      "rungata\n",
      "Data not found.\n",
      "kadykchan\n",
      "kodiak\n",
      "stornoway\n",
      "sambava\n",
      "kahului\n",
      "changli\n",
      "northam\n",
      "akom\n",
      "oum hadjer\n",
      "lidkoping\n",
      "aykhal\n",
      "port blair\n",
      "puerto del rosario\n",
      "san patricio\n",
      "tecamachalco\n",
      "parangan\n",
      "remontnoye\n",
      "nishihara\n",
      "cherskiy\n",
      "port shepstone\n",
      "aloleng\n",
      "haines junction\n",
      "surt\n",
      "zyryanka\n",
      "dikson\n",
      "gribanovskiy\n",
      "bredasdorp\n",
      "mahebourg\n",
      "norman wells\n",
      "salinopolis\n",
      "walvis bay\n",
      "bodden town\n",
      "shimoda\n",
      "zemio\n",
      "isangel\n",
      "kiri buru\n",
      "Data not found.\n",
      "amderma\n",
      "guasdualito\n",
      "alice springs\n",
      "port lincoln\n",
      "virginia beach\n",
      "vanimo\n",
      "acarau\n",
      "luanda\n",
      "van buren\n",
      "asau\n",
      "monastyrshchina\n",
      "Data not found.\n",
      "sentyabrskiy\n",
      "umm kaddadah\n",
      "camacha\n",
      "Data not found.\n",
      "mocambique\n",
      "copiapo\n",
      "xinyu\n",
      "tura\n",
      "salalah\n",
      "malabo\n",
      "adrar\n",
      "najran\n",
      "yaan\n",
      "caravelas\n",
      "daru\n",
      "upernavik\n",
      "ouahigouya\n",
      "torbay\n",
      "mount gambier\n",
      "clyde river\n",
      "ulladulla\n",
      "sao miguel\n",
      "flin flon\n",
      "kismayo\n",
      "malindi\n",
      "lavrentiya\n",
      "bilma\n",
      "zhuhai\n",
      "henties bay\n",
      "saint-michel-des-saints\n",
      "te horo\n",
      "kruisfontein\n",
      "maningrida\n",
      "hambantota\n",
      "cidreira\n",
      "saldanha\n",
      "kloulklubed\n",
      "franklin park\n",
      "Data not found.\n",
      "haibowan\n",
      "kasongo-lunda\n",
      "la rioja\n",
      "Data not found.\n",
      "utiroa\n",
      "kanigoro\n",
      "wawa\n",
      "rundu\n",
      "arman\n",
      "vyshneve\n",
      "tikhvin\n",
      "vila\n",
      "lincoln\n",
      "kuchera\n",
      "Data not found.\n",
      "umzimvubu\n",
      "mount isa\n",
      "necochea\n",
      "chuy\n",
      "maneadero\n",
      "sur\n",
      "buin\n",
      "sawakin\n",
      "castro\n",
      "narsaq\n",
      "koygorodok\n",
      "margate\n",
      "saint-philippe\n",
      "sioux lookout\n",
      "kimbe\n",
      "east london\n",
      "smithers\n",
      "faanui\n",
      "bathsheba\n",
      "aleksandrov gay\n",
      "keokuk\n",
      "riverton\n",
      "baykalsk\n",
      "mar del plata\n",
      "Data not found.\n",
      "attawapiskat\n",
      "flinders\n",
      "araouane\n",
      "Data not found.\n",
      "karaul\n",
      "biak\n",
      "pangnirtung\n",
      "alugan\n",
      "eyl\n",
      "matagami\n",
      "sepuka\n",
      "luderitz\n",
      "Data not found.\n",
      "andselv\n",
      "kalmar\n",
      "mungeli\n",
      "talnakh\n",
      "Data not found.\n",
      "mys shmidta\n",
      "paamiut\n",
      "tiksi\n",
      "honningsvag\n",
      "altea\n",
      "sistranda\n",
      "beira\n",
      "nouadhibou\n",
      "barabinsk\n",
      "noumea\n",
      "carlsbad\n",
      "kutum\n",
      "mayumba\n",
      "road town\n",
      "ancud\n",
      "fairlie\n",
      "kijang\n",
      "tanout\n",
      "Data not found.\n",
      "grand river south east\n",
      "dong hoi\n",
      "chegdomyn\n",
      "yabassi\n",
      "bandarbeyla\n",
      "robstown\n",
      "saint anthony\n",
      "Data not found.\n",
      "solovetskiy\n",
      "marawi\n",
      "arlit\n",
      "kununurra\n",
      "sola\n",
      "marsh harbour\n",
      "abalak\n",
      "taoudenni\n",
      "brae\n",
      "college\n",
      "verkhnevilyuysk\n",
      "haridwar\n",
      "sitka\n",
      "leningradskiy\n",
      "Data not found.\n",
      "matsanga\n",
      "arica\n",
      "porto san giorgio\n",
      "progreso\n",
      "metro\n",
      "Data not found.\n",
      "kerki\n",
      "coihaique\n",
      "alyangula\n",
      "boardman\n",
      "qaqortoq\n",
      "abrau-dyurso\n",
      "omboue\n",
      "maceio\n",
      "tayu\n",
      "geraldton\n",
      "tilbury\n",
      "tiznit\n",
      "Data not found.\n",
      "khormuj\n",
      "conde\n",
      "dzhida\n",
      "kulynychi\n",
      "belomorsk\n",
      "Data not found.\n",
      "chagda\n",
      "corner brook\n",
      "kariba\n",
      "mogadishu\n",
      "viedma\n",
      "katobu\n",
      "llano de piedra\n",
      "kachug\n",
      "Data not found.\n",
      "katsiveli\n",
      "shingu\n",
      "santa vitoria do palmar\n",
      "richards bay\n",
      "taungdwingyi\n",
      "santa ana\n",
      "esperance\n",
      "marquette\n",
      "baft\n",
      "storm lake\n",
      "wallacetown\n",
      "ginir\n",
      "arrifes\n",
      "vysha\n",
      "bayan\n",
      "pemangkat\n",
      "beloha\n",
      "qandala\n",
      "bambanglipuro\n",
      "arona\n",
      "pativilca\n",
      "karratha\n",
      "aklavik\n",
      "troitsk\n",
      "tibiri\n",
      "kapit\n",
      "hobyo\n",
      "tabou\n",
      "taltal\n",
      "hovd\n",
      "conway\n",
      "anadyr\n",
      "nome\n",
      "nantucket\n",
      "tual\n",
      "san rafael del sur\n",
      "north bend\n",
      "berlevag\n",
      "quelimane\n",
      "general roca\n",
      "Data not found.\n",
      "nizhneyansk\n",
      "saint-joseph\n",
      "le port\n",
      "Data not found.\n",
      "tubruq\n",
      "durazno\n",
      "esmeraldas\n",
      "asfi\n",
      "klaksvik\n",
      "gubbio\n",
      "marang\n",
      "madang\n",
      "vao\n",
      "estelle\n",
      "baie-comeau\n",
      "akcakoca\n",
      "hualmay\n",
      "oktyabrskiy\n",
      "fortuna\n",
      "pokhara\n",
      "adjumani\n",
      "plettenberg bay\n",
      "ganzhou\n",
      "nadapuram\n",
      "gberia fotombu\n",
      "atasu\n",
      "ust-kuyga\n",
      "batagay\n",
      "south venice\n",
      "kinkala\n",
      "orlik\n",
      "cockburn town\n",
      "cedar city\n",
      "belyy yar\n",
      "zaruma\n",
      "kabinda\n",
      "ekhabi\n",
      "yumen\n",
      "almaty\n",
      "puerto colombia\n",
      "Data not found.\n",
      "gilazi\n",
      "Data not found.\n",
      "khonuu\n",
      "bataipora\n",
      "kuusamo\n",
      "imbituba\n",
      "baykit\n",
      "turukhansk\n",
      "kadyy\n",
      "inuvik\n",
      "Data not found.\n",
      "sedelnikovo\n",
      "penzance\n",
      "ulaangom\n",
      "scottsbluff\n",
      "terney\n",
      "kukes\n",
      "okha\n",
      "shu\n",
      "edd\n",
      "vestmanna\n",
      "souillac\n",
      "cabo san lucas\n",
      "shieli\n",
      "boyolangu\n",
      "arrecife\n",
      "waldoboro\n",
      "altay\n",
      "bartica\n",
      "vestmannaeyjar\n",
      "puerto carreno\n",
      "san lazaro\n",
      "nuevo progreso\n",
      "kasempa\n",
      "aliwal north\n",
      "lachi\n",
      "stykkisholmur\n",
      "gushikawa\n",
      "waslala\n",
      "moerai\n",
      "ust-karsk\n",
      "ilebo\n",
      "harper\n",
      "damghan\n",
      "donskoy\n",
      "guhagar\n",
      "dunedin\n",
      "argentan\n",
      "loukhi\n",
      "severo-kurilsk\n",
      "lata\n",
      "bembereke\n",
      "sulangan\n",
      "dakar\n",
      "lagoa\n",
      "half moon bay\n",
      "dobric\n",
      "yulara\n",
      "port macquarie\n",
      "vardo\n",
      "hukuntsi\n",
      "petawawa\n",
      "sydney\n",
      "tuatapere\n",
      "Data not found.\n",
      "grimari\n",
      "faranah\n",
      "olafsvik\n",
      "dutlwe\n",
      "iqaluit\n",
      "francistown\n",
      "Data not found.\n",
      "halalo\n",
      "corrente\n",
      "deputatskiy\n",
      "chara\n",
      "Data not found.\n",
      "grand centre\n",
      "methven\n",
      "kilis\n",
      "nagar karnul\n",
      "sale\n",
      "trelaze\n",
      "tautira\n",
      "oblivskaya\n",
      "cherusti\n",
      "portland\n",
      "Data not found.\n",
      "tumannyy\n",
      "vostok\n",
      "tabira\n",
      "Data not found.\n",
      "hihifo\n",
      "kieta\n",
      "san pedro de macoris\n",
      "hofn\n",
      "ust-charyshskaya pristan\n",
      "mangan\n",
      "sechura\n",
      "trinidad\n",
      "muros\n",
      "sabha\n",
      "pimampiro\n",
      "tazovskiy\n",
      "horta\n",
      "kotka\n",
      "mackay\n",
      "touros\n",
      "manali\n",
      "Data not found.\n",
      "wulanhaote\n",
      "vila velha\n",
      "hasaki\n",
      "dzhebariki-khaya\n",
      "mangrol\n",
      "purworejo\n",
      "kalemie\n",
      "jackson\n",
      "gazojak\n",
      "Data not found.\n",
      "buqayq\n",
      "veselynove\n",
      "khetia\n",
      "itabuna\n",
      "komsomolskiy\n",
      "nemuro\n",
      "karlstad\n",
      "mercedes\n",
      "siguiri\n",
      "valparaiso\n",
      "toguchin\n",
      "talara\n",
      "kralendijk\n",
      "lorengau\n",
      "dukat\n",
      "vila franca do campo\n",
      "Data not found.\n",
      "yuzhno-yeniseyskiy\n",
      "karachi\n",
      "calabozo\n",
      "hamilton\n",
      "puksoozero\n",
      "sandwick\n",
      "junin\n",
      "mezen\n",
      "polyanka\n",
      "pochutla\n",
      "grand gaube\n",
      "rocha\n",
      "launceston\n",
      "khed brahma\n",
      "jiexiu\n",
      "sept-iles\n",
      "nieves\n",
      "machaneng\n",
      "atar\n",
      "kamien pomorski\n",
      "umea\n",
      "tahoua\n",
      "little chute\n",
      "pingzhuang\n",
      "port hardy\n",
      "Data not found.\n",
      "louisbourg\n",
      "Data not found.\n",
      "marcona\n",
      "salta\n",
      "dabat\n",
      "varhaug\n",
      "tuy hoa\n",
      "Data not found.\n",
      "labutta\n",
      "kiama\n",
      "yar-sale\n",
      "jaru\n",
      "lazaro cardenas\n",
      "cairns\n",
      "murdochville\n",
      "petropavlovsk-kamchatskiy\n",
      "tessalit\n",
      "Data not found.\n",
      "x-can\n",
      "evanston\n",
      "camana\n",
      "shikarpur\n",
      "mirnyy\n",
      "pasighat\n",
      "whittlesea\n",
      "Data not found.\n",
      "ngukurr\n",
      "ewa beach\n",
      "fengrun\n",
      "southbridge\n",
      "chicama\n",
      "svetlyy\n",
      "makaha\n",
      "hurghada\n",
      "ust-tsilma\n",
      "tomatlan\n",
      "porbandar\n",
      "serang\n",
      "broken hill\n",
      "palimbang\n",
      "saravan\n",
      "jiayuguan\n",
      "marzuq\n",
      "ingleside\n",
      "sa kaeo\n",
      "mombaca\n",
      "vung tau\n",
      "kazanskoye\n",
      "kitami\n",
      "szczytno\n",
      "mizdah\n",
      "callaway\n",
      "tromso\n",
      "mapiripan\n",
      "severo-yeniseyskiy\n",
      "husavik\n",
      "verkhnyaya inta\n",
      "huarmey\n",
      "san quintin\n"
     ]
    }
   ],
   "source": [
    "# Define the base URL\n",
    "base_url = \"http://api.openweathermap.org/data/2.5/weather?\"\n",
    "\n",
    "# Variables needed: Country, temperature, humidity, cloudiness, wind speed\n",
    "new_city = []\n",
    "country = []\n",
    "latit = []\n",
    "longit = []\n",
    "max_temp = []\n",
    "humid_ = []\n",
    "cloud_ = []\n",
    "wind = []\n",
    "\n",
    "print(f'List of Cities')\n",
    "# Build the query\n",
    "for city in cities:\n",
    "    try:\n",
    "        query_url = base_url + \"q=\" + city + \"&appid=\" + weather_api_key\n",
    "        response = requests.get(query_url).json()\n",
    "        new_city.append(response['name'])\n",
    "        country.append(response['sys']['country'])\n",
    "        latit.append(response['coord']['lat'])\n",
    "        longit.append(response['coord']['lon'])\n",
    "        max_temp.append(response['main']['temp_max'])\n",
    "        humid_.append(response['main']['humidity'])\n",
    "        cloud_.append(response['clouds']['all'])\n",
    "        wind.append(response['wind']['speed'])\n",
    "    except:\n",
    "        print(f'Data not found.')\n",
    "                \n",
    "    # Print log\n",
    "    print(city)\n",
    "\n",
    "    # Don't attack the server!\n",
    "    time.sleep(.1)"
   ]
  },
  {
   "cell_type": "markdown",
   "metadata": {},
   "source": [
    "### Convert Raw Data to DataFrame\n",
    "* Export the city data into a .csv.\n",
    "* Display the DataFrame"
   ]
  },
  {
   "cell_type": "code",
   "execution_count": 4,
   "metadata": {},
   "outputs": [
    {
     "name": "stdout",
     "output_type": "stream",
     "text": [
      "557 557 557 557 557 557 557 557\n"
     ]
    }
   ],
   "source": [
    "print(len(new_city), len(country), len(max_temp), len(latit), len(longit), len(humid_), len(cloud_), len(wind))"
   ]
  },
  {
   "cell_type": "code",
   "execution_count": 5,
   "metadata": {},
   "outputs": [
    {
     "data": {
      "text/html": [
       "<div>\n",
       "<style scoped>\n",
       "    .dataframe tbody tr th:only-of-type {\n",
       "        vertical-align: middle;\n",
       "    }\n",
       "\n",
       "    .dataframe tbody tr th {\n",
       "        vertical-align: top;\n",
       "    }\n",
       "\n",
       "    .dataframe thead th {\n",
       "        text-align: right;\n",
       "    }\n",
       "</style>\n",
       "<table border=\"1\" class=\"dataframe\">\n",
       "  <thead>\n",
       "    <tr style=\"text-align: right;\">\n",
       "      <th></th>\n",
       "      <th>City</th>\n",
       "      <th>Country</th>\n",
       "      <th>Cloudiness</th>\n",
       "      <th>Humidity</th>\n",
       "      <th>Lat</th>\n",
       "      <th>Lng</th>\n",
       "      <th>Max Temp</th>\n",
       "      <th>Wind Speed</th>\n",
       "    </tr>\n",
       "  </thead>\n",
       "  <tbody>\n",
       "    <tr>\n",
       "      <th>0</th>\n",
       "      <td>Butaritari</td>\n",
       "      <td>KI</td>\n",
       "      <td>1</td>\n",
       "      <td>76</td>\n",
       "      <td>3.07</td>\n",
       "      <td>172.79</td>\n",
       "      <td>301.40</td>\n",
       "      <td>6.36</td>\n",
       "    </tr>\n",
       "    <tr>\n",
       "      <th>1</th>\n",
       "      <td>San Cristobal</td>\n",
       "      <td>VE</td>\n",
       "      <td>40</td>\n",
       "      <td>58</td>\n",
       "      <td>7.77</td>\n",
       "      <td>-72.22</td>\n",
       "      <td>302.15</td>\n",
       "      <td>4.10</td>\n",
       "    </tr>\n",
       "    <tr>\n",
       "      <th>2</th>\n",
       "      <td>Kapaa</td>\n",
       "      <td>US</td>\n",
       "      <td>90</td>\n",
       "      <td>94</td>\n",
       "      <td>22.08</td>\n",
       "      <td>-159.32</td>\n",
       "      <td>294.15</td>\n",
       "      <td>4.60</td>\n",
       "    </tr>\n",
       "    <tr>\n",
       "      <th>3</th>\n",
       "      <td>Avarua</td>\n",
       "      <td>CK</td>\n",
       "      <td>100</td>\n",
       "      <td>83</td>\n",
       "      <td>-21.21</td>\n",
       "      <td>-159.78</td>\n",
       "      <td>300.15</td>\n",
       "      <td>8.20</td>\n",
       "    </tr>\n",
       "    <tr>\n",
       "      <th>4</th>\n",
       "      <td>Thompson</td>\n",
       "      <td>CA</td>\n",
       "      <td>5</td>\n",
       "      <td>54</td>\n",
       "      <td>55.74</td>\n",
       "      <td>-97.86</td>\n",
       "      <td>255.15</td>\n",
       "      <td>3.10</td>\n",
       "    </tr>\n",
       "  </tbody>\n",
       "</table>\n",
       "</div>"
      ],
      "text/plain": [
       "            City Country  Cloudiness  Humidity    Lat     Lng  Max Temp  \\\n",
       "0     Butaritari      KI           1        76   3.07  172.79    301.40   \n",
       "1  San Cristobal      VE          40        58   7.77  -72.22    302.15   \n",
       "2          Kapaa      US          90        94  22.08 -159.32    294.15   \n",
       "3         Avarua      CK         100        83 -21.21 -159.78    300.15   \n",
       "4       Thompson      CA           5        54  55.74  -97.86    255.15   \n",
       "\n",
       "   Wind Speed  \n",
       "0        6.36  \n",
       "1        4.10  \n",
       "2        4.60  \n",
       "3        8.20  \n",
       "4        3.10  "
      ]
     },
     "execution_count": 5,
     "metadata": {},
     "output_type": "execute_result"
    }
   ],
   "source": [
    "weather_df = pd.DataFrame({\n",
    "    \"City\": new_city,\n",
    "    \"Country\": country,\n",
    "    \"Cloudiness\": cloud_,\n",
    "    \"Humidity\": humid_,\n",
    "    \"Lat\": latit,\n",
    "    \"Lng\": longit,\n",
    "    \"Max Temp\": max_temp,\n",
    "    \"Wind Speed\": wind\n",
    "})\n",
    "weather_df.head()"
   ]
  },
  {
   "cell_type": "code",
   "execution_count": 6,
   "metadata": {},
   "outputs": [],
   "source": [
    "weather_df.to_csv(\"weather.csv\")"
   ]
  },
  {
   "cell_type": "markdown",
   "metadata": {},
   "source": [
    "### Plotting the Data\n",
    "* Use proper labeling of the plots using plot titles (including date of analysis) and axes labels.\n",
    "* Save the plotted figures as .pngs."
   ]
  },
  {
   "cell_type": "markdown",
   "metadata": {},
   "source": [
    "#### Latitude vs. Temperature Plot"
   ]
  },
  {
   "cell_type": "code",
   "execution_count": 7,
   "metadata": {
    "scrolled": true
   },
   "outputs": [
    {
     "data": {
      "text/plain": [
       "<matplotlib.axes._subplots.AxesSubplot at 0x1b7b782ccc8>"
      ]
     },
     "execution_count": 7,
     "metadata": {},
     "output_type": "execute_result"
    },
    {
     "data": {
      "image/png": "[encoded data removed]",
      "text/plain": [
       "<Figure size 432x288 with 1 Axes>"
      ]
     },
     "metadata": {
      "needs_background": "light"
     },
     "output_type": "display_data"
    }
   ],
   "source": [
    "lattmp_plot = weather_df[[\"Lat\", \"Max Temp\"]]\n",
    "lattmp_plot.plot(kind='scatter', x=\"Lat\", y=\"Max Temp\")"
   ]
  },
  {
   "cell_type": "raw",
   "metadata": {},
   "source": []
  },
  {
   "cell_type": "markdown",
   "metadata": {},
   "source": [
    "There is a clear pattern in which the highest latitudes (nearest the poles) have the lowest max temps. Interestingly, this is more pronounced in the Northern Hemisphere than the Southern, which may be due to the land:ocean ratio, i.e. the Northern Hemisphere has more land than the Southern. The large midlatitude landmasses of North America and Eurasia have no comparable counterpart in the Southern Hemisphere. The range from 20-40 degrees latitude is markedly warmer in the Southern Hemisphere than the Northern.\n",
    "\n",
    "Inhabited lands do not extend as far to the south as they do to the north. South of Ushuaia is the Southern Ocean circling the Antarctic continent. Hence there are no cities in the 60-80 degrees latitude zone in the Southern Hemisphere."
   ]
  },
  {
   "cell_type": "markdown",
   "metadata": {},
   "source": [
    "#### Latitude vs. Humidity Plot"
   ]
  },
  {
   "cell_type": "code",
   "execution_count": 8,
   "metadata": {},
   "outputs": [
    {
     "data": {
      "text/plain": [
       "<matplotlib.axes._subplots.AxesSubplot at 0x1b7b7b91ec8>"
      ]
     },
     "execution_count": 8,
     "metadata": {},
     "output_type": "execute_result"
    },
    {
     "data": {
      "image/png": "[encoded data removed]",
      "text/plain": [
       "<Figure size 432x288 with 1 Axes>"
      ]
     },
     "metadata": {
      "needs_background": "light"
     },
     "output_type": "display_data"
    }
   ],
   "source": [
    "lathum_plot = weather_df[[\"Lat\", \"Humidity\"]]\n",
    "lathum_plot.plot(kind='scatter', x=\"Lat\", y=\"Humidity\")"
   ]
  },
  {
   "cell_type": "markdown",
   "metadata": {},
   "source": [
    "There is little discernible relationship between latitude and humidity, except that somewhat drier conditions prevail in a few localities between 0 and 20 degrees north. These latitudes also have locations of high humidity. Conversely, the highest latitudes are lacking in low humidity localities."
   ]
  },
  {
   "cell_type": "markdown",
   "metadata": {},
   "source": [
    "#### Latitude vs. Cloudiness Plot"
   ]
  },
  {
   "cell_type": "code",
   "execution_count": 9,
   "metadata": {},
   "outputs": [
    {
     "data": {
      "text/plain": [
       "<matplotlib.axes._subplots.AxesSubplot at 0x1b7b7c05388>"
      ]
     },
     "execution_count": 9,
     "metadata": {},
     "output_type": "execute_result"
    },
    {
     "data": {
      "image/png": "[encoded data removed]",
      "text/plain": [
       "<Figure size 432x288 with 1 Axes>"
      ]
     },
     "metadata": {
      "needs_background": "light"
     },
     "output_type": "display_data"
    }
   ],
   "source": [
    "latcloud_plot = weather_df[[\"Lat\", \"Cloudiness\"]]\n",
    "latcloud_plot.plot(kind='scatter', x=\"Lat\", y=\"Cloudiness\")"
   ]
  },
  {
   "cell_type": "markdown",
   "metadata": {},
   "source": [
    "No pattern exists between latitude and cloudiness. The apparent bands at certain percent cloudiness may be an artifact of the way cloudiness is quantified. It is unexpected to find no difference in cloudiness between the notoriously dry Horse Latitudes, where most of the world's deserts are located, and the low pressure belts north and south of them."
   ]
  },
  {
   "cell_type": "markdown",
   "metadata": {},
   "source": [
    "#### Latitude vs. Wind Speed Plot"
   ]
  },
  {
   "cell_type": "code",
   "execution_count": 10,
   "metadata": {},
   "outputs": [
    {
     "data": {
      "text/plain": [
       "<matplotlib.axes._subplots.AxesSubplot at 0x1b7b7c8cf88>"
      ]
     },
     "execution_count": 10,
     "metadata": {},
     "output_type": "execute_result"
    },
    {
     "data": {
      "image/png": "[encoded data removed]",
      "text/plain": [
       "<Figure size 432x288 with 1 Axes>"
      ]
     },
     "metadata": {
      "needs_background": "light"
     },
     "output_type": "display_data"
    }
   ],
   "source": [
    "latwind_plot = weather_df[[\"Lat\", \"Wind Speed\"]]\n",
    "latwind_plot.plot(kind='scatter', x=\"Lat\", y=\"Wind Speed\")"
   ]
  },
  {
   "cell_type": "markdown",
   "metadata": {},
   "source": [
    "No apparent relationship exists between latitude and wind speed."
   ]
  },
  {
   "cell_type": "markdown",
   "metadata": {},
   "source": [
    "## Linear Regression"
   ]
  },
  {
   "cell_type": "code",
   "execution_count": 11,
   "metadata": {},
   "outputs": [],
   "source": [
    "# OPTIONAL: Create a function to create Linear Regression plots\n",
    "# slope, intercept, r_value, p_value, std_err = stats.linregress()"
   ]
  },
  {
   "cell_type": "code",
   "execution_count": 12,
   "metadata": {},
   "outputs": [],
   "source": [
    "# Create Northern and Southern Hemisphere DataFrames\n",
    "\n",
    "# Separate Northern from Southern Hemisphere\n",
    "north_cities = weather_df[weather_df[\"Lat\"] >= 0]\n",
    "south_cities = weather_df[weather_df[\"Lat\"] < 0]"
   ]
  },
  {
   "cell_type": "code",
   "execution_count": 13,
   "metadata": {},
   "outputs": [
    {
     "data": {
      "text/html": [
       "<div>\n",
       "<style scoped>\n",
       "    .dataframe tbody tr th:only-of-type {\n",
       "        vertical-align: middle;\n",
       "    }\n",
       "\n",
       "    .dataframe tbody tr th {\n",
       "        vertical-align: top;\n",
       "    }\n",
       "\n",
       "    .dataframe thead th {\n",
       "        text-align: right;\n",
       "    }\n",
       "</style>\n",
       "<table border=\"1\" class=\"dataframe\">\n",
       "  <thead>\n",
       "    <tr style=\"text-align: right;\">\n",
       "      <th></th>\n",
       "      <th>City</th>\n",
       "      <th>Country</th>\n",
       "      <th>Cloudiness</th>\n",
       "      <th>Humidity</th>\n",
       "      <th>Lat</th>\n",
       "      <th>Lng</th>\n",
       "      <th>Max Temp</th>\n",
       "      <th>Wind Speed</th>\n",
       "    </tr>\n",
       "  </thead>\n",
       "  <tbody>\n",
       "    <tr>\n",
       "      <th>0</th>\n",
       "      <td>Butaritari</td>\n",
       "      <td>KI</td>\n",
       "      <td>1</td>\n",
       "      <td>76</td>\n",
       "      <td>3.07</td>\n",
       "      <td>172.79</td>\n",
       "      <td>301.40</td>\n",
       "      <td>6.36</td>\n",
       "    </tr>\n",
       "    <tr>\n",
       "      <th>1</th>\n",
       "      <td>San Cristobal</td>\n",
       "      <td>VE</td>\n",
       "      <td>40</td>\n",
       "      <td>58</td>\n",
       "      <td>7.77</td>\n",
       "      <td>-72.22</td>\n",
       "      <td>302.15</td>\n",
       "      <td>4.10</td>\n",
       "    </tr>\n",
       "    <tr>\n",
       "      <th>2</th>\n",
       "      <td>Kapaa</td>\n",
       "      <td>US</td>\n",
       "      <td>90</td>\n",
       "      <td>94</td>\n",
       "      <td>22.08</td>\n",
       "      <td>-159.32</td>\n",
       "      <td>294.15</td>\n",
       "      <td>4.60</td>\n",
       "    </tr>\n",
       "    <tr>\n",
       "      <th>4</th>\n",
       "      <td>Thompson</td>\n",
       "      <td>CA</td>\n",
       "      <td>5</td>\n",
       "      <td>54</td>\n",
       "      <td>55.74</td>\n",
       "      <td>-97.86</td>\n",
       "      <td>255.15</td>\n",
       "      <td>3.10</td>\n",
       "    </tr>\n",
       "    <tr>\n",
       "      <th>9</th>\n",
       "      <td>Barrow</td>\n",
       "      <td>US</td>\n",
       "      <td>1</td>\n",
       "      <td>85</td>\n",
       "      <td>71.29</td>\n",
       "      <td>-156.79</td>\n",
       "      <td>261.15</td>\n",
       "      <td>4.60</td>\n",
       "    </tr>\n",
       "  </tbody>\n",
       "</table>\n",
       "</div>"
      ],
      "text/plain": [
       "            City Country  Cloudiness  Humidity    Lat     Lng  Max Temp  \\\n",
       "0     Butaritari      KI           1        76   3.07  172.79    301.40   \n",
       "1  San Cristobal      VE          40        58   7.77  -72.22    302.15   \n",
       "2          Kapaa      US          90        94  22.08 -159.32    294.15   \n",
       "4       Thompson      CA           5        54  55.74  -97.86    255.15   \n",
       "9         Barrow      US           1        85  71.29 -156.79    261.15   \n",
       "\n",
       "   Wind Speed  \n",
       "0        6.36  \n",
       "1        4.10  \n",
       "2        4.60  \n",
       "4        3.10  \n",
       "9        4.60  "
      ]
     },
     "execution_count": 13,
     "metadata": {},
     "output_type": "execute_result"
    }
   ],
   "source": [
    "# Create dataframes\n",
    "north_cities.head()"
   ]
  },
  {
   "cell_type": "code",
   "execution_count": 14,
   "metadata": {},
   "outputs": [
    {
     "data": {
      "text/html": [
       "<div>\n",
       "<style scoped>\n",
       "    .dataframe tbody tr th:only-of-type {\n",
       "        vertical-align: middle;\n",
       "    }\n",
       "\n",
       "    .dataframe tbody tr th {\n",
       "        vertical-align: top;\n",
       "    }\n",
       "\n",
       "    .dataframe thead th {\n",
       "        text-align: right;\n",
       "    }\n",
       "</style>\n",
       "<table border=\"1\" class=\"dataframe\">\n",
       "  <thead>\n",
       "    <tr style=\"text-align: right;\">\n",
       "      <th></th>\n",
       "      <th>City</th>\n",
       "      <th>Country</th>\n",
       "      <th>Cloudiness</th>\n",
       "      <th>Humidity</th>\n",
       "      <th>Lat</th>\n",
       "      <th>Lng</th>\n",
       "      <th>Max Temp</th>\n",
       "      <th>Wind Speed</th>\n",
       "    </tr>\n",
       "  </thead>\n",
       "  <tbody>\n",
       "    <tr>\n",
       "      <th>3</th>\n",
       "      <td>Avarua</td>\n",
       "      <td>CK</td>\n",
       "      <td>100</td>\n",
       "      <td>83</td>\n",
       "      <td>-21.21</td>\n",
       "      <td>-159.78</td>\n",
       "      <td>300.15</td>\n",
       "      <td>8.20</td>\n",
       "    </tr>\n",
       "    <tr>\n",
       "      <th>5</th>\n",
       "      <td>Bluff</td>\n",
       "      <td>NZ</td>\n",
       "      <td>6</td>\n",
       "      <td>96</td>\n",
       "      <td>-46.60</td>\n",
       "      <td>168.33</td>\n",
       "      <td>277.59</td>\n",
       "      <td>0.45</td>\n",
       "    </tr>\n",
       "    <tr>\n",
       "      <th>6</th>\n",
       "      <td>New Norfolk</td>\n",
       "      <td>AU</td>\n",
       "      <td>75</td>\n",
       "      <td>49</td>\n",
       "      <td>-42.78</td>\n",
       "      <td>147.06</td>\n",
       "      <td>293.15</td>\n",
       "      <td>4.60</td>\n",
       "    </tr>\n",
       "    <tr>\n",
       "      <th>7</th>\n",
       "      <td>Micheweni</td>\n",
       "      <td>TZ</td>\n",
       "      <td>100</td>\n",
       "      <td>74</td>\n",
       "      <td>-4.97</td>\n",
       "      <td>39.83</td>\n",
       "      <td>302.20</td>\n",
       "      <td>3.37</td>\n",
       "    </tr>\n",
       "    <tr>\n",
       "      <th>8</th>\n",
       "      <td>Arraial do Cabo</td>\n",
       "      <td>BR</td>\n",
       "      <td>75</td>\n",
       "      <td>83</td>\n",
       "      <td>-22.97</td>\n",
       "      <td>-42.03</td>\n",
       "      <td>299.15</td>\n",
       "      <td>2.10</td>\n",
       "    </tr>\n",
       "  </tbody>\n",
       "</table>\n",
       "</div>"
      ],
      "text/plain": [
       "              City Country  Cloudiness  Humidity    Lat     Lng  Max Temp  \\\n",
       "3           Avarua      CK         100        83 -21.21 -159.78    300.15   \n",
       "5            Bluff      NZ           6        96 -46.60  168.33    277.59   \n",
       "6      New Norfolk      AU          75        49 -42.78  147.06    293.15   \n",
       "7        Micheweni      TZ         100        74  -4.97   39.83    302.20   \n",
       "8  Arraial do Cabo      BR          75        83 -22.97  -42.03    299.15   \n",
       "\n",
       "   Wind Speed  \n",
       "3        8.20  \n",
       "5        0.45  \n",
       "6        4.60  \n",
       "7        3.37  \n",
       "8        2.10  "
      ]
     },
     "execution_count": 14,
     "metadata": {},
     "output_type": "execute_result"
    }
   ],
   "source": [
    "south_cities.head()"
   ]
  },
  {
   "cell_type": "markdown",
   "metadata": {},
   "source": [
    "####  Northern Hemisphere - Max Temp vs. Latitude Linear Regression"
   ]
  },
  {
   "cell_type": "code",
   "execution_count": 15,
   "metadata": {},
   "outputs": [
    {
     "data": {
      "text/plain": [
       "<matplotlib.axes._subplots.AxesSubplot at 0x1b7b7d0fc08>"
      ]
     },
     "execution_count": 15,
     "metadata": {},
     "output_type": "execute_result"
    },
    {
     "data": {
      "image/png": "[encoded data removed]",
      "text/plain": [
       "<Figure size 432x288 with 1 Axes>"
      ]
     },
     "metadata": {
      "needs_background": "light"
     },
     "output_type": "display_data"
    }
   ],
   "source": [
    "n_lattmp_plot = north_cities[[\"Lat\", \"Max Temp\"]]\n",
    "n_lattmp_plot.plot(kind='scatter', x=\"Lat\", y=\"Max Temp\")"
   ]
  },
  {
   "cell_type": "markdown",
   "metadata": {},
   "source": [
    "In the Northern Hemisphere, increasing distance from the equator correlates with decreasing max temp, but also with more variation in temp, as the high latitude temps show much wider range than the equatorial temps. Also, the highest temps are not at the equator, but near 10 degrees north."
   ]
  },
  {
   "cell_type": "markdown",
   "metadata": {},
   "source": [
    "####  Southern Hemisphere - Max Temp vs. Latitude Linear Regression"
   ]
  },
  {
   "cell_type": "code",
   "execution_count": 16,
   "metadata": {},
   "outputs": [
    {
     "data": {
      "text/plain": [
       "<matplotlib.axes._subplots.AxesSubplot at 0x1b7b7d5ac08>"
      ]
     },
     "execution_count": 16,
     "metadata": {},
     "output_type": "execute_result"
    },
    {
     "data": {
      "image/png": "[encoded data removed]",
      "text/plain": [
       "<Figure size 432x288 with 1 Axes>"
      ]
     },
     "metadata": {
      "needs_background": "light"
     },
     "output_type": "display_data"
    }
   ],
   "source": [
    "s_lattmp_plot = south_cities[[\"Lat\", \"Max Temp\"]]\n",
    "s_lattmp_plot.plot(kind='scatter', x=\"Lat\", y=\"Max Temp\")"
   ]
  },
  {
   "cell_type": "markdown",
   "metadata": {},
   "source": [
    "In the Southern Hemisphere, although the same pattern exists with lower max temps the further one goes from the equator, it is less sharp. It might be instructive to factor in altitude, since even at the equator, there are cities in the Andes with cold climates due to high altitude. Nevertheless, the amount of variation appears more widespread than that, and it may be that the Southern Hemisphere's higher proportion of ocean relative to the Northern Hemisphere is adding more variables."
   ]
  },
  {
   "cell_type": "markdown",
   "metadata": {},
   "source": [
    "####  Northern Hemisphere - Humidity (%) vs. Latitude Linear Regression"
   ]
  },
  {
   "cell_type": "code",
   "execution_count": 17,
   "metadata": {},
   "outputs": [
    {
     "data": {
      "text/plain": [
       "<matplotlib.axes._subplots.AxesSubplot at 0x1b7b7de1d48>"
      ]
     },
     "execution_count": 17,
     "metadata": {},
     "output_type": "execute_result"
    },
    {
     "data": {
      "image/png": "[encoded data removed]",
      "text/plain": [
       "<Figure size 432x288 with 1 Axes>"
      ]
     },
     "metadata": {
      "needs_background": "light"
     },
     "output_type": "display_data"
    }
   ],
   "source": [
    "n_lathum_plot = north_cities[[\"Lat\", \"Humidity\"]]\n",
    "n_lathum_plot.plot(kind='scatter', x=\"Lat\", y=\"Humidity\")"
   ]
  },
  {
   "cell_type": "markdown",
   "metadata": {},
   "source": [
    "In the Northern Hemisphere, there is a definite lack of dry climates further from the equator, although even south of 40 degrees, where dry localities are present, there are still a lot of humid localities, too, and the max humidity does not change much with latitude."
   ]
  },
  {
   "cell_type": "markdown",
   "metadata": {},
   "source": [
    "####  Southern Hemisphere - Humidity (%) vs. Latitude Linear Regression"
   ]
  },
  {
   "cell_type": "code",
   "execution_count": 18,
   "metadata": {},
   "outputs": [
    {
     "data": {
      "text/plain": [
       "<matplotlib.axes._subplots.AxesSubplot at 0x1b7b7e38088>"
      ]
     },
     "execution_count": 18,
     "metadata": {},
     "output_type": "execute_result"
    },
    {
     "data": {
      "image/png": "[encoded data removed]",
      "text/plain": [
       "<Figure size 432x288 with 1 Axes>"
      ]
     },
     "metadata": {
      "needs_background": "light"
     },
     "output_type": "display_data"
    }
   ],
   "source": [
    "s_lathum_plot = south_cities[[\"Lat\", \"Humidity\"]]\n",
    "s_lathum_plot.plot(kind='scatter', x=\"Lat\", y=\"Humidity\")"
   ]
  },
  {
   "cell_type": "markdown",
   "metadata": {},
   "source": [
    "The Southern Hemisphere shows no clear cut pattern in humidity vs. latitude, except that on the whole, humid climates are slightly more prevalent than dry ones. This, again, may be due to the lack of expansive landmasses and prevalence of maritime climates -- Chile's Atacama Desert, where no rain falls, is nevertheless watered by coastal fog."
   ]
  },
  {
   "cell_type": "markdown",
   "metadata": {},
   "source": [
    "####  Northern Hemisphere - Cloudiness (%) vs. Latitude Linear Regression"
   ]
  },
  {
   "cell_type": "code",
   "execution_count": 19,
   "metadata": {},
   "outputs": [
    {
     "data": {
      "text/plain": [
       "<matplotlib.axes._subplots.AxesSubplot at 0x1b7b7d471c8>"
      ]
     },
     "execution_count": 19,
     "metadata": {},
     "output_type": "execute_result"
    },
    {
     "data": {
      "image/png": "[encoded data removed]",
      "text/plain": [
       "<Figure size 432x288 with 1 Axes>"
      ]
     },
     "metadata": {
      "needs_background": "light"
     },
     "output_type": "display_data"
    }
   ],
   "source": [
    "n_latcld_plot = north_cities[[\"Lat\", \"Cloudiness\"]]\n",
    "n_latcld_plot.plot(kind='scatter', x=\"Lat\", y=\"Cloudiness\")"
   ]
  },
  {
   "cell_type": "markdown",
   "metadata": {},
   "source": [
    "As on the global graph, the Northern Hemisphere graph shows no correlation."
   ]
  },
  {
   "cell_type": "markdown",
   "metadata": {},
   "source": [
    "####  Southern Hemisphere - Cloudiness (%) vs. Latitude Linear Regression"
   ]
  },
  {
   "cell_type": "code",
   "execution_count": 20,
   "metadata": {},
   "outputs": [
    {
     "data": {
      "text/plain": [
       "<matplotlib.axes._subplots.AxesSubplot at 0x1b7b7f11fc8>"
      ]
     },
     "execution_count": 20,
     "metadata": {},
     "output_type": "execute_result"
    },
    {
     "data": {
      "image/png": "[encoded data removed]",
      "text/plain": [
       "<Figure size 432x288 with 1 Axes>"
      ]
     },
     "metadata": {
      "needs_background": "light"
     },
     "output_type": "display_data"
    }
   ],
   "source": [
    "s_latcld_plot = south_cities[[\"Lat\", \"Cloudiness\"]]\n",
    "s_latcld_plot.plot(kind='scatter', x=\"Lat\", y=\"Cloudiness\")"
   ]
  },
  {
   "cell_type": "markdown",
   "metadata": {},
   "source": [
    "As on the global graph, the Southern Hemisphere graph shows no correlation."
   ]
  },
  {
   "cell_type": "markdown",
   "metadata": {},
   "source": [
    "####  Northern Hemisphere - Wind Speed (mph) vs. Latitude Linear Regression"
   ]
  },
  {
   "cell_type": "code",
   "execution_count": 21,
   "metadata": {},
   "outputs": [
    {
     "data": {
      "text/plain": [
       "<matplotlib.axes._subplots.AxesSubplot at 0x1b7b7f6d548>"
      ]
     },
     "execution_count": 21,
     "metadata": {},
     "output_type": "execute_result"
    },
    {
     "data": {
      "image/png": "[encoded data removed]",
      "text/plain": [
       "<Figure size 432x288 with 1 Axes>"
      ]
     },
     "metadata": {
      "needs_background": "light"
     },
     "output_type": "display_data"
    }
   ],
   "source": [
    "n_latwnd_plot = north_cities[[\"Lat\", \"Wind Speed\"]]\n",
    "n_latwnd_plot.plot(kind='scatter', x=\"Lat\", y=\"Wind Speed\")"
   ]
  },
  {
   "cell_type": "markdown",
   "metadata": {},
   "source": [
    "Wind speed is highly variable at every latitude, with no one latitude showing consistently higher or lower wind speeds. "
   ]
  },
  {
   "cell_type": "markdown",
   "metadata": {},
   "source": [
    "####  Southern Hemisphere - Wind Speed (mph) vs. Latitude Linear Regression"
   ]
  },
  {
   "cell_type": "code",
   "execution_count": 22,
   "metadata": {},
   "outputs": [
    {
     "data": {
      "text/plain": [
       "<matplotlib.axes._subplots.AxesSubplot at 0x1b7b7fe5f08>"
      ]
     },
     "execution_count": 22,
     "metadata": {},
     "output_type": "execute_result"
    },
    {
     "data": {
      "image/png": "[encoded data removed]",
      "text/plain": [
       "<Figure size 432x288 with 1 Axes>"
      ]
     },
     "metadata": {
      "needs_background": "light"
     },
     "output_type": "display_data"
    }
   ],
   "source": [
    "s_latwnd_plot = south_cities[[\"Lat\", \"Wind Speed\"]]\n",
    "s_latwnd_plot.plot(kind='scatter', x=\"Lat\", y=\"Wind Speed\")"
   ]
  },
  {
   "cell_type": "markdown",
   "metadata": {},
   "source": [
    "Wind speed varies in the Southern Hemisphere also, with one notable distiction: the few localities furthest south average higher wind speeds. This is likely due to their location in the Southern Ocean, with the notorious \"Roaring Forties,\" \"Furious Fifties,\" and \"Screaming Sixties,\" with winds meeting little resistance from land to slow them. Unexpectedly, though, even the highest wind speed in the Southern Hemisphere, near 45 degrees south, was less than the highest in the Northern Hemisphere, near 65 degrees north. This may be due to a lack of cities in Antarctica."
   ]
  },
  {
   "cell_type": "code",
   "execution_count": null,
   "metadata": {},
   "outputs": [],
   "source": []
  },
  {
   "cell_type": "code",
   "execution_count": null,
   "metadata": {},
   "outputs": [],
   "source": []
  },
  {
   "cell_type": "code",
   "execution_count": null,
   "metadata": {},
   "outputs": [],
   "source": []
  }
 ],
 "metadata": {
  "anaconda-cloud": {},
  "kernel_info": {
   "name": "python3"
  },
  "kernelspec": {
   "display_name": "Python 3",
   "language": "python",
   "name": "python3"
  },
  "language_info": {
   "codemirror_mode": {
    "name": "ipython",
    "version": 3
   },
   "file_extension": ".py",
   "mimetype": "text/x-python",
   "name": "python",
   "nbconvert_exporter": "python",
   "pygments_lexer": "ipython3",
   "version": "3.7.4"
  },
  "latex_envs": {
   "LaTeX_envs_menu_present": true,
   "autoclose": false,
   "autocomplete": true,
   "bibliofile": "biblio.bib",
   "cite_by": "apalike",
   "current_citInitial": 1,
   "eqLabelWithNumbers": true,
   "eqNumInitial": 1,
   "hotkeys": {
    "equation": "Ctrl-E",
    "itemize": "Ctrl-I"
   },
   "labels_anchors": false,
   "latex_user_defs": false,
   "report_style_numbering": false,
   "user_envs_cfg": false
  },
  "nteract": {
   "version": "0.12.3"
  }
 },
 "nbformat": 4,
 "nbformat_minor": 2
}
