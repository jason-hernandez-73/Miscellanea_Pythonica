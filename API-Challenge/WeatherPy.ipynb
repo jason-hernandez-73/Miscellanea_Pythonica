{
 "cells": [
  {
   "cell_type": "markdown",
   "metadata": {},
   "source": [
    "# WeatherPy\n",
    "----\n",
    "\n",
    "#### Note\n",
    "* Instructions have been included for each segment. You do not have to follow them exactly, but they are included to help you think through the steps."
   ]
  },
  {
   "cell_type": "code",
   "execution_count": 1,
   "metadata": {
    "scrolled": true
   },
   "outputs": [],
   "source": [
    "# Dependencies and Setup\n",
    "import matplotlib.pyplot as plt\n",
    "import pandas as pd\n",
    "import numpy as np\n",
    "import requests\n",
    "import time\n",
    "from scipy.stats import linregress\n",
    "\n",
    "# Import API key\n",
    "from api_keys import weather_api_key\n",
    "\n",
    "# Incorporated citipy to determine city based on latitude and longitude\n",
    "from citipy import citipy\n",
    "\n",
    "# Output File (CSV)\n",
    "output_data_file = \"output_data/cities.csv\"\n",
    "\n",
    "# Range of latitudes and longitudes\n",
    "lat_range = (-90, 90)\n",
    "lng_range = (-180, 180)"
   ]
  },
  {
   "cell_type": "markdown",
   "metadata": {},
   "source": [
    "## Generate Cities List"
   ]
  },
  {
   "cell_type": "code",
   "execution_count": 2,
   "metadata": {},
   "outputs": [
    {
     "data": {
      "text/plain": [
       "609"
      ]
     },
     "execution_count": 2,
     "metadata": {},
     "output_type": "execute_result"
    }
   ],
   "source": [
    "# List for holding lat_lngs and cities\n",
    "lat_lngs = []\n",
    "cities = []\n",
    "\n",
    "# Create a set of random lat and lng combinations\n",
    "lats = np.random.uniform(low=-90.000, high=90.000, size=1500)\n",
    "lngs = np.random.uniform(low=-180.000, high=180.000, size=1500)\n",
    "lat_lngs = zip(lats, lngs)\n",
    "\n",
    "# Identify nearest city for each lat, lng combination\n",
    "for lat_lng in lat_lngs:\n",
    "    city = citipy.nearest_city(lat_lng[0], lat_lng[1]).city_name\n",
    "    \n",
    "    # If the city is unique, then add it to our cities list\n",
    "    if city not in cities:\n",
    "        cities.append(city)\n",
    "\n",
    "# Print the city count to confirm sufficient count\n",
    "len(cities)"
   ]
  },
  {
   "cell_type": "markdown",
   "metadata": {},
   "source": [
    "### Perform API Calls\n",
    "* Perform a weather check on each city using a series of successive API calls.\n",
    "* Include a print log of each city as it'sbeing processed (with the city number and city name).\n"
   ]
  },
  {
   "cell_type": "code",
   "execution_count": 3,
   "metadata": {},
   "outputs": [
    {
     "name": "stdout",
     "output_type": "stream",
     "text": [
      "List of Cities\n",
      "mataura\n",
      "saldanha\n",
      "busselton\n",
      "cidreira\n",
      "grindavik\n",
      "Data not found.\n",
      "taolanaro\n",
      "ushuaia\n",
      "avarua\n",
      "fare\n",
      "saint-philippe\n",
      "syasstroy\n",
      "cordoba\n",
      "cape town\n",
      "tucurui\n",
      "puerto ayora\n",
      "georgetown\n",
      "sobolevo\n",
      "thompson\n",
      "Data not found.\n",
      "grand centre\n",
      "hobart\n",
      "port moresby\n",
      "vao\n",
      "cagdianao\n",
      "saskylakh\n",
      "mount isa\n",
      "mabaruma\n",
      "srikakulam\n",
      "Data not found.\n",
      "amderma\n",
      "muros\n",
      "venustiano carranza\n",
      "new norfolk\n",
      "sao filipe\n",
      "upernavik\n",
      "grand-lahou\n",
      "sumbe\n",
      "mahebourg\n",
      "mola di bari\n",
      "jamestown\n",
      "luderitz\n",
      "guigue\n",
      "chuy\n",
      "rikitea\n",
      "chokurdakh\n",
      "Data not found.\n",
      "illoqqortoormiut\n",
      "mar del plata\n",
      "san carlos de bariloche\n",
      "crotone\n",
      "nouadhibou\n",
      "astara\n",
      "samarai\n",
      "makakilo city\n",
      "anito\n",
      "noumea\n",
      "rocky mountain house\n",
      "anadyr\n",
      "Data not found.\n",
      "attawapiskat\n",
      "gorontalo\n",
      "torbay\n",
      "Data not found.\n",
      "tsihombe\n",
      "norman wells\n",
      "butaritari\n",
      "yumen\n",
      "punta arenas\n",
      "kruisfontein\n",
      "padang\n",
      "nemuro\n",
      "hermanus\n",
      "qaanaaq\n",
      "ponta do sol\n",
      "ucluelet\n",
      "bluff\n",
      "kapaa\n",
      "atuona\n",
      "clyde river\n",
      "san rafael\n",
      "sao joao da barra\n",
      "khandyga\n",
      "north bend\n",
      "port alfred\n",
      "albany\n",
      "tuktoyaktuk\n",
      "hilo\n",
      "ilulissat\n",
      "ternate\n",
      "tura\n",
      "myre\n",
      "kutum\n",
      "brokopondo\n",
      "bokoro\n",
      "tuatapere\n",
      "port elizabeth\n",
      "tual\n",
      "ambon\n",
      "carnarvon\n",
      "yellowknife\n",
      "saint george\n",
      "Data not found.\n",
      "grand river south east\n",
      "marsa matruh\n",
      "malakal\n",
      "namibe\n",
      "Data not found.\n",
      "temaraia\n",
      "ribeira grande\n",
      "russell\n",
      "goure\n",
      "morro bay\n",
      "Data not found.\n",
      "mrirt\n",
      "tabou\n",
      "isangel\n",
      "belyy yar\n",
      "tiksi\n",
      "nisia floresta\n",
      "fortuna\n",
      "hervey bay\n",
      "Data not found.\n",
      "meyungs\n",
      "hithadhoo\n",
      "nagina\n",
      "sabzevar\n",
      "klaksvik\n",
      "linkou\n",
      "dudinka\n",
      "mogadouro\n",
      "gastouri\n",
      "Data not found.\n",
      "belushya guba\n",
      "wattegama\n",
      "sturgis\n",
      "srednekolymsk\n",
      "gat\n",
      "lahij\n",
      "Data not found.\n",
      "rolim de moura\n",
      "medicine hat\n",
      "east london\n",
      "yulara\n",
      "Data not found.\n",
      "umzimvubu\n",
      "cabo san lucas\n",
      "bethel\n",
      "mingyue\n",
      "cherskiy\n",
      "waipawa\n",
      "rawson\n",
      "vega de alatorre\n",
      "rancho palos verdes\n",
      "huejucar\n",
      "faanui\n",
      "pitimbu\n",
      "morant bay\n",
      "borogontsy\n",
      "arraial do cabo\n",
      "Data not found.\n",
      "barentsburg\n",
      "belmonte\n",
      "santa maria\n",
      "bairiki\n",
      "paamiut\n",
      "wajima\n",
      "erenhot\n",
      "nikolskoye\n",
      "luau\n",
      "barguzin\n",
      "rocha\n",
      "bengkulu\n",
      "severo-kurilsk\n",
      "lebu\n",
      "trat\n",
      "lewisporte\n",
      "san cristobal\n",
      "mani\n",
      "takoradi\n",
      "brae\n",
      "shelburne\n",
      "saint pete beach\n",
      "mariestad\n",
      "khatanga\n",
      "vaini\n",
      "maniitsoq\n",
      "akyab\n",
      "husavik\n",
      "hualmay\n",
      "iqaluit\n",
      "yangjiang\n",
      "dunedin\n",
      "aswan\n",
      "derzhavinsk\n",
      "shenkursk\n",
      "tadine\n",
      "laguna\n",
      "aktau\n",
      "komsomolskiy\n",
      "castro\n",
      "port lincoln\n",
      "rio gallegos\n",
      "west lafayette\n",
      "xining\n",
      "celendin\n",
      "huilong\n",
      "sampit\n",
      "san patricio\n",
      "catamarca\n",
      "najran\n",
      "ariquemes\n",
      "praia da vitoria\n",
      "shengjin\n",
      "mazamet\n",
      "jorpeland\n",
      "ust-kuyga\n",
      "salalah\n",
      "tessalit\n",
      "barrow\n",
      "meulaboh\n",
      "college\n",
      "ancud\n",
      "gangarampur\n",
      "strezhevoy\n",
      "phan thiet\n",
      "tautira\n",
      "nanortalik\n",
      "doba\n",
      "bathsheba\n",
      "Data not found.\n",
      "mys shmidta\n",
      "pevek\n",
      "vardo\n",
      "jutai\n",
      "naze\n",
      "haines junction\n",
      "lakselv\n",
      "ust-ordynskiy\n",
      "guerrero negro\n",
      "savannah bight\n",
      "virden\n",
      "dunning\n",
      "christchurch\n",
      "kodiak\n",
      "huarmey\n",
      "almaznyy\n",
      "vanderhoof\n",
      "tasiilaq\n",
      "Data not found.\n",
      "pilao arcado\n",
      "vibo valentia\n",
      "neiafu\n",
      "joshimath\n",
      "hamilton\n",
      "kavaratti\n",
      "camrose\n",
      "paris\n",
      "lavrentiya\n",
      "roald\n",
      "shache\n",
      "cabedelo\n",
      "harlingen\n",
      "opuwo\n",
      "alice springs\n",
      "talnakh\n",
      "tonantins\n",
      "nove mesto pod smrkem\n",
      "broome\n",
      "vangaindrano\n",
      "sinjai\n",
      "apiai\n",
      "la chaux-de-fonds\n",
      "kaeo\n",
      "ratnagiri\n",
      "kidal\n",
      "Data not found.\n",
      "samalaeulu\n",
      "umm lajj\n",
      "oranjestad\n",
      "poltava\n",
      "polaniec\n",
      "ouesso\n",
      "alofi\n",
      "freetown\n",
      "dikson\n",
      "lata\n",
      "santa rosa\n",
      "verkhoyansk\n",
      "port macquarie\n",
      "la ronge\n",
      "kudahuvadhoo\n",
      "drovyanaya\n",
      "kahului\n",
      "Data not found.\n",
      "sentyabrskiy\n",
      "sao felix do xingu\n",
      "Data not found.\n",
      "nizhneyansk\n",
      "swan river\n",
      "saint-georges\n",
      "waverly\n",
      "bonthe\n",
      "mercedes\n",
      "kirensk\n",
      "khor\n",
      "Data not found.\n",
      "tabiauea\n",
      "Data not found.\n",
      "sofiysk\n",
      "pompeu\n",
      "acapulco\n",
      "balabac\n",
      "santa isabel do rio negro\n",
      "shizunai\n",
      "kazerun\n",
      "mogadishu\n",
      "santiago\n",
      "bakau\n",
      "parintins\n",
      "matay\n",
      "longyearbyen\n",
      "oriximina\n",
      "fernie\n",
      "kysyl-syr\n",
      "Data not found.\n",
      "nguiu\n",
      "pacific grove\n",
      "svatove\n",
      "pitelino\n",
      "ulaangom\n",
      "taga\n",
      "yakovlevka\n",
      "lysyanka\n",
      "minab\n",
      "dingle\n",
      "petropavlovsk-kamchatskiy\n",
      "shiyan\n",
      "agadez\n",
      "chicama\n",
      "diffa\n",
      "citrus park\n",
      "chupa\n",
      "hovd\n",
      "magistralnyy\n",
      "mahajanga\n",
      "victoria\n",
      "bairnsdale\n",
      "port augusta\n",
      "sol-iletsk\n",
      "grand gaube\n",
      "amazar\n",
      "mutare\n",
      "vieques\n",
      "mangan\n",
      "surgut\n",
      "hambantota\n",
      "auki\n",
      "lagoa\n",
      "alta floresta\n",
      "alegrete\n",
      "atar\n",
      "faya\n",
      "nishihara\n",
      "calafell\n",
      "leningradskiy\n",
      "manali\n",
      "ondjiva\n",
      "bani\n",
      "qingyuan\n",
      "algiers\n",
      "bredasdorp\n",
      "grudziadz\n",
      "naron\n",
      "aguimes\n",
      "marrakesh\n",
      "zaokskiy\n",
      "bubaque\n",
      "egvekinot\n",
      "sedalia\n",
      "vila franca do campo\n",
      "aksu\n",
      "darhan\n",
      "jadu\n",
      "chardara\n",
      "Data not found.\n",
      "fevralsk\n",
      "belaya gora\n",
      "mandalgovi\n",
      "kaitangata\n",
      "Data not found.\n",
      "saleaula\n",
      "richards bay\n",
      "marawi\n",
      "picota\n",
      "samana\n",
      "bambous virieux\n",
      "west bay\n",
      "schoneiche\n",
      "quelimane\n",
      "kez\n",
      "lusambo\n",
      "Data not found.\n",
      "sorvag\n",
      "sunnyside\n",
      "Data not found.\n",
      "tawnat\n",
      "saint anthony\n",
      "hirara\n",
      "olinda\n",
      "esperance\n",
      "mbini\n",
      "wahiawa\n",
      "conceicao do araguaia\n",
      "amahai\n",
      "avera\n",
      "korla\n",
      "vestmannaeyjar\n",
      "morehead\n",
      "severodvinsk\n",
      "puerto ayacucho\n",
      "zhigansk\n",
      "inhambane\n",
      "luanda\n",
      "keti bandar\n",
      "barcelona\n",
      "codrington\n",
      "Data not found.\n",
      "viligili\n",
      "provideniya\n",
      "los llanos de aridane\n",
      "sisimiut\n",
      "Data not found.\n",
      "khonuu\n",
      "mena\n",
      "taoudenni\n",
      "kloulklubed\n",
      "Data not found.\n",
      "marcona\n",
      "hami\n",
      "antalaha\n",
      "tigil\n",
      "solnechnyy\n",
      "Data not found.\n",
      "palabuhanratu\n",
      "nome\n",
      "caete\n",
      "atasu\n",
      "galveston\n",
      "porto santo\n",
      "otavi\n",
      "drayton valley\n",
      "filimonovo\n",
      "qasigiannguit\n",
      "sitka\n",
      "waw\n",
      "ransang\n",
      "ambilobe\n",
      "oranjemund\n",
      "seoul\n",
      "yambio\n",
      "pimenta bueno\n",
      "rajbiraj\n",
      "te anau\n",
      "sotouboua\n",
      "seversk\n",
      "sambava\n",
      "bend\n",
      "freiberg\n",
      "Data not found.\n",
      "haapu\n",
      "pozo colorado\n",
      "Data not found.\n",
      "pandelys\n",
      "burnie\n",
      "sibolga\n",
      "omsukchan\n",
      "novoalekseyevskaya\n",
      "korem\n",
      "novobirilyussy\n",
      "pundaguitan\n",
      "lashio\n",
      "port shepstone\n",
      "fort nelson\n",
      "touros\n",
      "lower hutt\n",
      "chunoyar\n",
      "sungaipenuh\n",
      "yadgir\n",
      "sabya\n",
      "surt\n",
      "volkach\n",
      "fuerte olimpo\n",
      "le marin\n",
      "pisco\n",
      "lompoc\n",
      "gasa\n",
      "Data not found.\n",
      "dibaya\n",
      "portland\n",
      "port hardy\n",
      "aljezur\n",
      "rocky mount\n",
      "robertson\n",
      "viedma\n",
      "Data not found.\n",
      "tasbuget\n",
      "shieli\n",
      "hasaki\n",
      "sudak\n",
      "constitucion\n",
      "amga\n",
      "synya\n",
      "yenagoa\n",
      "labuhan\n",
      "yantal\n",
      "manono\n",
      "berlevag\n",
      "camacha\n",
      "deputatskiy\n",
      "Data not found.\n",
      "lolua\n",
      "corner brook\n",
      "maningrida\n",
      "gamba\n",
      "davlekanovo\n",
      "adrar\n",
      "markivka\n",
      "pangnirtung\n",
      "fort frances\n",
      "abha\n",
      "Data not found.\n",
      "tumannyy\n",
      "latung\n",
      "kavieng\n",
      "ostersund\n",
      "aykhal\n",
      "Data not found.\n",
      "saryshagan\n",
      "tommot\n",
      "buluang\n",
      "golden\n",
      "amapa\n",
      "gornopravdinsk\n",
      "salisbury\n",
      "ifanadiana\n",
      "pathein\n",
      "Data not found.\n",
      "skagastrond\n",
      "rahimatpur\n",
      "Data not found.\n",
      "scottsburgh\n",
      "silla\n",
      "cozumel\n",
      "kiama\n",
      "gao\n",
      "abbeville\n",
      "kupang\n",
      "alugan\n",
      "roma\n",
      "mokhsogollokh\n",
      "batagay-alyta\n",
      "half moon bay\n",
      "visnes\n",
      "Data not found.\n",
      "naftah\n",
      "cayenne\n",
      "gallup\n",
      "alekseyevsk\n",
      "coquimbo\n",
      "homer\n",
      "quatre cocos\n",
      "kjopsvik\n",
      "jasper\n",
      "Data not found.\n",
      "louisbourg\n",
      "Data not found.\n",
      "maykain\n",
      "shimoda\n",
      "pinawa\n",
      "ribeira brava\n",
      "aklavik\n",
      "ozernovskiy\n",
      "turbat\n",
      "Data not found.\n",
      "afgoye\n",
      "killybegs\n",
      "sokoto\n",
      "Data not found.\n",
      "samusu\n",
      "namatanai\n",
      "grand-couronne\n",
      "san ignacio\n",
      "novoanninskiy\n",
      "Data not found.\n",
      "barbar\n",
      "cap malheureux\n",
      "ewa beach\n",
      "leopold\n",
      "bunia\n",
      "pafos\n",
      "purpe\n",
      "vaijapur\n",
      "santa cruz de la palma\n",
      "maldonado\n",
      "soller\n",
      "bajil\n",
      "Data not found.\n",
      "burica\n",
      "port-gentil\n",
      "ishim\n",
      "lorengau\n",
      "reconquista\n",
      "zaria\n",
      "Data not found.\n",
      "hunza\n",
      "beringovskiy\n",
      "san quintin\n",
      "gold coast\n",
      "bombay\n",
      "anchorage\n",
      "cape canaveral\n",
      "canandaigua\n",
      "vostok\n",
      "kendari\n",
      "taybad\n",
      "macau\n",
      "canete\n",
      "mayor pablo lagerenza\n",
      "japura\n",
      "sembe\n",
      "biggar\n",
      "yerbogachen\n",
      "Data not found.\n",
      "raozan\n",
      "narsaq\n",
      "san javier\n",
      "jhunjhunun\n",
      "kirakira\n",
      "sakakah\n",
      "kikwit\n",
      "jiwani\n",
      "salinopolis\n",
      "yumbe\n",
      "oistins\n",
      "obihiro\n",
      "chenghai\n",
      "santiago del estero\n",
      "birjand\n",
      "praia\n",
      "ekhabi\n",
      "honiara\n",
      "geraldton\n",
      "ruyigi\n",
      "makhinjauri\n",
      "roebourne\n",
      "broken hill\n"
     ]
    }
   ],
   "source": [
    "# Define the base URL\n",
    "base_url = \"http://api.openweathermap.org/data/2.5/weather?\"\n",
    "\n",
    "# Variables needed: Country, temperature, humidity, cloudiness, wind speed\n",
    "new_city = []\n",
    "country = []\n",
    "latit = []\n",
    "longit = []\n",
    "max_temp = []\n",
    "humid_ = []\n",
    "cloud_ = []\n",
    "wind = []\n",
    "\n",
    "print(f'List of Cities')\n",
    "# Build the query\n",
    "for city in cities:\n",
    "    try:\n",
    "        query_url = base_url + \"q=\" + city + \"&appid=\" + weather_api_key\n",
    "        response = requests.get(query_url).json()\n",
    "        new_city.append(response['name'])\n",
    "        country.append(response['sys']['country'])\n",
    "        latit.append(response['coord']['lat'])\n",
    "        longit.append(response['coord']['lon'])\n",
    "        max_temp.append(response['main']['temp_max'])\n",
    "        humid_.append(response['main']['humidity'])\n",
    "        cloud_.append(response['clouds']['all'])\n",
    "        wind.append(response['wind']['speed'])\n",
    "    except:\n",
    "        print(f'Data not found.')\n",
    "                \n",
    "    # Print log\n",
    "    print(city)\n",
    "\n",
    "    # Don't attack the server!\n",
    "    time.sleep(.1)"
   ]
  },
  {
   "cell_type": "markdown",
   "metadata": {},
   "source": [
    "### Convert Raw Data to DataFrame\n",
    "* Export the city data into a .csv.\n",
    "* Display the DataFrame"
   ]
  },
  {
   "cell_type": "code",
   "execution_count": 4,
   "metadata": {},
   "outputs": [
    {
     "name": "stdout",
     "output_type": "stream",
     "text": [
      "561 561 561 561 561 561 561 561\n"
     ]
    }
   ],
   "source": [
    "print(len(new_city), len(country), len(max_temp), len(latit), len(longit), len(humid_), len(cloud_), len(wind))"
   ]
  },
  {
   "cell_type": "code",
   "execution_count": null,
   "metadata": {},
   "outputs": [],
   "source": [
    "weather_df = pd.DataFrame({\n",
    "    \"City\": new_city,\n",
    "    \"Country\": country,\n",
    "    \"Cloudiness\": cloud_,\n",
    "    \"Humidity\": humid_,\n",
    "    \"Lat\": latit,\n",
    "    \"Lng\": longit,\n",
    "    \"Max Temp\": max_temp,\n",
    "    \"Wind Speed\": wind\n",
    "})\n",
    "weather_df.head()"
   ]
  },
  {
   "cell_type": "code",
   "execution_count": null,
   "metadata": {},
   "outputs": [],
   "source": [
    "weather_df.to_csv(\"weather.csv\")"
   ]
  },
  {
   "cell_type": "markdown",
   "metadata": {},
   "source": [
    "### Plotting the Data\n",
    "* Use proper labeling of the plots using plot titles (including date of analysis) and axes labels.\n",
    "* Save the plotted figures as .pngs."
   ]
  },
  {
   "cell_type": "markdown",
   "metadata": {},
   "source": [
    "#### Latitude vs. Temperature Plot"
   ]
  },
  {
   "cell_type": "code",
   "execution_count": null,
   "metadata": {
    "scrolled": true
   },
   "outputs": [],
   "source": [
    "lattmp_plot = weather_df[[\"Lat\", \"Max Temp\"]]\n",
    "lattmp_plot.plot(kind='scatter', x=\"Lat\", y=\"Max Temp\")"
   ]
  },
  {
   "cell_type": "raw",
   "metadata": {},
   "source": []
  },
  {
   "cell_type": "markdown",
   "metadata": {},
   "source": [
    "There is a clear pattern in which the highest latitudes (nearest the poles) have the lowest max temps. Interestingly, this is more pronounced in the Northern Hemisphere than the Southern, which may be due to the land:ocean ratio, i.e. the Northern Hemisphere has more land than the Southern. The large midlatitude landmasses of North America and Eurasia have no comparable counterpart in the Southern Hemisphere. The range from 20-40 degrees latitude is markedly warmer in the Southern Hemisphere than the Northern.\n",
    "\n",
    "Inhabited lands do not extend as far to the south as they do to the north. South of Ushuaia is the Southern Ocean circling the Antarctic continent. Hence there are no cities in the 60-80 degrees latitude zone in the Southern Hemisphere."
   ]
  },
  {
   "cell_type": "markdown",
   "metadata": {},
   "source": [
    "#### Latitude vs. Humidity Plot"
   ]
  },
  {
   "cell_type": "code",
   "execution_count": null,
   "metadata": {},
   "outputs": [],
   "source": [
    "lathum_plot = weather_df[[\"Lat\", \"Humidity\"]]\n",
    "lathum_plot.plot(kind='scatter', x=\"Lat\", y=\"Humidity\")"
   ]
  },
  {
   "cell_type": "markdown",
   "metadata": {},
   "source": [
    "There is little discernible relationship between latitude and humidity, except that somewhat drier conditions prevail in a few localities between 0 and 20 degrees north. These latitudes also have locations of high humidity. Conversely, the highest latitudes are lacking in low humidity localities."
   ]
  },
  {
   "cell_type": "markdown",
   "metadata": {},
   "source": [
    "#### Latitude vs. Cloudiness Plot"
   ]
  },
  {
   "cell_type": "code",
   "execution_count": null,
   "metadata": {},
   "outputs": [],
   "source": [
    "latcloud_plot = weather_df[[\"Lat\", \"Cloudiness\"]]\n",
    "latcloud_plot.plot(kind='scatter', x=\"Lat\", y=\"Cloudiness\")"
   ]
  },
  {
   "cell_type": "markdown",
   "metadata": {},
   "source": [
    "No pattern exists between latitude and cloudiness. The apparent bands at certain percent cloudiness may be an artifact of the way cloudiness is quantified. It is unexpected to find no difference in cloudiness between the notoriously dry Horse Latitudes, where most of the world's deserts are located, and the low pressure belts north and south of them."
   ]
  },
  {
   "cell_type": "markdown",
   "metadata": {},
   "source": [
    "#### Latitude vs. Wind Speed Plot"
   ]
  },
  {
   "cell_type": "code",
   "execution_count": null,
   "metadata": {},
   "outputs": [],
   "source": [
    "latwind_plot = weather_df[[\"Lat\", \"Wind Speed\"]]\n",
    "latwind_plot.plot(kind='scatter', x=\"Lat\", y=\"Wind Speed\")"
   ]
  },
  {
   "cell_type": "markdown",
   "metadata": {},
   "source": [
    "No apparent relationship exists between latitude and wind speed."
   ]
  },
  {
   "cell_type": "markdown",
   "metadata": {},
   "source": [
    "## Linear Regression"
   ]
  },
  {
   "cell_type": "code",
   "execution_count": null,
   "metadata": {},
   "outputs": [],
   "source": [
    "# OPTIONAL: Create a function to create Linear Regression plots\n",
    "# slope, intercept, r_value, p_value, std_err = stats.linregress()"
   ]
  },
  {
   "cell_type": "code",
   "execution_count": null,
   "metadata": {},
   "outputs": [],
   "source": [
    "# Create Northern and Southern Hemisphere DataFrames\n",
    "\n",
    "# Separate Northern from Southern Hemisphere\n",
    "north_cities = weather_df[weather_df[\"Lat\"] >= 0]\n",
    "south_cities = weather_df[weather_df[\"Lat\"] < 0]"
   ]
  },
  {
   "cell_type": "code",
   "execution_count": null,
   "metadata": {},
   "outputs": [],
   "source": [
    "# Create dataframes\n",
    "north_cities.head()"
   ]
  },
  {
   "cell_type": "code",
   "execution_count": null,
   "metadata": {},
   "outputs": [],
   "source": [
    "south_cities.head()"
   ]
  },
  {
   "cell_type": "markdown",
   "metadata": {},
   "source": [
    "####  Northern Hemisphere - Max Temp vs. Latitude Linear Regression"
   ]
  },
  {
   "cell_type": "code",
   "execution_count": null,
   "metadata": {},
   "outputs": [],
   "source": [
    "n_lattmp_plot = north_cities[[\"Lat\", \"Max Temp\"]]\n",
    "n_lattmp_plot.plot(kind='scatter', x=\"Lat\", y=\"Max Temp\")"
   ]
  },
  {
   "cell_type": "markdown",
   "metadata": {},
   "source": [
    "In the Northern Hemisphere, increasing distance from the equator correlates with decreasing max temp, but also with more variation in temp, as the high latitude temps show much wider range than the equatorial temps. Also, the highest temps are not at the equator, but near 10 degrees north."
   ]
  },
  {
   "cell_type": "markdown",
   "metadata": {},
   "source": [
    "####  Southern Hemisphere - Max Temp vs. Latitude Linear Regression"
   ]
  },
  {
   "cell_type": "code",
   "execution_count": null,
   "metadata": {},
   "outputs": [],
   "source": [
    "s_lattmp_plot = south_cities[[\"Lat\", \"Max Temp\"]]\n",
    "s_lattmp_plot.plot(kind='scatter', x=\"Lat\", y=\"Max Temp\")"
   ]
  },
  {
   "cell_type": "markdown",
   "metadata": {},
   "source": [
    "In the Southern Hemisphere, although the same pattern exists with lower max temps the further one goes from the equator, it is less sharp. It might be instructive to factor in altitude, since even at the equator, there are cities in the Andes with cold climates due to high altitude. Nevertheless, the amount of variation appears more widespread than that, and it may be that the Southern Hemisphere's higher proportion of ocean relative to the Northern Hemisphere is adding more variables."
   ]
  },
  {
   "cell_type": "markdown",
   "metadata": {},
   "source": [
    "####  Northern Hemisphere - Humidity (%) vs. Latitude Linear Regression"
   ]
  },
  {
   "cell_type": "code",
   "execution_count": null,
   "metadata": {},
   "outputs": [],
   "source": [
    "n_lathum_plot = north_cities[[\"Lat\", \"Humidity\"]]\n",
    "n_lathum_plot.plot(kind='scatter', x=\"Lat\", y=\"Humidity\")"
   ]
  },
  {
   "cell_type": "markdown",
   "metadata": {},
   "source": [
    "In the Northern Hemisphere, there is a definite lack of dry climates further from the equator, although even south of 40 degrees, where dry localities are present, there are still a lot of humid localities, too, and the max humidity does not change much with latitude."
   ]
  },
  {
   "cell_type": "markdown",
   "metadata": {},
   "source": [
    "####  Southern Hemisphere - Humidity (%) vs. Latitude Linear Regression"
   ]
  },
  {
   "cell_type": "code",
   "execution_count": null,
   "metadata": {},
   "outputs": [],
   "source": [
    "s_lathum_plot = south_cities[[\"Lat\", \"Humidity\"]]\n",
    "s_lathum_plot.plot(kind='scatter', x=\"Lat\", y=\"Humidity\")"
   ]
  },
  {
   "cell_type": "markdown",
   "metadata": {},
   "source": [
    "The Southern Hemisphere shows no clear cut pattern in humidity vs. latitude, except that on the whole, humid climates are slightly more prevalent than dry ones. This, again, may be due to the lack of expansive landmasses and prevalence of maritime climates -- Chile's Atacama Desert, where no rain falls, is nevertheless watered by coastal fog."
   ]
  },
  {
   "cell_type": "markdown",
   "metadata": {},
   "source": [
    "####  Northern Hemisphere - Cloudiness (%) vs. Latitude Linear Regression"
   ]
  },
  {
   "cell_type": "code",
   "execution_count": null,
   "metadata": {},
   "outputs": [],
   "source": [
    "n_latcld_plot = north_cities[[\"Lat\", \"Cloudiness\"]]\n",
    "n_latcld_plot.plot(kind='scatter', x=\"Lat\", y=\"Cloudiness\")"
   ]
  },
  {
   "cell_type": "markdown",
   "metadata": {},
   "source": [
    "As on the global graph, the Northern Hemisphere graph shows no correlation."
   ]
  },
  {
   "cell_type": "markdown",
   "metadata": {},
   "source": [
    "####  Southern Hemisphere - Cloudiness (%) vs. Latitude Linear Regression"
   ]
  },
  {
   "cell_type": "code",
   "execution_count": null,
   "metadata": {},
   "outputs": [],
   "source": [
    "s_latcld_plot = south_cities[[\"Lat\", \"Cloudiness\"]]\n",
    "s_latcld_plot.plot(kind='scatter', x=\"Lat\", y=\"Cloudiness\")"
   ]
  },
  {
   "cell_type": "markdown",
   "metadata": {},
   "source": [
    "As on the global graph, the Southern Hemisphere graph shows no correlation."
   ]
  },
  {
   "cell_type": "markdown",
   "metadata": {},
   "source": [
    "####  Northern Hemisphere - Wind Speed (mph) vs. Latitude Linear Regression"
   ]
  },
  {
   "cell_type": "code",
   "execution_count": null,
   "metadata": {},
   "outputs": [],
   "source": [
    "n_latwnd_plot = north_cities[[\"Lat\", \"Wind Speed\"]]\n",
    "n_latwnd_plot.plot(kind='scatter', x=\"Lat\", y=\"Wind Speed\")"
   ]
  },
  {
   "cell_type": "markdown",
   "metadata": {},
   "source": [
    "Wind speed is highly variable at every latitude, with no one latitude showing consistently higher or lower wind speeds. "
   ]
  },
  {
   "cell_type": "markdown",
   "metadata": {},
   "source": [
    "####  Southern Hemisphere - Wind Speed (mph) vs. Latitude Linear Regression"
   ]
  },
  {
   "cell_type": "code",
   "execution_count": null,
   "metadata": {},
   "outputs": [],
   "source": [
    "s_latwnd_plot = south_cities[[\"Lat\", \"Wind Speed\"]]\n",
    "s_latwnd_plot.plot(kind='scatter', x=\"Lat\", y=\"Wind Speed\")"
   ]
  },
  {
   "cell_type": "markdown",
   "metadata": {},
   "source": [
    "Wind speed varies in the Southern Hemisphere also, with one notable distiction: the few localities furthest south average higher wind speeds. This is likely due to their location in the Southern Ocean, with the notorious \"Roaring Forties,\" \"Furious Fifties,\" and \"Screaming Sixties,\" with winds meeting little resistance from land to slow them. Unexpectedly, though, even the highest wind speed in the Southern Hemisphere, near 45 degrees south, was less than the highest in the Northern Hemisphere, near 65 degrees north. This may be due to a lack of cities in Antarctica."
   ]
  }
 ],
 "metadata": {
  "anaconda-cloud": {},
  "kernel_info": {
   "name": "python3"
  },
  "kernelspec": {
   "display_name": "Python 3",
   "language": "python",
   "name": "python3"
  },
  "language_info": {
   "codemirror_mode": {
    "name": "ipython",
    "version": 3
   },
   "file_extension": ".py",
   "mimetype": "text/x-python",
   "name": "python",
   "nbconvert_exporter": "python",
   "pygments_lexer": "ipython3",
   "version": "3.7.6"
  },
  "latex_envs": {
   "LaTeX_envs_menu_present": true,
   "autoclose": false,
   "autocomplete": true,
   "bibliofile": "biblio.bib",
   "cite_by": "apalike",
   "current_citInitial": 1,
   "eqLabelWithNumbers": true,
   "eqNumInitial": 1,
   "hotkeys": {
    "equation": "Ctrl-E",
    "itemize": "Ctrl-I"
   },
   "labels_anchors": false,
   "latex_user_defs": false,
   "report_style_numbering": false,
   "user_envs_cfg": false
  },
  "nteract": {
   "version": "0.12.3"
  }
 },
 "nbformat": 4,
 "nbformat_minor": 2
}
