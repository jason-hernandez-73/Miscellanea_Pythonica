{
 "cells": [
  {
   "cell_type": "markdown",
   "metadata": {},
   "source": [
    "# WeatherPy\n",
    "----\n",
    "\n",
    "#### Note\n",
    "* Instructions have been included for each segment. You do not have to follow them exactly, but they are included to help you think through the steps."
   ]
  },
  {
   "cell_type": "code",
   "execution_count": 3,
   "metadata": {
    "scrolled": true
   },
   "outputs": [],
   "source": [
    "# Dependencies and Setup\n",
    "import matplotlib.pyplot as plt\n",
    "import pandas as pd\n",
    "import numpy as np\n",
    "import requests\n",
    "import time\n",
    "from scipy.stats import linregress\n",
    "\n",
    "# Import API key\n",
    "from api_keys import weather_api_key\n",
    "\n",
    "# Incorporated citipy to determine city based on latitude and longitude\n",
    "from citipy import citipy\n",
    "\n",
    "# Output File (CSV)\n",
    "output_data_file = \"output_data/cities.csv\"\n",
    "\n",
    "# Range of latitudes and longitudes\n",
    "lat_range = (-90, 90)\n",
    "lng_range = (-180, 180)"
   ]
  },
  {
   "cell_type": "markdown",
   "metadata": {},
   "source": [
    "## Generate Cities List"
   ]
  },
  {
   "cell_type": "code",
   "execution_count": 4,
   "metadata": {},
   "outputs": [
    {
     "data": {
      "text/plain": [
       "623"
      ]
     },
     "execution_count": 4,
     "metadata": {},
     "output_type": "execute_result"
    }
   ],
   "source": [
    "# List for holding lat_lngs and cities\n",
    "lat_lngs = []\n",
    "cities = []\n",
    "\n",
    "# Create a set of random lat and lng combinations\n",
    "lats = np.random.uniform(low=-90.000, high=90.000, size=1500)\n",
    "lngs = np.random.uniform(low=-180.000, high=180.000, size=1500)\n",
    "lat_lngs = zip(lats, lngs)\n",
    "\n",
    "# Identify nearest city for each lat, lng combination\n",
    "for lat_lng in lat_lngs:\n",
    "    city = citipy.nearest_city(lat_lng[0], lat_lng[1]).city_name\n",
    "    \n",
    "    # If the city is unique, then add it to our cities list\n",
    "    if city not in cities:\n",
    "        cities.append(city)\n",
    "\n",
    "# Print the city count to confirm sufficient count\n",
    "len(cities)"
   ]
  },
  {
   "cell_type": "markdown",
   "metadata": {},
   "source": [
    "### Perform API Calls\n",
    "* Perform a weather check on each city using a series of successive API calls.\n",
    "* Include a print log of each city as it'sbeing processed (with the city number and city name).\n"
   ]
  },
  {
   "cell_type": "code",
   "execution_count": 7,
   "metadata": {},
   "outputs": [
    {
     "name": "stdout",
     "output_type": "stream",
     "text": [
      "List of Cities\n",
      "kungurtug\n",
      "omboue\n",
      "georgetown\n",
      "hamilton\n",
      "hobart\n",
      "bredasdorp\n",
      "dikson\n",
      "ixtapa\n",
      "beringovskiy\n",
      "ancud\n",
      "nikolskoye\n",
      "javanrud\n",
      "upernavik\n",
      "saint andrews\n",
      "magistralnyy\n",
      "necochea\n",
      "vostok\n",
      "ushuaia\n",
      "avarua\n",
      "qaanaaq\n",
      "taltal\n",
      "vangaindrano\n",
      "torshavn\n",
      "punta arenas\n",
      "desterro\n",
      "thompson\n",
      "mar del plata\n",
      "cabo san lucas\n",
      "bilma\n",
      "saint-pierre\n",
      "coihaique\n",
      "haines junction\n",
      "vaini\n",
      "hermanus\n",
      "port hedland\n",
      "faanui\n",
      "hithadhoo\n",
      "yulara\n",
      "cape town\n",
      "arraial do cabo\n",
      "asau\n",
      "bethel\n",
      "kahului\n",
      "lebu\n",
      "tuktoyaktuk\n",
      "puerto ayora\n",
      "wanning\n",
      "comodoro rivadavia\n",
      "hilo\n",
      "calamar\n",
      "kapaa\n",
      "kaitangata\n",
      "pimentel\n",
      "torbay\n",
      "san patricio\n",
      "opuwo\n",
      "tasiilaq\n",
      "rikitea\n",
      "port-gentil\n",
      "vidim\n",
      "aldan\n",
      "mount gambier\n",
      "awjilah\n",
      "souillac\n",
      "new norfolk\n",
      "bilibino\n",
      "brejo santo\n",
      "Data not found.\n",
      "mys shmidta\n",
      "chokurdakh\n",
      "chenzhou\n",
      "progreso\n",
      "stromness\n",
      "provideniya\n",
      "rocha\n",
      "biltine\n",
      "mto wa mbu\n",
      "albany\n",
      "mataura\n",
      "butaritari\n",
      "pacific grove\n",
      "yerbogachen\n",
      "san cristobal\n",
      "port alfred\n",
      "saldanha\n",
      "padang\n",
      "mahuva\n",
      "east london\n",
      "dingle\n",
      "namibe\n",
      "norman wells\n",
      "tautira\n",
      "mega\n",
      "belaya gora\n",
      "eravur\n",
      "sept-iles\n",
      "pemba\n",
      "jamestown\n",
      "camana\n",
      "la ronge\n",
      "tutoia\n",
      "kabare\n",
      "iqaluit\n",
      "marsh harbour\n",
      "isangel\n",
      "saskylakh\n",
      "oshkosh\n",
      "esperance\n",
      "guerrero negro\n",
      "deputatskiy\n",
      "neuquen\n",
      "busselton\n",
      "kpandae\n",
      "ekhabi\n",
      "bluff\n",
      "portland\n",
      "nyahururu\n",
      "davila\n",
      "katobu\n",
      "klaksvik\n",
      "tokur\n",
      "nizhniy kuranakh\n",
      "mukilteo\n",
      "grand gaube\n",
      "vestmannaeyjar\n",
      "nisia floresta\n",
      "pevek\n",
      "maua\n",
      "los llanos de aridane\n",
      "olbia\n",
      "katrineholm\n",
      "juneau\n",
      "chuy\n",
      "kula\n",
      "severo-kurilsk\n",
      "touros\n",
      "kruisfontein\n",
      "san juan\n",
      "alice springs\n",
      "buraydah\n",
      "scarborough\n",
      "kashi\n",
      "primorskiy\n",
      "ambahta\n",
      "road town\n",
      "sao filipe\n",
      "riohacha\n",
      "mahebourg\n",
      "saint george\n",
      "Data not found.\n",
      "amderma\n",
      "humaita\n",
      "carnarvon\n",
      "puerto plata\n",
      "leningradskiy\n",
      "mnogovershinnyy\n",
      "ormara\n",
      "kita\n",
      "bonavista\n",
      "lleida\n",
      "porto novo\n",
      "saint-philippe\n",
      "yellowknife\n",
      "marihatag\n",
      "honningsvag\n",
      "aklavik\n",
      "sao felix do xingu\n",
      "kodiak\n",
      "cayenne\n",
      "svetlyy\n",
      "bengkulu\n",
      "bauchi\n",
      "bathsheba\n",
      "maltahohe\n",
      "nalut\n",
      "geraldton\n",
      "san carlos de bariloche\n",
      "mbaiki\n",
      "paamiut\n",
      "avera\n",
      "aksha\n",
      "trinidad\n",
      "matagami\n",
      "talnakh\n",
      "kieta\n",
      "itoman\n",
      "naze\n",
      "castro\n",
      "longyearbyen\n",
      "sistranda\n",
      "ust-tsilma\n",
      "lagoa\n",
      "muros\n",
      "kakanj\n",
      "kurtamysh\n",
      "bayir\n",
      "dicabisagan\n",
      "vanimo\n",
      "ajdabiya\n",
      "jaisalmer\n",
      "maceio\n",
      "atuona\n",
      "tiksi\n",
      "erzin\n",
      "manokwari\n",
      "eskil\n",
      "barrow\n",
      "harper\n",
      "kandalaksha\n",
      "banda aceh\n",
      "talara\n",
      "ponta do sol\n",
      "dakoro\n",
      "khandyga\n",
      "hohhot\n",
      "burgos\n",
      "high level\n",
      "moranbah\n",
      "kampene\n",
      "kindu\n",
      "sukhobuzimskoye\n",
      "muli\n",
      "abu dhabi\n",
      "christchurch\n",
      "te anau\n",
      "belyy yar\n",
      "flinders\n",
      "ilulissat\n",
      "cabedelo\n",
      "obo\n",
      "gatton\n",
      "wajid\n",
      "newport\n",
      "dong hoi\n",
      "xining\n",
      "inirida\n",
      "madingou\n",
      "oistins\n",
      "sarab\n",
      "cidreira\n",
      "tura\n",
      "mecca\n",
      "pangoa\n",
      "vao\n",
      "male\n",
      "nagato\n",
      "bakaly\n",
      "shache\n",
      "birjand\n",
      "tsagan aman\n",
      "havelock\n",
      "guane\n",
      "amposta\n",
      "genhe\n",
      "northam\n",
      "pizhma\n",
      "strezhevoy\n",
      "ostrovnoy\n",
      "ulaanbaatar\n",
      "mantua\n",
      "hualmay\n",
      "pangody\n",
      "waipawa\n",
      "vardo\n",
      "lima\n",
      "kirakira\n",
      "vila velha\n",
      "sitka\n",
      "ambilobe\n",
      "monterey\n",
      "grand forks\n",
      "phan thiet\n",
      "aurillac\n",
      "kihei\n",
      "constitucion\n",
      "pochutla\n",
      "alofi\n",
      "itarema\n",
      "mount isa\n",
      "kasongo\n",
      "airai\n",
      "khatanga\n",
      "ketchikan\n",
      "wakkanai\n",
      "kenai\n",
      "matara\n",
      "hofn\n",
      "port lincoln\n",
      "cherskiy\n",
      "bambous virieux\n",
      "coquimbo\n",
      "bima\n",
      "kununurra\n",
      "Data not found.\n",
      "umzimvubu\n",
      "panguna\n",
      "medicine hat\n",
      "melilla\n",
      "kibala\n",
      "kalmunai\n",
      "havre-saint-pierre\n",
      "grindavik\n",
      "lompoc\n",
      "Data not found.\n",
      "barawe\n",
      "skibbereen\n",
      "moose factory\n",
      "popondetta\n",
      "samarai\n",
      "nha trang\n",
      "tiznit\n",
      "tongliao\n",
      "akcakoca\n",
      "magadan\n",
      "oussouye\n",
      "tchaourou\n",
      "athabasca\n",
      "nyimba\n",
      "makakilo city\n",
      "puerto escondido\n",
      "sun valley\n",
      "troitsko-pechorsk\n",
      "mbanza-ngungu\n",
      "syasstroy\n",
      "andenes\n",
      "porto belo\n",
      "glendive\n",
      "sibolga\n",
      "galatas\n",
      "aztec\n",
      "port elizabeth\n",
      "ushtobe\n",
      "booue\n",
      "usinsk\n",
      "ntungamo\n",
      "romanovo\n",
      "whitecourt\n",
      "coolum beach\n",
      "karacabey\n",
      "jiancheng\n",
      "muncar\n",
      "meshcherino\n",
      "sao joao da barra\n",
      "amahai\n",
      "rawah\n",
      "pundaguitan\n",
      "augusto correa\n",
      "otavi\n",
      "areia branca\n",
      "dargaville\n",
      "bonthe\n",
      "huarmey\n",
      "newburgh\n",
      "villa carlos paz\n",
      "cockburn town\n",
      "hervey bay\n",
      "mindelo\n",
      "salalah\n",
      "tessalit\n",
      "kysyl-syr\n",
      "olafsvik\n",
      "champerico\n",
      "sarangani\n",
      "fortuna\n",
      "manuk mangkaw\n",
      "valverde del camino\n",
      "elverum\n",
      "srandakan\n",
      "hasaki\n",
      "shimoda\n",
      "abu zabad\n",
      "maryville\n",
      "marienburg\n",
      "tomatlan\n",
      "nouadhibou\n",
      "srednebelaya\n",
      "kyabram\n",
      "shadrinsk\n",
      "peniche\n",
      "todos santos\n",
      "chicama\n",
      "beloha\n",
      "antofagasta\n",
      "riyadh\n",
      "ossora\n",
      "maniitsoq\n",
      "mount pleasant\n",
      "manicore\n",
      "motihari\n",
      "locri\n",
      "ust-barguzin\n",
      "nicoya\n",
      "dwarka\n",
      "tahe\n",
      "carlsbad\n",
      "luderitz\n",
      "takoradi\n",
      "flin flon\n",
      "altamont\n",
      "clyde river\n",
      "sur\n",
      "aksu\n",
      "Data not found.\n",
      "balykshi\n",
      "pisco\n",
      "ranot\n",
      "bella vista\n",
      "jalu\n",
      "hay river\n",
      "tucurui\n",
      "yeniseysk\n",
      "gimli\n",
      "jalingo\n",
      "gigmoto\n",
      "joshimath\n",
      "talcahuano\n",
      "dryden\n",
      "launceston\n",
      "miraflores\n",
      "upington\n",
      "marsa matruh\n",
      "goleniow\n",
      "amapa\n",
      "ribeira grande\n",
      "burnie\n",
      "olinda\n",
      "noyabrsk\n",
      "kurtalan\n",
      "bulgan\n",
      "inhambane\n",
      "mvuma\n",
      "victoria\n",
      "lasa\n",
      "marrakesh\n",
      "martapura\n",
      "lidkoping\n",
      "kamenka\n",
      "nagorsk\n",
      "zhigansk\n",
      "cao bang\n",
      "margate\n",
      "sechura\n",
      "half moon bay\n",
      "narsaq\n",
      "shiraz\n",
      "santa isabel do rio negro\n",
      "okhotsk\n",
      "bayshore gardens\n",
      "berlevag\n",
      "onega\n",
      "mildura\n",
      "mahanoro\n",
      "tikrit\n",
      "derzhavinsk\n",
      "ampanihy\n",
      "makaleng\n",
      "akhisar\n",
      "dunedin\n",
      "roma\n",
      "nemuro\n",
      "maumere\n",
      "yigou\n",
      "marawi\n",
      "leira\n",
      "borogontsy\n",
      "gweru\n",
      "tshikapa\n",
      "agarak\n",
      "qiongshan\n",
      "teguise\n",
      "hami\n",
      "letlhakane\n",
      "ola\n",
      "jimenez\n",
      "kamaishi\n",
      "codrington\n",
      "muramvya\n",
      "sitio novo do tocantins\n",
      "kavieng\n",
      "sioux lookout\n",
      "verkhnevilyuysk\n",
      "bayan\n",
      "strai\n",
      "manggar\n",
      "kaka\n",
      "salekhard\n",
      "ust-ilimsk\n",
      "north adams\n",
      "ryotsu\n",
      "penapolis\n",
      "udachnyy\n",
      "bairiki\n",
      "plettenberg bay\n",
      "sayyan\n",
      "kulhudhuffushi\n",
      "bambanglipuro\n",
      "tuatapere\n",
      "kavaratti\n",
      "namatanai\n",
      "pangnirtung\n",
      "douglas\n",
      "jumla\n",
      "svetlogorsk\n",
      "porgera\n",
      "dongsheng\n",
      "rantepao\n",
      "biloela\n",
      "bendigo\n",
      "rudnogorsk\n",
      "penzance\n",
      "berdigestyakh\n",
      "ambon\n",
      "sidi ali\n",
      "benalla\n",
      "teknaf\n",
      "maningrida\n",
      "biu\n",
      "solnechnyy\n",
      "hegang\n",
      "karasjok\n",
      "san ramon\n",
      "ullapool\n",
      "moba\n",
      "caconda\n",
      "atbasar\n",
      "santa luzia\n",
      "meshchovsk\n",
      "nome\n",
      "temir\n",
      "goderich\n",
      "evensk\n",
      "vaitape\n",
      "napasar\n",
      "awbari\n",
      "oranjestad\n",
      "savannah bight\n",
      "tucson\n",
      "biskamzha\n",
      "terra nova\n",
      "kasempa\n",
      "pineville\n",
      "barentu\n",
      "tambacounda\n",
      "melo\n",
      "arlit\n",
      "ternate\n",
      "laerdalsoyri\n",
      "cerro punta\n",
      "gat\n",
      "minab\n",
      "west wendover\n",
      "prince rupert\n",
      "newport beach\n",
      "waiouru\n",
      "lefka\n",
      "boyolangu\n",
      "wuda\n",
      "cordoba\n",
      "laguna\n",
      "kalamare\n",
      "bulawayo\n",
      "chardara\n",
      "abalak\n",
      "inverell\n",
      "saint-donat-de-montcalm\n",
      "purpe\n",
      "dulag\n",
      "whitehorse\n",
      "dunda\n",
      "atambua\n",
      "teguldet\n",
      "pampas\n",
      "yenagoa\n",
      "severnyy\n",
      "tammisaari\n",
      "burley\n",
      "bandarbeyla\n",
      "najran\n",
      "lazarev\n",
      "ahuimanu\n",
      "pljevlja\n",
      "pilar\n"
     ]
    }
   ],
   "source": [
    "# Define the base URL\n",
    "base_url = \"http://api.openweathermap.org/data/2.5/weather?\"\n",
    "\n",
    "# Variables needed: Country, temperature, humidity, cloudiness, wind speed\n",
    "new_city = []\n",
    "country = []\n",
    "latit = []\n",
    "longit = []\n",
    "max_temp = []\n",
    "humid_ = []\n",
    "cloud_ = []\n",
    "wind = []\n",
    "\n",
    "print(f'List of Cities')\n",
    "# Build the query\n",
    "for city in cities:\n",
    "    try:\n",
    "        query_url = base_url + \"q=\" + city + \"&appid=\" + weather_api_key\n",
    "        response = requests.get(query_url).json()\n",
    "        new_city.append(response['name'])\n",
    "        country.append(response['sys']['country'])\n",
    "        latit.append(response['coord']['lat'])\n",
    "        longit.append(response['coord']['lon'])\n",
    "        max_temp.append(response['main']['temp_max'])\n",
    "        humid_.append(response['main']['humidity'])\n",
    "        cloud_.append(response['clouds']['all'])\n",
    "        wind.append(response['wind']['speed'])\n",
    "    except:\n",
    "        print(f'Data not found.')\n",
    "                \n",
    "    # Print log\n",
    "    print(city)\n",
    "\n",
    "    # Don't attack the server!\n",
    "    time.sleep(.1)"
   ]
  },
  {
   "cell_type": "markdown",
   "metadata": {},
   "source": [
    "### Convert Raw Data to DataFrame\n",
    "* Export the city data into a .csv.\n",
    "* Display the DataFrame"
   ]
  },
  {
   "cell_type": "code",
   "execution_count": 8,
   "metadata": {},
   "outputs": [
    {
     "name": "stdout",
     "output_type": "stream",
     "text": [
      "572 572 572 572 572 572 572 572\n"
     ]
    }
   ],
   "source": [
    "print(len(new_city), len(country), len(max_temp), len(latit), len(longit), len(humid_), len(cloud_), len(wind))"
   ]
  },
  {
   "cell_type": "code",
   "execution_count": 10,
   "metadata": {},
   "outputs": [
    {
     "data": {
      "text/html": [
       "<div>\n",
       "<style scoped>\n",
       "    .dataframe tbody tr th:only-of-type {\n",
       "        vertical-align: middle;\n",
       "    }\n",
       "\n",
       "    .dataframe tbody tr th {\n",
       "        vertical-align: top;\n",
       "    }\n",
       "\n",
       "    .dataframe thead th {\n",
       "        text-align: right;\n",
       "    }\n",
       "</style>\n",
       "<table border=\"1\" class=\"dataframe\">\n",
       "  <thead>\n",
       "    <tr style=\"text-align: right;\">\n",
       "      <th></th>\n",
       "      <th>City</th>\n",
       "      <th>Country</th>\n",
       "      <th>Cloudiness</th>\n",
       "      <th>Humidity</th>\n",
       "      <th>Lat</th>\n",
       "      <th>Lng</th>\n",
       "      <th>Max Temp</th>\n",
       "      <th>Wind Speed</th>\n",
       "    </tr>\n",
       "  </thead>\n",
       "  <tbody>\n",
       "    <tr>\n",
       "      <th>0</th>\n",
       "      <td>Kungurtug</td>\n",
       "      <td>RU</td>\n",
       "      <td>0</td>\n",
       "      <td>64</td>\n",
       "      <td>50.60</td>\n",
       "      <td>97.52</td>\n",
       "      <td>257.57</td>\n",
       "      <td>1.71</td>\n",
       "    </tr>\n",
       "    <tr>\n",
       "      <th>1</th>\n",
       "      <td>Omboue</td>\n",
       "      <td>GA</td>\n",
       "      <td>100</td>\n",
       "      <td>93</td>\n",
       "      <td>-1.57</td>\n",
       "      <td>9.26</td>\n",
       "      <td>298.85</td>\n",
       "      <td>1.34</td>\n",
       "    </tr>\n",
       "    <tr>\n",
       "      <th>2</th>\n",
       "      <td>George Town</td>\n",
       "      <td>MY</td>\n",
       "      <td>20</td>\n",
       "      <td>94</td>\n",
       "      <td>5.41</td>\n",
       "      <td>100.34</td>\n",
       "      <td>300.93</td>\n",
       "      <td>0.48</td>\n",
       "    </tr>\n",
       "    <tr>\n",
       "      <th>3</th>\n",
       "      <td>Hamilton</td>\n",
       "      <td>US</td>\n",
       "      <td>1</td>\n",
       "      <td>37</td>\n",
       "      <td>39.18</td>\n",
       "      <td>-84.53</td>\n",
       "      <td>278.71</td>\n",
       "      <td>4.60</td>\n",
       "    </tr>\n",
       "    <tr>\n",
       "      <th>4</th>\n",
       "      <td>Hobart</td>\n",
       "      <td>AU</td>\n",
       "      <td>90</td>\n",
       "      <td>62</td>\n",
       "      <td>-42.88</td>\n",
       "      <td>147.33</td>\n",
       "      <td>286.15</td>\n",
       "      <td>3.60</td>\n",
       "    </tr>\n",
       "  </tbody>\n",
       "</table>\n",
       "</div>"
      ],
      "text/plain": [
       "          City Country  Cloudiness  Humidity    Lat     Lng  Max Temp  \\\n",
       "0    Kungurtug      RU           0        64  50.60   97.52    257.57   \n",
       "1       Omboue      GA         100        93  -1.57    9.26    298.85   \n",
       "2  George Town      MY          20        94   5.41  100.34    300.93   \n",
       "3     Hamilton      US           1        37  39.18  -84.53    278.71   \n",
       "4       Hobart      AU          90        62 -42.88  147.33    286.15   \n",
       "\n",
       "   Wind Speed  \n",
       "0        1.71  \n",
       "1        1.34  \n",
       "2        0.48  \n",
       "3        4.60  \n",
       "4        3.60  "
      ]
     },
     "execution_count": 10,
     "metadata": {},
     "output_type": "execute_result"
    }
   ],
   "source": [
    "weather_df = pd.DataFrame({\n",
    "    \"City\": new_city,\n",
    "    \"Country\": country,\n",
    "    \"Cloudiness\": cloud_,\n",
    "    \"Humidity\": humid_,\n",
    "    \"Lat\": latit,\n",
    "    \"Lng\": longit,\n",
    "    \"Max Temp\": max_temp,\n",
    "    \"Wind Speed\": wind\n",
    "})\n",
    "weather_df.head()"
   ]
  },
  {
   "cell_type": "code",
   "execution_count": 12,
   "metadata": {},
   "outputs": [],
   "source": [
    "weather_df.to_csv(\"weather.csv\")"
   ]
  },
  {
   "cell_type": "markdown",
   "metadata": {},
   "source": [
    "### Plotting the Data\n",
    "* Use proper labeling of the plots using plot titles (including date of analysis) and axes labels.\n",
    "* Save the plotted figures as .pngs."
   ]
  },
  {
   "cell_type": "markdown",
   "metadata": {},
   "source": [
    "#### Latitude vs. Temperature Plot"
   ]
  },
  {
   "cell_type": "code",
   "execution_count": 15,
   "metadata": {
    "scrolled": true
   },
   "outputs": [
    {
     "data": {
      "text/plain": [
       "<matplotlib.axes._subplots.AxesSubplot at 0x1e5ef2bdc08>"
      ]
     },
     "execution_count": 15,
     "metadata": {},
     "output_type": "execute_result"
    },
    {
     "data": {
      "image/png": "[encoded data removed]",
      "text/plain": [
       "<Figure size 432x288 with 1 Axes>"
      ]
     },
     "metadata": {
      "needs_background": "light"
     },
     "output_type": "display_data"
    }
   ],
   "source": [
    "lattmp_plot = weather_df[[\"Lat\", \"Max Temp\"]]\n",
    "lattmp_plot.plot(kind='scatter', x=\"Lat\", y=\"Max Temp\")"
   ]
  },
  {
   "cell_type": "raw",
   "metadata": {},
   "source": []
  },
  {
   "cell_type": "markdown",
   "metadata": {},
   "source": [
    "There is a clear pattern in which the highest latitudes (nearest the poles) have the lowest max temps. Interestingly, this is more pronounced in the Northern Hemisphere than the Southern, which may be due to the land:ocean ratio, i.e. the Northern Hemisphere has more land than the Southern. The large midlatitude landmasses of North America and Eurasia have no comparable counterpart in the Southern Hemisphere. The range from 20-40 degrees latitude is markedly warmer in the Southern Hemisphere than the Northern.\n",
    "\n",
    "Inhabited lands do not extend as far to the south as they do to the north. South of Ushuaia is the Southern Ocean circling the Antarctic continent. Hence there are no cities in the 60-80 degrees latitude zone in the Southern Hemisphere."
   ]
  },
  {
   "cell_type": "markdown",
   "metadata": {},
   "source": [
    "#### Latitude vs. Humidity Plot"
   ]
  },
  {
   "cell_type": "code",
   "execution_count": 16,
   "metadata": {},
   "outputs": [
    {
     "data": {
      "text/plain": [
       "<matplotlib.axes._subplots.AxesSubplot at 0x1e5ef8d6188>"
      ]
     },
     "execution_count": 16,
     "metadata": {},
     "output_type": "execute_result"
    },
    {
     "data": {
      "image/png": "[encoded data removed]",
      "text/plain": [
       "<Figure size 432x288 with 1 Axes>"
      ]
     },
     "metadata": {
      "needs_background": "light"
     },
     "output_type": "display_data"
    }
   ],
   "source": [
    "lathum_plot = weather_df[[\"Lat\", \"Humidity\"]]\n",
    "lathum_plot.plot(kind='scatter', x=\"Lat\", y=\"Humidity\")"
   ]
  },
  {
   "cell_type": "markdown",
   "metadata": {},
   "source": [
    "There is little discernible relationship between latitude and humidity, except that somewhat drier conditions prevail in a few localities between 0 and 20 degrees north. These latitudes also have locations of high humidity. Conversely, the highest latitudes are lacking in low humidity localities."
   ]
  },
  {
   "cell_type": "markdown",
   "metadata": {},
   "source": [
    "#### Latitude vs. Cloudiness Plot"
   ]
  },
  {
   "cell_type": "code",
   "execution_count": 17,
   "metadata": {},
   "outputs": [
    {
     "data": {
      "text/plain": [
       "<matplotlib.axes._subplots.AxesSubplot at 0x1e5ef974d08>"
      ]
     },
     "execution_count": 17,
     "metadata": {},
     "output_type": "execute_result"
    },
    {
     "data": {
      "image/png": "[encoded data removed]",
      "text/plain": [
       "<Figure size 432x288 with 1 Axes>"
      ]
     },
     "metadata": {
      "needs_background": "light"
     },
     "output_type": "display_data"
    }
   ],
   "source": [
    "latcloud_plot = weather_df[[\"Lat\", \"Cloudiness\"]]\n",
    "latcloud_plot.plot(kind='scatter', x=\"Lat\", y=\"Cloudiness\")"
   ]
  },
  {
   "cell_type": "markdown",
   "metadata": {},
   "source": [
    "No pattern exists between latitude and cloudiness. The apparent bands at certain percent cloudiness may be an artifact of the way cloudiness is quantified. It is unexpected to find no difference in cloudiness between the notoriously dry Horse Latitudes, where most of the world's deserts are located, and the low pressure belts north and south of them."
   ]
  },
  {
   "cell_type": "markdown",
   "metadata": {},
   "source": [
    "#### Latitude vs. Wind Speed Plot"
   ]
  },
  {
   "cell_type": "code",
   "execution_count": 18,
   "metadata": {},
   "outputs": [
    {
     "data": {
      "text/plain": [
       "<matplotlib.axes._subplots.AxesSubplot at 0x1e5ef9dbc88>"
      ]
     },
     "execution_count": 18,
     "metadata": {},
     "output_type": "execute_result"
    },
    {
     "data": {
      "image/png": "[encoded data removed]",
      "text/plain": [
       "<Figure size 432x288 with 1 Axes>"
      ]
     },
     "metadata": {
      "needs_background": "light"
     },
     "output_type": "display_data"
    }
   ],
   "source": [
    "latwind_plot = weather_df[[\"Lat\", \"Wind Speed\"]]\n",
    "latwind_plot.plot(kind='scatter', x=\"Lat\", y=\"Wind Speed\")"
   ]
  },
  {
   "cell_type": "markdown",
   "metadata": {},
   "source": [
    "No apparent relationship exists between latitude and wind speed."
   ]
  },
  {
   "cell_type": "markdown",
   "metadata": {},
   "source": [
    "## Linear Regression"
   ]
  },
  {
   "cell_type": "code",
   "execution_count": 20,
   "metadata": {},
   "outputs": [],
   "source": [
    "# OPTIONAL: Create a function to create Linear Regression plots\n",
    "# slope, intercept, r_value, p_value, std_err = stats.linregress()"
   ]
  },
  {
   "cell_type": "code",
   "execution_count": 26,
   "metadata": {},
   "outputs": [],
   "source": [
    "# Create Northern and Southern Hemisphere DataFrames\n",
    "\n",
    "# Separate Northern from Southern Hemisphere\n",
    "north_cities = weather_df[weather_df[\"Lat\"] >= 0]\n",
    "south_cities = weather_df[weather_df[\"Lat\"] < 0]"
   ]
  },
  {
   "cell_type": "code",
   "execution_count": 27,
   "metadata": {},
   "outputs": [
    {
     "data": {
      "text/html": [
       "<div>\n",
       "<style scoped>\n",
       "    .dataframe tbody tr th:only-of-type {\n",
       "        vertical-align: middle;\n",
       "    }\n",
       "\n",
       "    .dataframe tbody tr th {\n",
       "        vertical-align: top;\n",
       "    }\n",
       "\n",
       "    .dataframe thead th {\n",
       "        text-align: right;\n",
       "    }\n",
       "</style>\n",
       "<table border=\"1\" class=\"dataframe\">\n",
       "  <thead>\n",
       "    <tr style=\"text-align: right;\">\n",
       "      <th></th>\n",
       "      <th>City</th>\n",
       "      <th>Country</th>\n",
       "      <th>Cloudiness</th>\n",
       "      <th>Humidity</th>\n",
       "      <th>Lat</th>\n",
       "      <th>Lng</th>\n",
       "      <th>Max Temp</th>\n",
       "      <th>Wind Speed</th>\n",
       "    </tr>\n",
       "  </thead>\n",
       "  <tbody>\n",
       "    <tr>\n",
       "      <th>0</th>\n",
       "      <td>Kungurtug</td>\n",
       "      <td>RU</td>\n",
       "      <td>0</td>\n",
       "      <td>64</td>\n",
       "      <td>50.60</td>\n",
       "      <td>97.52</td>\n",
       "      <td>257.57</td>\n",
       "      <td>1.71</td>\n",
       "    </tr>\n",
       "    <tr>\n",
       "      <th>2</th>\n",
       "      <td>George Town</td>\n",
       "      <td>MY</td>\n",
       "      <td>20</td>\n",
       "      <td>94</td>\n",
       "      <td>5.41</td>\n",
       "      <td>100.34</td>\n",
       "      <td>300.93</td>\n",
       "      <td>0.48</td>\n",
       "    </tr>\n",
       "    <tr>\n",
       "      <th>3</th>\n",
       "      <td>Hamilton</td>\n",
       "      <td>US</td>\n",
       "      <td>1</td>\n",
       "      <td>37</td>\n",
       "      <td>39.18</td>\n",
       "      <td>-84.53</td>\n",
       "      <td>278.71</td>\n",
       "      <td>4.60</td>\n",
       "    </tr>\n",
       "    <tr>\n",
       "      <th>6</th>\n",
       "      <td>Dikson</td>\n",
       "      <td>RU</td>\n",
       "      <td>95</td>\n",
       "      <td>94</td>\n",
       "      <td>73.51</td>\n",
       "      <td>80.55</td>\n",
       "      <td>263.80</td>\n",
       "      <td>6.16</td>\n",
       "    </tr>\n",
       "    <tr>\n",
       "      <th>7</th>\n",
       "      <td>Ixtapa</td>\n",
       "      <td>MX</td>\n",
       "      <td>90</td>\n",
       "      <td>65</td>\n",
       "      <td>20.70</td>\n",
       "      <td>-105.20</td>\n",
       "      <td>298.15</td>\n",
       "      <td>2.60</td>\n",
       "    </tr>\n",
       "  </tbody>\n",
       "</table>\n",
       "</div>"
      ],
      "text/plain": [
       "          City Country  Cloudiness  Humidity    Lat     Lng  Max Temp  \\\n",
       "0    Kungurtug      RU           0        64  50.60   97.52    257.57   \n",
       "2  George Town      MY          20        94   5.41  100.34    300.93   \n",
       "3     Hamilton      US           1        37  39.18  -84.53    278.71   \n",
       "6       Dikson      RU          95        94  73.51   80.55    263.80   \n",
       "7       Ixtapa      MX          90        65  20.70 -105.20    298.15   \n",
       "\n",
       "   Wind Speed  \n",
       "0        1.71  \n",
       "2        0.48  \n",
       "3        4.60  \n",
       "6        6.16  \n",
       "7        2.60  "
      ]
     },
     "execution_count": 27,
     "metadata": {},
     "output_type": "execute_result"
    }
   ],
   "source": [
    "# Create dataframes\n",
    "north_cities.head()"
   ]
  },
  {
   "cell_type": "code",
   "execution_count": 28,
   "metadata": {},
   "outputs": [
    {
     "data": {
      "text/html": [
       "<div>\n",
       "<style scoped>\n",
       "    .dataframe tbody tr th:only-of-type {\n",
       "        vertical-align: middle;\n",
       "    }\n",
       "\n",
       "    .dataframe tbody tr th {\n",
       "        vertical-align: top;\n",
       "    }\n",
       "\n",
       "    .dataframe thead th {\n",
       "        text-align: right;\n",
       "    }\n",
       "</style>\n",
       "<table border=\"1\" class=\"dataframe\">\n",
       "  <thead>\n",
       "    <tr style=\"text-align: right;\">\n",
       "      <th></th>\n",
       "      <th>City</th>\n",
       "      <th>Country</th>\n",
       "      <th>Cloudiness</th>\n",
       "      <th>Humidity</th>\n",
       "      <th>Lat</th>\n",
       "      <th>Lng</th>\n",
       "      <th>Max Temp</th>\n",
       "      <th>Wind Speed</th>\n",
       "    </tr>\n",
       "  </thead>\n",
       "  <tbody>\n",
       "    <tr>\n",
       "      <th>1</th>\n",
       "      <td>Omboue</td>\n",
       "      <td>GA</td>\n",
       "      <td>100</td>\n",
       "      <td>93</td>\n",
       "      <td>-1.57</td>\n",
       "      <td>9.26</td>\n",
       "      <td>298.85</td>\n",
       "      <td>1.34</td>\n",
       "    </tr>\n",
       "    <tr>\n",
       "      <th>4</th>\n",
       "      <td>Hobart</td>\n",
       "      <td>AU</td>\n",
       "      <td>90</td>\n",
       "      <td>62</td>\n",
       "      <td>-42.88</td>\n",
       "      <td>147.33</td>\n",
       "      <td>286.15</td>\n",
       "      <td>3.60</td>\n",
       "    </tr>\n",
       "    <tr>\n",
       "      <th>5</th>\n",
       "      <td>Bredasdorp</td>\n",
       "      <td>ZA</td>\n",
       "      <td>0</td>\n",
       "      <td>83</td>\n",
       "      <td>-34.53</td>\n",
       "      <td>20.04</td>\n",
       "      <td>295.15</td>\n",
       "      <td>2.60</td>\n",
       "    </tr>\n",
       "    <tr>\n",
       "      <th>9</th>\n",
       "      <td>Ancud</td>\n",
       "      <td>CL</td>\n",
       "      <td>75</td>\n",
       "      <td>68</td>\n",
       "      <td>-41.87</td>\n",
       "      <td>-73.82</td>\n",
       "      <td>291.15</td>\n",
       "      <td>5.70</td>\n",
       "    </tr>\n",
       "    <tr>\n",
       "      <th>15</th>\n",
       "      <td>Necochea</td>\n",
       "      <td>AR</td>\n",
       "      <td>0</td>\n",
       "      <td>50</td>\n",
       "      <td>-38.55</td>\n",
       "      <td>-58.74</td>\n",
       "      <td>305.37</td>\n",
       "      <td>4.02</td>\n",
       "    </tr>\n",
       "  </tbody>\n",
       "</table>\n",
       "</div>"
      ],
      "text/plain": [
       "          City Country  Cloudiness  Humidity    Lat     Lng  Max Temp  \\\n",
       "1       Omboue      GA         100        93  -1.57    9.26    298.85   \n",
       "4       Hobart      AU          90        62 -42.88  147.33    286.15   \n",
       "5   Bredasdorp      ZA           0        83 -34.53   20.04    295.15   \n",
       "9        Ancud      CL          75        68 -41.87  -73.82    291.15   \n",
       "15    Necochea      AR           0        50 -38.55  -58.74    305.37   \n",
       "\n",
       "    Wind Speed  \n",
       "1         1.34  \n",
       "4         3.60  \n",
       "5         2.60  \n",
       "9         5.70  \n",
       "15        4.02  "
      ]
     },
     "execution_count": 28,
     "metadata": {},
     "output_type": "execute_result"
    }
   ],
   "source": [
    "south_cities.head()"
   ]
  },
  {
   "cell_type": "markdown",
   "metadata": {},
   "source": [
    "####  Northern Hemisphere - Max Temp vs. Latitude Linear Regression"
   ]
  },
  {
   "cell_type": "code",
   "execution_count": 29,
   "metadata": {},
   "outputs": [
    {
     "data": {
      "text/plain": [
       "<matplotlib.axes._subplots.AxesSubplot at 0x1e5efb917c8>"
      ]
     },
     "execution_count": 29,
     "metadata": {},
     "output_type": "execute_result"
    },
    {
     "data": {
      "image/png": "[encoded data removed]",
      "text/plain": [
       "<Figure size 432x288 with 1 Axes>"
      ]
     },
     "metadata": {
      "needs_background": "light"
     },
     "output_type": "display_data"
    }
   ],
   "source": [
    "n_lattmp_plot = north_cities[[\"Lat\", \"Max Temp\"]]\n",
    "n_lattmp_plot.plot(kind='scatter', x=\"Lat\", y=\"Max Temp\")"
   ]
  },
  {
   "cell_type": "markdown",
   "metadata": {},
   "source": [
    "In the Northern Hemisphere, increasing distance from the equator correlates with decreasing max temp, but also with more variation in temp, as the high latitude temps show much wider range than the equatorial temps. Also, the highest temps are not at the equator, but near 10 degrees north."
   ]
  },
  {
   "cell_type": "markdown",
   "metadata": {},
   "source": [
    "####  Southern Hemisphere - Max Temp vs. Latitude Linear Regression"
   ]
  },
  {
   "cell_type": "code",
   "execution_count": 30,
   "metadata": {},
   "outputs": [
    {
     "data": {
      "text/plain": [
       "<matplotlib.axes._subplots.AxesSubplot at 0x1e5efbea588>"
      ]
     },
     "execution_count": 30,
     "metadata": {},
     "output_type": "execute_result"
    },
    {
     "data": {
      "image/png": "[encoded data removed]",
      "text/plain": [
       "<Figure size 432x288 with 1 Axes>"
      ]
     },
     "metadata": {
      "needs_background": "light"
     },
     "output_type": "display_data"
    }
   ],
   "source": [
    "s_lattmp_plot = south_cities[[\"Lat\", \"Max Temp\"]]\n",
    "s_lattmp_plot.plot(kind='scatter', x=\"Lat\", y=\"Max Temp\")"
   ]
  },
  {
   "cell_type": "markdown",
   "metadata": {},
   "source": [
    "In the Southern Hemisphere, although the same pattern exists with lower max temps the further one goes from the equator, it is less sharp. It might be instructive to factor in altitude, since even at the equator, there are cities in the Andes with cold climates due to high altitude. Nevertheless, the amount of variation appears more widespread than that, and it may be that the Southern Hemisphere's higher proportion of ocean relative to the Northern Hemisphere is adding more variables."
   ]
  },
  {
   "cell_type": "markdown",
   "metadata": {},
   "source": [
    "####  Northern Hemisphere - Humidity (%) vs. Latitude Linear Regression"
   ]
  },
  {
   "cell_type": "code",
   "execution_count": 31,
   "metadata": {},
   "outputs": [
    {
     "data": {
      "text/plain": [
       "<matplotlib.axes._subplots.AxesSubplot at 0x1e5efc53308>"
      ]
     },
     "execution_count": 31,
     "metadata": {},
     "output_type": "execute_result"
    },
    {
     "data": {
      "image/png": "[encoded data removed]",
      "text/plain": [
       "<Figure size 432x288 with 1 Axes>"
      ]
     },
     "metadata": {
      "needs_background": "light"
     },
     "output_type": "display_data"
    }
   ],
   "source": [
    "n_lathum_plot = north_cities[[\"Lat\", \"Humidity\"]]\n",
    "n_lathum_plot.plot(kind='scatter', x=\"Lat\", y=\"Humidity\")"
   ]
  },
  {
   "cell_type": "markdown",
   "metadata": {},
   "source": [
    "In the Northern Hemisphere, there is a definite lack of dry climates further from the equator, although even south of 40 degrees, where dry localities are present, there are still a lot of humid localities, too, and the max humidity does not change much with latitude."
   ]
  },
  {
   "cell_type": "markdown",
   "metadata": {},
   "source": [
    "####  Southern Hemisphere - Humidity (%) vs. Latitude Linear Regression"
   ]
  },
  {
   "cell_type": "code",
   "execution_count": 32,
   "metadata": {},
   "outputs": [
    {
     "data": {
      "text/plain": [
       "<matplotlib.axes._subplots.AxesSubplot at 0x1e5efcc3288>"
      ]
     },
     "execution_count": 32,
     "metadata": {},
     "output_type": "execute_result"
    },
    {
     "data": {
      "image/png": "[encoded data removed]",
      "text/plain": [
       "<Figure size 432x288 with 1 Axes>"
      ]
     },
     "metadata": {
      "needs_background": "light"
     },
     "output_type": "display_data"
    }
   ],
   "source": [
    "s_lathum_plot = south_cities[[\"Lat\", \"Humidity\"]]\n",
    "s_lathum_plot.plot(kind='scatter', x=\"Lat\", y=\"Humidity\")"
   ]
  },
  {
   "cell_type": "markdown",
   "metadata": {},
   "source": [
    "The Southern Hemisphere shows no clear cut pattern in humidity vs. latitude, except that on the whole, humid climates are slightly more prevalent than dry ones. This, again, may be due to the lack of expansive landmasses and prevalence of maritime climates -- Chile's Atacama Desert, where no rain falls, is nevertheless watered by coastal fog."
   ]
  },
  {
   "cell_type": "markdown",
   "metadata": {},
   "source": [
    "####  Northern Hemisphere - Cloudiness (%) vs. Latitude Linear Regression"
   ]
  },
  {
   "cell_type": "code",
   "execution_count": 33,
   "metadata": {},
   "outputs": [
    {
     "data": {
      "text/plain": [
       "<matplotlib.axes._subplots.AxesSubplot at 0x1e5efd07d88>"
      ]
     },
     "execution_count": 33,
     "metadata": {},
     "output_type": "execute_result"
    },
    {
     "data": {
      "image/png": "[encoded data removed]",
      "text/plain": [
       "<Figure size 432x288 with 1 Axes>"
      ]
     },
     "metadata": {
      "needs_background": "light"
     },
     "output_type": "display_data"
    }
   ],
   "source": [
    "n_latcld_plot = north_cities[[\"Lat\", \"Cloudiness\"]]\n",
    "n_latcld_plot.plot(kind='scatter', x=\"Lat\", y=\"Cloudiness\")"
   ]
  },
  {
   "cell_type": "markdown",
   "metadata": {},
   "source": [
    "As on the global graph, the Northern Hemisphere graph shows no correlation."
   ]
  },
  {
   "cell_type": "markdown",
   "metadata": {},
   "source": [
    "####  Southern Hemisphere - Cloudiness (%) vs. Latitude Linear Regression"
   ]
  },
  {
   "cell_type": "code",
   "execution_count": 34,
   "metadata": {},
   "outputs": [
    {
     "data": {
      "text/plain": [
       "<matplotlib.axes._subplots.AxesSubplot at 0x1e5efd6e788>"
      ]
     },
     "execution_count": 34,
     "metadata": {},
     "output_type": "execute_result"
    },
    {
     "data": {
      "image/png": "[encoded data removed]",
      "text/plain": [
       "<Figure size 432x288 with 1 Axes>"
      ]
     },
     "metadata": {
      "needs_background": "light"
     },
     "output_type": "display_data"
    }
   ],
   "source": [
    "s_latcld_plot = south_cities[[\"Lat\", \"Cloudiness\"]]\n",
    "s_latcld_plot.plot(kind='scatter', x=\"Lat\", y=\"Cloudiness\")"
   ]
  },
  {
   "cell_type": "markdown",
   "metadata": {},
   "source": [
    "As on the global graph, the Southern Hemisphere graph shows no correlation."
   ]
  },
  {
   "cell_type": "markdown",
   "metadata": {},
   "source": [
    "####  Northern Hemisphere - Wind Speed (mph) vs. Latitude Linear Regression"
   ]
  },
  {
   "cell_type": "code",
   "execution_count": 35,
   "metadata": {},
   "outputs": [
    {
     "data": {
      "text/plain": [
       "<matplotlib.axes._subplots.AxesSubplot at 0x1e5efdcdbc8>"
      ]
     },
     "execution_count": 35,
     "metadata": {},
     "output_type": "execute_result"
    },
    {
     "data": {
      "image/png": "[encoded data removed]",
      "text/plain": [
       "<Figure size 432x288 with 1 Axes>"
      ]
     },
     "metadata": {
      "needs_background": "light"
     },
     "output_type": "display_data"
    }
   ],
   "source": [
    "n_latwnd_plot = north_cities[[\"Lat\", \"Wind Speed\"]]\n",
    "n_latwnd_plot.plot(kind='scatter', x=\"Lat\", y=\"Wind Speed\")"
   ]
  },
  {
   "cell_type": "markdown",
   "metadata": {},
   "source": [
    "Wind speed is highly variable at every latitude, with no one latitude showing consistently higher or lower wind speeds. "
   ]
  },
  {
   "cell_type": "markdown",
   "metadata": {},
   "source": [
    "####  Southern Hemisphere - Wind Speed (mph) vs. Latitude Linear Regression"
   ]
  },
  {
   "cell_type": "code",
   "execution_count": 36,
   "metadata": {},
   "outputs": [
    {
     "data": {
      "text/plain": [
       "<matplotlib.axes._subplots.AxesSubplot at 0x1e5efe54848>"
      ]
     },
     "execution_count": 36,
     "metadata": {},
     "output_type": "execute_result"
    },
    {
     "data": {
      "image/png": "[encoded data removed]",
      "text/plain": [
       "<Figure size 432x288 with 1 Axes>"
      ]
     },
     "metadata": {
      "needs_background": "light"
     },
     "output_type": "display_data"
    }
   ],
   "source": [
    "s_latwnd_plot = south_cities[[\"Lat\", \"Wind Speed\"]]\n",
    "s_latwnd_plot.plot(kind='scatter', x=\"Lat\", y=\"Wind Speed\")"
   ]
  },
  {
   "cell_type": "markdown",
   "metadata": {},
   "source": [
    "Wind speed varies in the Southern Hemisphere also, with one notable distiction: the few localities furthest south average higher wind speeds. This is likely due to their location in the Southern Ocean, with the notorious \"Roaring Forties,\" \"Furious Fifties,\" and \"Screaming Sixties,\" with winds meeting little resistance from land to slow them. Unexpectedly, though, even the highest wind speed in the Southern Hemisphere, near 45 degrees south, was less than the highest in the Northern Hemisphere, near 65 degrees north. This may be due to a lack of cities in Antarctica."
   ]
  }
 ],
 "metadata": {
  "anaconda-cloud": {},
  "kernel_info": {
   "name": "python3"
  },
  "kernelspec": {
   "display_name": "Python 3",
   "language": "python",
   "name": "python3"
  },
  "language_info": {
   "codemirror_mode": {
    "name": "ipython",
    "version": 3
   },
   "file_extension": ".py",
   "mimetype": "text/x-python",
   "name": "python",
   "nbconvert_exporter": "python",
   "pygments_lexer": "ipython3",
   "version": "3.7.6"
  },
  "latex_envs": {
   "LaTeX_envs_menu_present": true,
   "autoclose": false,
   "autocomplete": true,
   "bibliofile": "biblio.bib",
   "cite_by": "apalike",
   "current_citInitial": 1,
   "eqLabelWithNumbers": true,
   "eqNumInitial": 1,
   "hotkeys": {
    "equation": "Ctrl-E",
    "itemize": "Ctrl-I"
   },
   "labels_anchors": false,
   "latex_user_defs": false,
   "report_style_numbering": false,
   "user_envs_cfg": false
  },
  "nteract": {
   "version": "0.12.3"
  }
 },
 "nbformat": 4,
 "nbformat_minor": 2
}
